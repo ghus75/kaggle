{
 "cells": [
  {
   "cell_type": "markdown",
   "metadata": {},
   "source": [
    "# dog-breed-identification : \n",
    "# linear model on top of convolution layers of pretrained models\n",
    "\n",
    "# Keras 2.0 TF backend\n",
    "\n",
    "# v3 : tests on Inception \n",
    "\n",
    "## - transfer learning, data augmentation (use of generators only)"
   ]
  },
  {
   "cell_type": "code",
   "execution_count": 169,
   "metadata": {
    "collapsed": true
   },
   "outputs": [],
   "source": [
    "import os, sys\n",
    "import time\n",
    "%matplotlib inline\n",
    "import matplotlib.pyplot as plt\n",
    "import numpy as np\n",
    "from numpy.random import random, permutation\n",
    "\n",
    "import pandas as pd\n",
    "\n",
    "from glob import glob\n",
    "import shutil\n",
    "from shutil import move, copyfile\n",
    "from distutils.dir_util import copy_tree\n",
    "\n",
    "\n",
    "from keras.applications import vgg16\n",
    "\n",
    "from keras.applications.resnet50 import ResNet50\n",
    "\n",
    "\n",
    "from keras.applications import xception\n",
    "from keras.applications.inception_v3 import InceptionV3\n",
    "\n",
    "from keras.preprocessing import image\n",
    "from keras.preprocessing.image import ImageDataGenerator\n",
    "from keras.models import Sequential, Model\n",
    "from keras.layers import Activation,BatchNormalization,GlobalAveragePooling2D, Input\n",
    "from keras.layers.core import Flatten, Dense, Dropout, Lambda\n",
    "from keras.regularizers import l2#, activity_l2\n",
    "from keras.optimizers import RMSprop, Adam\n",
    "from keras.utils.data_utils import get_file\n",
    "from keras.layers.convolutional import Convolution2D, MaxPooling2D, ZeroPadding2D\n",
    "\n",
    "import sklearn\n",
    "from sklearn.metrics import confusion_matrix\n",
    "\n",
    "#input_tensor = Input(shape=(3,224,224)) #Theano backend\n",
    "#input_tensor = Input(shape=(224,224,3)) #TF backend"
   ]
  },
  {
   "cell_type": "code",
   "execution_count": 2,
   "metadata": {},
   "outputs": [
    {
     "name": "stdout",
     "output_type": "stream",
     "text": [
      "/home/gael/Bureau/kaggle/dog-breed-identification\r\n"
     ]
    }
   ],
   "source": [
    "!pwd"
   ]
  },
  {
   "cell_type": "code",
   "execution_count": 26,
   "metadata": {
    "collapsed": true
   },
   "outputs": [],
   "source": [
    "#os.chdir('..') "
   ]
  },
  {
   "cell_type": "code",
   "execution_count": 3,
   "metadata": {},
   "outputs": [
    {
     "data": {
      "text/plain": [
       "'/home/gael/Bureau/kaggle/dog-breed-identification'"
      ]
     },
     "execution_count": 3,
     "metadata": {},
     "output_type": "execute_result"
    }
   ],
   "source": [
    "HOME_DIR = os.getcwd()\n",
    "HOME_DIR   # should be ~/.../dog-breed-identification"
   ]
  },
  {
   "cell_type": "code",
   "execution_count": 4,
   "metadata": {},
   "outputs": [
    {
     "data": {
      "text/plain": [
       "'/home/gael/Bureau/kaggle/dog-breed-identification/data'"
      ]
     },
     "execution_count": 4,
     "metadata": {},
     "output_type": "execute_result"
    }
   ],
   "source": [
    "DATA_HOME_DIR = HOME_DIR + '/data'\n",
    "DATA_HOME_DIR"
   ]
  },
  {
   "cell_type": "code",
   "execution_count": 5,
   "metadata": {},
   "outputs": [
    {
     "name": "stdout",
     "output_type": "stream",
     "text": [
      "/home/gael/Bureau/kaggle/dog-breed-identification/data\n"
     ]
    }
   ],
   "source": [
    "%cd $DATA_HOME_DIR"
   ]
  },
  {
   "cell_type": "markdown",
   "metadata": {},
   "source": [
    "# 1. Data organization for Keras framework"
   ]
  },
  {
   "cell_type": "markdown",
   "metadata": {
    "hidden": true
   },
   "source": [
    "## start from basic structure:\n",
    "        \n",
    "    /data\n",
    "        labels.csv\n",
    "        /train\n",
    "        /test\n",
    "    \n",
    "## build:\n",
    "\n",
    "    /data\n",
    "        /train\n",
    "            /[120 categories]\n",
    "        /test\n",
    "            /unknown\n",
    "        /results\n",
    "        /valid\n",
    "            /[120 categories]\n",
    "        \n",
    "        /sample\n",
    "            /train\n",
    "                /[10 categories]\n",
    "            /valid\n",
    "                /[10 categories]\n",
    "            /results\n",
    "            /test"
   ]
  },
  {
   "cell_type": "code",
   "execution_count": null,
   "metadata": {
    "collapsed": true
   },
   "outputs": [],
   "source": []
  },
  {
   "cell_type": "markdown",
   "metadata": {},
   "source": [
    "## 1.1. Data inspection / define categories"
   ]
  },
  {
   "cell_type": "code",
   "execution_count": 6,
   "metadata": {
    "collapsed": true
   },
   "outputs": [],
   "source": [
    "labels=pd.read_csv('labels.csv')"
   ]
  },
  {
   "cell_type": "code",
   "execution_count": 7,
   "metadata": {},
   "outputs": [
    {
     "data": {
      "text/html": [
       "<div>\n",
       "<style>\n",
       "    .dataframe thead tr:only-child th {\n",
       "        text-align: right;\n",
       "    }\n",
       "\n",
       "    .dataframe thead th {\n",
       "        text-align: left;\n",
       "    }\n",
       "\n",
       "    .dataframe tbody tr th {\n",
       "        vertical-align: top;\n",
       "    }\n",
       "</style>\n",
       "<table border=\"1\" class=\"dataframe\">\n",
       "  <thead>\n",
       "    <tr style=\"text-align: right;\">\n",
       "      <th></th>\n",
       "      <th>id</th>\n",
       "      <th>breed</th>\n",
       "    </tr>\n",
       "  </thead>\n",
       "  <tbody>\n",
       "    <tr>\n",
       "      <th>0</th>\n",
       "      <td>000bec180eb18c7604dcecc8fe0dba07</td>\n",
       "      <td>boston_bull</td>\n",
       "    </tr>\n",
       "    <tr>\n",
       "      <th>1</th>\n",
       "      <td>001513dfcb2ffafc82cccf4d8bbaba97</td>\n",
       "      <td>dingo</td>\n",
       "    </tr>\n",
       "    <tr>\n",
       "      <th>2</th>\n",
       "      <td>001cdf01b096e06d78e9e5112d419397</td>\n",
       "      <td>pekinese</td>\n",
       "    </tr>\n",
       "    <tr>\n",
       "      <th>3</th>\n",
       "      <td>00214f311d5d2247d5dfe4fe24b2303d</td>\n",
       "      <td>bluetick</td>\n",
       "    </tr>\n",
       "    <tr>\n",
       "      <th>4</th>\n",
       "      <td>0021f9ceb3235effd7fcde7f7538ed62</td>\n",
       "      <td>golden_retriever</td>\n",
       "    </tr>\n",
       "  </tbody>\n",
       "</table>\n",
       "</div>"
      ],
      "text/plain": [
       "                                 id             breed\n",
       "0  000bec180eb18c7604dcecc8fe0dba07       boston_bull\n",
       "1  001513dfcb2ffafc82cccf4d8bbaba97             dingo\n",
       "2  001cdf01b096e06d78e9e5112d419397          pekinese\n",
       "3  00214f311d5d2247d5dfe4fe24b2303d          bluetick\n",
       "4  0021f9ceb3235effd7fcde7f7538ed62  golden_retriever"
      ]
     },
     "execution_count": 7,
     "metadata": {},
     "output_type": "execute_result"
    }
   ],
   "source": [
    "labels.head()"
   ]
  },
  {
   "cell_type": "code",
   "execution_count": 8,
   "metadata": {},
   "outputs": [
    {
     "data": {
      "text/plain": [
       "<matplotlib.axes._subplots.AxesSubplot at 0x7f9e797d0cd0>"
      ]
     },
     "execution_count": 8,
     "metadata": {},
     "output_type": "execute_result"
    },
    {
     "data": {
      "image/png": "[encoded data removed]",
      "text/plain": [
       "<matplotlib.figure.Figure at 0x7f9e797d0750>"
      ]
     },
     "metadata": {},
     "output_type": "display_data"
    }
   ],
   "source": [
    "labels['breed'].value_counts().plot(kind='bar', figsize=(20,10))"
   ]
  },
  {
   "cell_type": "markdown",
   "metadata": {},
   "source": [
    "### list of 120 categories for /data/train and /data/valid"
   ]
  },
  {
   "cell_type": "code",
   "execution_count": 9,
   "metadata": {},
   "outputs": [
    {
     "data": {
      "text/plain": [
       "'affenpinscher'"
      ]
     },
     "execution_count": 9,
     "metadata": {},
     "output_type": "execute_result"
    }
   ],
   "source": [
    "#alphabetical list of breeds\n",
    "alpha_breed_list = list(labels['breed'].value_counts().index.sort_values('breed')[0])\n",
    "alpha_breed_list[0]"
   ]
  },
  {
   "cell_type": "markdown",
   "metadata": {},
   "source": [
    "### list of top 10 categories for /data/sample/train and /data/sample/valid directories"
   ]
  },
  {
   "cell_type": "code",
   "execution_count": 10,
   "metadata": {},
   "outputs": [
    {
     "data": {
      "text/plain": [
       "Index([u'scottish_deerhound', u'maltese_dog', u'afghan_hound', u'entlebucher',\n",
       "       u'bernese_mountain_dog', u'shih-tzu', u'pomeranian', u'great_pyrenees',\n",
       "       u'basenji', u'samoyed'],\n",
       "      dtype='object')"
      ]
     },
     "execution_count": 10,
     "metadata": {},
     "output_type": "execute_result"
    }
   ],
   "source": [
    "top_ten_cat = labels['breed'].value_counts().index[0:10]\n",
    "top_ten_cat"
   ]
  },
  {
   "cell_type": "markdown",
   "metadata": {},
   "source": [
    "## 1.2. Make directories / copy and move files "
   ]
  },
  {
   "cell_type": "markdown",
   "metadata": {},
   "source": [
    "### make directories : /valid --- /results --- /sample/train ---  /sample/valid"
   ]
  },
  {
   "cell_type": "code",
   "execution_count": 11,
   "metadata": {
    "collapsed": true
   },
   "outputs": [],
   "source": [
    "if not os.path.exists(DATA_HOME_DIR + '/valid/'): os.mkdir(DATA_HOME_DIR + '/valid/')\n",
    "if not os.path.exists(DATA_HOME_DIR + '/results/'): os.mkdir(DATA_HOME_DIR + '/results/')\n",
    "if not os.path.exists(DATA_HOME_DIR + '/sample/'): os.mkdir(DATA_HOME_DIR + '/sample/')\n",
    "if not os.path.exists(DATA_HOME_DIR + '/sample/train/'): os.mkdir(DATA_HOME_DIR + '/sample/train/')\n",
    "if not os.path.exists(DATA_HOME_DIR + '/sample/test/'): os.mkdir(DATA_HOME_DIR + '/sample/test/')\n",
    "if not os.path.exists(DATA_HOME_DIR + '/sample/valid/'): os.mkdir(DATA_HOME_DIR + '/sample/valid/')\n",
    "if not os.path.exists(DATA_HOME_DIR + '/sample/results/'): os.mkdir(DATA_HOME_DIR + '/sample/results/')"
   ]
  },
  {
   "cell_type": "markdown",
   "metadata": {},
   "source": [
    "### move 10% of /train to /valid"
   ]
  },
  {
   "cell_type": "code",
   "execution_count": 12,
   "metadata": {
    "collapsed": true
   },
   "outputs": [],
   "source": [
    "from glob import glob"
   ]
  },
  {
   "cell_type": "code",
   "execution_count": 13,
   "metadata": {},
   "outputs": [
    {
     "name": "stdout",
     "output_type": "stream",
     "text": [
      "/home/gael/Bureau/kaggle/dog-breed-identification/data/train\n"
     ]
    }
   ],
   "source": [
    "%cd $DATA_HOME_DIR/train\n",
    "g = glob('*.jpg')\n",
    "shuf = np.random.permutation(g)"
   ]
  },
  {
   "cell_type": "code",
   "execution_count": 14,
   "metadata": {
    "collapsed": true
   },
   "outputs": [],
   "source": [
    "#first 10% of shuffled files\n",
    "valid_samples = shuf[:len(shuf)//10]\n",
    "train_samples = shuf[len(shuf)//10:]"
   ]
  },
  {
   "cell_type": "code",
   "execution_count": 15,
   "metadata": {
    "collapsed": true
   },
   "outputs": [],
   "source": [
    "#lists of train and valid image IDs\n",
    "valid_samples_id = [valid_samples[i][:-4] for i in range(len(valid_samples))]\n",
    "train_samples_id = [train_samples[i][:-4] for i in range(len(train_samples))]"
   ]
  },
  {
   "cell_type": "code",
   "execution_count": 16,
   "metadata": {
    "collapsed": true
   },
   "outputs": [],
   "source": [
    "#dataFrames containing train_samples and valid_samples\n",
    "labels_train = labels[labels['id'].isin(train_samples_id)]\n",
    "labels_valid = labels[labels['id'].isin(valid_samples_id)]"
   ]
  },
  {
   "cell_type": "code",
   "execution_count": 17,
   "metadata": {
    "collapsed": true
   },
   "outputs": [],
   "source": [
    "import shutil\n",
    "from shutil import move, copyfile"
   ]
  },
  {
   "cell_type": "code",
   "execution_count": 31,
   "metadata": {
    "collapsed": true
   },
   "outputs": [],
   "source": [
    "for i in range (len(shuf)//10):\n",
    "    shutil.move(shuf[i], DATA_HOME_DIR + '/valid/' + shuf[i])\n",
    "#os.chdir('..')  "
   ]
  },
  {
   "cell_type": "code",
   "execution_count": 32,
   "metadata": {},
   "outputs": [
    {
     "name": "stdout",
     "output_type": "stream",
     "text": [
      "9200\r\n"
     ]
    }
   ],
   "source": [
    "%ls $DATA_HOME_DIR/train | wc -l"
   ]
  },
  {
   "cell_type": "code",
   "execution_count": 33,
   "metadata": {},
   "outputs": [
    {
     "name": "stdout",
     "output_type": "stream",
     "text": [
      "1022\r\n"
     ]
    }
   ],
   "source": [
    "%ls $DATA_HOME_DIR/valid | wc -l"
   ]
  },
  {
   "cell_type": "markdown",
   "metadata": {},
   "source": [
    "### create 120 category subdirectories in /train and /valid"
   ]
  },
  {
   "cell_type": "code",
   "execution_count": 34,
   "metadata": {
    "collapsed": true
   },
   "outputs": [],
   "source": [
    "#create directories for ea. subcategory\n",
    "for i in range(len(alpha_breed_list)):\n",
    "    if not os.path.exists(DATA_HOME_DIR + '/train/' + alpha_breed_list[i]): \n",
    "        os.mkdir(DATA_HOME_DIR + '/train/' + alpha_breed_list[i])\n",
    "    if not os.path.exists(DATA_HOME_DIR + '/valid/' + alpha_breed_list[i]): \n",
    "        os.mkdir(DATA_HOME_DIR + '/valid/' + alpha_breed_list[i])"
   ]
  },
  {
   "cell_type": "markdown",
   "metadata": {},
   "source": [
    "### move files in their category directories "
   ]
  },
  {
   "cell_type": "code",
   "execution_count": 35,
   "metadata": {},
   "outputs": [
    {
     "name": "stdout",
     "output_type": "stream",
     "text": [
      "/home/gael/Bureau/kaggle/dog-breed-identification/data/train\n"
     ]
    }
   ],
   "source": [
    "%cd $DATA_HOME_DIR/train"
   ]
  },
  {
   "cell_type": "code",
   "execution_count": 36,
   "metadata": {
    "collapsed": true
   },
   "outputs": [],
   "source": [
    "#put each image from training set in its category\n",
    "for i in range(len(labels_train.index)):\n",
    "    shutil.move(labels_train.values[i][0]+'.jpg', './'+labels_train.values[i][1]+'/'+labels_train.values[i][0]+'.jpg')"
   ]
  },
  {
   "cell_type": "code",
   "execution_count": 37,
   "metadata": {},
   "outputs": [
    {
     "name": "stdout",
     "output_type": "stream",
     "text": [
      "/home/gael/Bureau/kaggle/dog-breed-identification/data/valid\n"
     ]
    }
   ],
   "source": [
    "%cd $DATA_HOME_DIR/valid"
   ]
  },
  {
   "cell_type": "code",
   "execution_count": 38,
   "metadata": {
    "collapsed": true
   },
   "outputs": [],
   "source": [
    "#put each image from valid set in its category\n",
    "for i in range(len(labels_valid.index)):\n",
    "    shutil.move(labels_valid.values[i][0]+'.jpg', './'+labels_valid.values[i][1]+'/'+labels_valid.values[i][0]+'.jpg')"
   ]
  },
  {
   "cell_type": "code",
   "execution_count": null,
   "metadata": {
    "collapsed": true
   },
   "outputs": [],
   "source": []
  },
  {
   "cell_type": "markdown",
   "metadata": {},
   "source": [
    "### make test/unknown directory, move test files"
   ]
  },
  {
   "cell_type": "code",
   "execution_count": 39,
   "metadata": {},
   "outputs": [
    {
     "name": "stdout",
     "output_type": "stream",
     "text": [
      "/home/gael/Bureau/kaggle/dog-breed-identification/data/test\n"
     ]
    }
   ],
   "source": [
    "%cd $DATA_HOME_DIR/test"
   ]
  },
  {
   "cell_type": "code",
   "execution_count": 40,
   "metadata": {
    "collapsed": true
   },
   "outputs": [],
   "source": [
    "if not os.path.exists(DATA_HOME_DIR + '/test/unknown/'): \n",
    "        os.mkdir(DATA_HOME_DIR + '/test/unknown/')"
   ]
  },
  {
   "cell_type": "code",
   "execution_count": 41,
   "metadata": {},
   "outputs": [
    {
     "name": "stdout",
     "output_type": "stream",
     "text": [
      "/home/gael/Bureau/kaggle/dog-breed-identification/data/test/unknown\n"
     ]
    }
   ],
   "source": [
    "%cd $DATA_HOME_DIR/test/unknown"
   ]
  },
  {
   "cell_type": "code",
   "execution_count": 42,
   "metadata": {
    "collapsed": true
   },
   "outputs": [],
   "source": [
    "!mv $DATA_HOME_DIR/test/*.jpg ."
   ]
  },
  {
   "cell_type": "markdown",
   "metadata": {},
   "source": [
    "## Copy sample files"
   ]
  },
  {
   "cell_type": "markdown",
   "metadata": {},
   "source": [
    "### copy top10 categories directories to /sample/train and /sample/valid "
   ]
  },
  {
   "cell_type": "code",
   "execution_count": 43,
   "metadata": {
    "collapsed": true
   },
   "outputs": [],
   "source": [
    "from distutils.dir_util import copy_tree"
   ]
  },
  {
   "cell_type": "code",
   "execution_count": 44,
   "metadata": {},
   "outputs": [
    {
     "name": "stdout",
     "output_type": "stream",
     "text": [
      "/home/gael/Bureau/kaggle/dog-breed-identification/data/train\n"
     ]
    }
   ],
   "source": [
    "%cd $DATA_HOME_DIR/train"
   ]
  },
  {
   "cell_type": "code",
   "execution_count": 45,
   "metadata": {
    "collapsed": true
   },
   "outputs": [],
   "source": [
    "for i in range(len(top_ten_cat[:10])):\n",
    "    copy_tree(DATA_HOME_DIR + '/train/' + top_ten_cat[i], DATA_HOME_DIR + '/sample/train/' + top_ten_cat[i])\n",
    "    copy_tree(DATA_HOME_DIR + '/valid/' + top_ten_cat[i], DATA_HOME_DIR + '/sample/valid/' + top_ten_cat[i])"
   ]
  },
  {
   "cell_type": "markdown",
   "metadata": {
    "collapsed": true
   },
   "source": [
    "### copy 10% of test/unknown into sample/test/unknown "
   ]
  },
  {
   "cell_type": "code",
   "execution_count": 46,
   "metadata": {},
   "outputs": [
    {
     "name": "stdout",
     "output_type": "stream",
     "text": [
      "/home/gael/Bureau/kaggle/dog-breed-identification/data/test/unknown\n"
     ]
    }
   ],
   "source": [
    "%cd $DATA_HOME_DIR/test/unknown\n",
    "g = glob('*.jpg')\n",
    "shuf = np.random.permutation(g)"
   ]
  },
  {
   "cell_type": "code",
   "execution_count": 47,
   "metadata": {
    "collapsed": true
   },
   "outputs": [],
   "source": [
    "if not os.path.exists(DATA_HOME_DIR + '/sample/test/unknown/'): \n",
    "        os.mkdir(DATA_HOME_DIR + '/sample/test/unknown/')"
   ]
  },
  {
   "cell_type": "code",
   "execution_count": 48,
   "metadata": {
    "collapsed": true
   },
   "outputs": [],
   "source": [
    "#first 10% of shuffled files\n",
    "test_samples = shuf[:len(shuf)//10]"
   ]
  },
  {
   "cell_type": "code",
   "execution_count": 49,
   "metadata": {},
   "outputs": [
    {
     "name": "stdout",
     "output_type": "stream",
     "text": [
      "/home/gael/Bureau/kaggle/dog-breed-identification/data/test/unknown\n"
     ]
    }
   ],
   "source": [
    "%cd $DATA_HOME_DIR/test/unknown\n",
    "for i in range (len(shuf)//10):\n",
    "    shutil.copyfile(shuf[i], DATA_HOME_DIR + '/sample/test/unknown/' + shuf[i])"
   ]
  },
  {
   "cell_type": "code",
   "execution_count": null,
   "metadata": {
    "collapsed": true
   },
   "outputs": [],
   "source": []
  },
  {
   "cell_type": "markdown",
   "metadata": {},
   "source": [
    "# Paths"
   ]
  },
  {
   "cell_type": "code",
   "execution_count": 18,
   "metadata": {},
   "outputs": [
    {
     "name": "stdout",
     "output_type": "stream",
     "text": [
      "/home/gael/Bureau/kaggle/dog-breed-identification/data\n"
     ]
    }
   ],
   "source": [
    "%cd $DATA_HOME_DIR"
   ]
  },
  {
   "cell_type": "code",
   "execution_count": 19,
   "metadata": {
    "collapsed": true
   },
   "outputs": [],
   "source": [
    "#full dataset\n",
    "#path, test_path, output_dim = DATA_HOME_DIR + '/', DATA_HOME_DIR +'/test/', 120\n",
    "\n",
    "#sample dataset\n",
    "path, test_path, output_dim = DATA_HOME_DIR + \"/sample/\", DATA_HOME_DIR +'/sample/test/', 10\n",
    "\n",
    "model_path = path + 'models/'\n",
    "if not os.path.exists(model_path): os.mkdir(model_path)"
   ]
  },
  {
   "cell_type": "code",
   "execution_count": 20,
   "metadata": {},
   "outputs": [
    {
     "data": {
      "text/plain": [
       "'/home/gael/Bureau/kaggle/dog-breed-identification/data/sample/models/'"
      ]
     },
     "execution_count": 20,
     "metadata": {},
     "output_type": "execute_result"
    }
   ],
   "source": [
    "model_path"
   ]
  },
  {
   "cell_type": "code",
   "execution_count": 21,
   "metadata": {},
   "outputs": [
    {
     "data": {
      "text/plain": [
       "'/home/gael/Bureau/kaggle/dog-breed-identification/data/sample/test/'"
      ]
     },
     "execution_count": 21,
     "metadata": {},
     "output_type": "execute_result"
    }
   ],
   "source": [
    "test_path"
   ]
  },
  {
   "cell_type": "markdown",
   "metadata": {},
   "source": [
    "# 2. 224x224 models"
   ]
  },
  {
   "cell_type": "code",
   "execution_count": null,
   "metadata": {
    "collapsed": true
   },
   "outputs": [],
   "source": []
  },
  {
   "cell_type": "code",
   "execution_count": 22,
   "metadata": {
    "collapsed": true
   },
   "outputs": [],
   "source": [
    "def write_submission_file(test_probs, model_name, clip_value = 0):\n",
    "    filenames_df = pd.DataFrame(test_batches.filenames)\n",
    "    #remove 'unknown/' and '.jpg' from filenames strings\n",
    "    filenames_extracts = []\n",
    "    for i in range(len(filenames_df)): filenames_df[0][i] = filenames_df[0][i][filenames_df[0][i].find('/') + 1:-4]\n",
    "\n",
    "    probs_df = pd.DataFrame(test_probs)\n",
    "    probs_df_clip = probs_df.clip(clip_value, 1 - clip_value)\n",
    "    subm_df = pd.concat([filenames_df, probs_df_clip], axis=1)\n",
    "    header = train_batches.class_indices.keys()\n",
    "    header = sorted(header)#.sort()\n",
    "    header.insert(0,'id')\n",
    "    subm_df.columns = header\n",
    "    subm_df = subm_df.sort_values(by='id')\n",
    "    %cd $HOME_DIR\n",
    "    subm_df.to_csv('submission_'+model_name+'.csv', sep=',', index = False, float_format='%.17f')"
   ]
  },
  {
   "cell_type": "code",
   "execution_count": 23,
   "metadata": {
    "collapsed": true
   },
   "outputs": [],
   "source": [
    "def get_features(conv_model, input_tensor, data, include_top = False, batch_size = 8):\n",
    "    model = conv_model(include_top = include_top, weights = 'imagenet', input_tensor = input_tensor)\n",
    "    start = time.time()\n",
    "    features = model.predict(data, batch_size = batch_size)\n",
    "    end = time.time()\n",
    "    print(end - start)get_features\n",
    "    return features"
   ]
  },
  {
   "cell_type": "code",
   "execution_count": null,
   "metadata": {
    "collapsed": true
   },
   "outputs": [],
   "source": []
  },
  {
   "cell_type": "markdown",
   "metadata": {},
   "source": [
    "# 3. 299x299 models"
   ]
  },
  {
   "cell_type": "code",
   "execution_count": 24,
   "metadata": {
    "collapsed": true
   },
   "outputs": [],
   "source": [
    "input_tensor = Input(shape=(299,299,3))"
   ]
  },
  {
   "cell_type": "code",
   "execution_count": 46,
   "metadata": {
    "collapsed": true
   },
   "outputs": [],
   "source": [
    "batch_size = 12"
   ]
  },
  {
   "cell_type": "markdown",
   "metadata": {},
   "source": [
    "### validation set batches"
   ]
  },
  {
   "cell_type": "code",
   "execution_count": 47,
   "metadata": {},
   "outputs": [
    {
     "name": "stdout",
     "output_type": "stream",
     "text": [
      "Found 120 images belonging to 10 classes.\n"
     ]
    }
   ],
   "source": [
    "valid_datagen = ImageDataGenerator(preprocessing_function=xception.preprocess_input)\n",
    "\n",
    "valid_batches = valid_datagen.flow_from_directory(\n",
    "        path + 'valid',\n",
    "        target_size = (299,299),\n",
    "        batch_size = batch_size,\n",
    "        class_mode=None,\n",
    "        shuffle=False)"
   ]
  },
  {
   "cell_type": "markdown",
   "metadata": {},
   "source": [
    "### training set batches"
   ]
  },
  {
   "cell_type": "code",
   "execution_count": 54,
   "metadata": {},
   "outputs": [
    {
     "name": "stdout",
     "output_type": "stream",
     "text": [
      "Found 1021 images belonging to 10 classes.\n"
     ]
    }
   ],
   "source": [
    "train_datagen = ImageDataGenerator(preprocessing_function=xception.preprocess_input)\n",
    "\n",
    "train_batches = train_datagen.flow_from_directory(\n",
    "        path + 'train',\n",
    "        target_size = (299,299),\n",
    "        batch_size = batch_size,\n",
    "        class_mode = None,\n",
    "        shuffle = False)"
   ]
  },
  {
   "cell_type": "code",
   "execution_count": null,
   "metadata": {
    "collapsed": true
   },
   "outputs": [],
   "source": []
  },
  {
   "cell_type": "markdown",
   "metadata": {},
   "source": [
    "## 3.1. Inception :  linear model on top of features "
   ]
  },
  {
   "cell_type": "code",
   "execution_count": 28,
   "metadata": {
    "collapsed": true
   },
   "outputs": [],
   "source": [
    "conv_model_inception_v3 = InceptionV3(include_top=False, weights='imagenet', input_tensor=input_tensor)"
   ]
  },
  {
   "cell_type": "code",
   "execution_count": 29,
   "metadata": {},
   "outputs": [
    {
     "data": {
      "text/plain": [
       "120"
      ]
     },
     "execution_count": 29,
     "metadata": {},
     "output_type": "execute_result"
    }
   ],
   "source": [
    "valid_batches.n"
   ]
  },
  {
   "cell_type": "code",
   "execution_count": 30,
   "metadata": {},
   "outputs": [
    {
     "data": {
      "text/plain": [
       "1021"
      ]
     },
     "execution_count": 30,
     "metadata": {},
     "output_type": "execute_result"
    }
   ],
   "source": [
    "train_batches.n"
   ]
  },
  {
   "cell_type": "code",
   "execution_count": 112,
   "metadata": {
    "collapsed": true
   },
   "outputs": [],
   "source": [
    "batch_size = 12"
   ]
  },
  {
   "cell_type": "code",
   "execution_count": 57,
   "metadata": {},
   "outputs": [
    {
     "name": "stdout",
     "output_type": "stream",
     "text": [
      "504.429939985\n"
     ]
    }
   ],
   "source": [
    "# the predict_generator method returns the output of a model, given\n",
    "# a generator that yields batches of numpy data\n",
    "\n",
    "#steps: Total number of steps (batches of samples) to yield from generator before stopping.\n",
    "inception_bottleneck_features_train = conv_model_inception_v3.predict_generator(train_batches, \n",
    "                                                                      steps = train_batches.n // batch_size,\n",
    "                                                                      verbose = 1)"
   ]
  },
  {
   "cell_type": "code",
   "execution_count": 58,
   "metadata": {},
   "outputs": [
    {
     "data": {
      "text/plain": [
       "(1020, 8, 8, 2048)"
      ]
     },
     "execution_count": 58,
     "metadata": {},
     "output_type": "execute_result"
    }
   ],
   "source": [
    "bottleneck_features_train.shape"
   ]
  },
  {
   "cell_type": "code",
   "execution_count": 62,
   "metadata": {},
   "outputs": [
    {
     "name": "stdout",
     "output_type": "stream",
     "text": [
      "10/10 [==============================] - 55s    \n",
      "55.561809063\n"
     ]
    }
   ],
   "source": [
    "inception_bottleneck_features_valid = conv_model_inception_v3.predict_generator(valid_batches, \n",
    "                                                                      steps = valid_batches.n // batch_size,\n",
    "                                                                      verbose = 1)# valid_batches.n // batch_size)#53s"
   ]
  },
  {
   "cell_type": "code",
   "execution_count": 63,
   "metadata": {},
   "outputs": [
    {
     "data": {
      "text/plain": [
       "(120, 8, 8, 2048)"
      ]
     },
     "execution_count": 63,
     "metadata": {},
     "output_type": "execute_result"
    }
   ],
   "source": [
    "inception_bottleneck_features_valid.shape#(9200, 8, 8, 2048)"
   ]
  },
  {
   "cell_type": "markdown",
   "metadata": {
    "collapsed": true
   },
   "source": [
    "### labels"
   ]
  },
  {
   "cell_type": "code",
   "execution_count": 87,
   "metadata": {
    "collapsed": true
   },
   "outputs": [],
   "source": [
    "from keras.utils import to_categorical\n",
    "valid_label = to_categorical(valid_batches.classes, num_classes=output_dim)\n",
    "train_label = to_categorical(train_batches.classes, num_classes=output_dim)"
   ]
  },
  {
   "cell_type": "code",
   "execution_count": 207,
   "metadata": {},
   "outputs": [
    {
     "data": {
      "text/plain": [
       "(1020, 10)"
      ]
     },
     "execution_count": 207,
     "metadata": {},
     "output_type": "execute_result"
    }
   ],
   "source": [
    "train_label[:-1].shape #pour correspondre à bottleneck_features_train.shape = (1020, 8, 8, 2048)"
   ]
  },
  {
   "cell_type": "code",
   "execution_count": 70,
   "metadata": {
    "collapsed": true
   },
   "outputs": [],
   "source": [
    "opt = RMSprop(lr=0.0001)#, rho=0.7)\n",
    "#opt = Adam(1e-4)"
   ]
  },
  {
   "cell_type": "code",
   "execution_count": 71,
   "metadata": {},
   "outputs": [
    {
     "data": {
      "text/plain": [
       "(1020, 8, 8, 2048)"
      ]
     },
     "execution_count": 71,
     "metadata": {},
     "output_type": "execute_result"
    }
   ],
   "source": [
    "inception_bottleneck_features_train.shape[:]"
   ]
  },
  {
   "cell_type": "code",
   "execution_count": 143,
   "metadata": {
    "collapsed": true
   },
   "outputs": [],
   "source": [
    "inception_bottleneck_features_train = bottleneck_features_train\n",
    "inception_bottleneck_features_valid = bottleneck_features_valid"
   ]
  },
  {
   "cell_type": "code",
   "execution_count": 163,
   "metadata": {
    "collapsed": true
   },
   "outputs": [],
   "source": [
    "top_model = Sequential([\n",
    "        Flatten(input_shape = inception_bottleneck_features_train.shape[1:]),\n",
    "        #Dropout(0.5),\n",
    "        #Dense(128, activation='relu'),\n",
    "        #Dropout(0.5),\n",
    "        Dense(output_dim, activation='softmax')\n",
    "        ])\n",
    "top_model.compile(optimizer=opt, loss='categorical_crossentropy', metrics=['accuracy'])\n"
   ]
  },
  {
   "cell_type": "code",
   "execution_count": 164,
   "metadata": {
    "collapsed": true
   },
   "outputs": [],
   "source": [
    "batch_size = 128  #64"
   ]
  },
  {
   "cell_type": "code",
   "execution_count": 165,
   "metadata": {
    "scrolled": true
   },
   "outputs": [
    {
     "name": "stdout",
     "output_type": "stream",
     "text": [
      "Train on 1020 samples, validate on 120 samples\n",
      "Epoch 1/10\n",
      "1020/1020 [==============================] - 1s - loss: 1.1462 - acc: 0.6931 - val_loss: 0.1671 - val_acc: 0.9417\n",
      "Epoch 2/10\n",
      "1020/1020 [==============================] - 0s - loss: 0.0318 - acc: 0.9941 - val_loss: 0.1170 - val_acc: 0.9583\n",
      "Epoch 3/10\n",
      "1020/1020 [==============================] - 0s - loss: 0.0122 - acc: 1.0000 - val_loss: 0.1079 - val_acc: 0.9750\n",
      "Epoch 4/10\n",
      "1020/1020 [==============================] - 0s - loss: 0.0081 - acc: 1.0000 - val_loss: 0.1077 - val_acc: 0.9667\n",
      "Epoch 5/10\n",
      "1020/1020 [==============================] - 0s - loss: 0.0051 - acc: 1.0000 - val_loss: 0.1047 - val_acc: 0.9750\n",
      "Epoch 6/10\n",
      "1020/1020 [==============================] - 0s - loss: 0.0035 - acc: 1.0000 - val_loss: 0.1147 - val_acc: 0.9583\n",
      "Epoch 7/10\n",
      "1020/1020 [==============================] - 0s - loss: 0.0024 - acc: 1.0000 - val_loss: 0.1125 - val_acc: 0.9667\n",
      "Epoch 8/10\n",
      "1020/1020 [==============================] - 0s - loss: 0.0017 - acc: 1.0000 - val_loss: 0.1011 - val_acc: 0.9833\n",
      "Epoch 9/10\n",
      "1020/1020 [==============================] - 0s - loss: 0.0012 - acc: 1.0000 - val_loss: 0.1047 - val_acc: 0.9833\n",
      "Epoch 10/10\n",
      "1020/1020 [==============================] - 0s - loss: 7.6937e-04 - acc: 1.0000 - val_loss: 0.1132 - val_acc: 0.9833\n"
     ]
    },
    {
     "data": {
      "text/plain": [
       "<keras.callbacks.History at 0x7f9e39305050>"
      ]
     },
     "execution_count": 165,
     "metadata": {},
     "output_type": "execute_result"
    }
   ],
   "source": [
    "top_model.fit(inception_bottleneck_features_train, train_labels[:-1], epochs = 10, batch_size = batch_size, \n",
    "                 validation_data = (inception_bottleneck_features_valid, valid_labels))"
   ]
  },
  {
   "cell_type": "raw",
   "metadata": {},
   "source": [
    " loss: 0.0011 - acc: 1.0000 - val_loss: 0.1309 - val_acc: 0.9750\n",
    " loss: 0.0024 - acc: 0.9990 - val_loss: 0.1529 - val_acc: 0.9667"
   ]
  },
  {
   "cell_type": "raw",
   "metadata": {},
   "source": [
    "Train on 1021 samples, validate on 120 samples\n",
    "Epoch 1/50\n",
    "1021/1021 [==============================] - 5s - loss: 0.2884 - acc: 0.9207 - val_loss: 0.0231 - val_acc: 0.9917\n",
    "Epoch 49/50\n",
    "1021/1021 [==============================] - 5s - loss: 1.1979e-07 - acc: 1.0000 - val_loss: 0.0630 - val_acc: 0.9833\n",
    "Epoch 50/50\n",
    "1021/1021 [==============================] - 5s - loss: 1.1956e-07 - acc: 1.0000 - val_loss: 0.0633 - val_acc: 0.9833"
   ]
  },
  {
   "cell_type": "code",
   "execution_count": 89,
   "metadata": {
    "collapsed": true
   },
   "outputs": [],
   "source": [
    "top_model.save_weights(model_path+'inc_bottleneck_K2-v3.h5')"
   ]
  },
  {
   "cell_type": "code",
   "execution_count": 90,
   "metadata": {
    "collapsed": true
   },
   "outputs": [],
   "source": [
    "top_model.load_weights(model_path+'inc_bottleneck_K2-v3.h5')"
   ]
  },
  {
   "cell_type": "markdown",
   "metadata": {},
   "source": [
    "### predict a set (directory) of test images"
   ]
  },
  {
   "cell_type": "markdown",
   "metadata": {},
   "source": [
    "#### Create a generator w/ class_mode=None (no labels)"
   ]
  },
  {
   "cell_type": "code",
   "execution_count": 121,
   "metadata": {
    "scrolled": false
   },
   "outputs": [
    {
     "name": "stdout",
     "output_type": "stream",
     "text": [
      "Found 1035 images belonging to 1 classes.\n"
     ]
    }
   ],
   "source": [
    "#test_datagen = ImageDataGenerator(rescale=1. / 255)\n",
    "test_datagen = ImageDataGenerator(preprocessing_function=xception.preprocess_input)\n",
    "\n",
    "test_batches = test_datagen.flow_from_directory(\n",
    "        test_path,\n",
    "        target_size = (299,299),\n",
    "        batch_size = 1,\n",
    "        class_mode = None,\n",
    "        shuffle = False)\n",
    "#test_data = np.concatenate([test_data_generator.next() for i in range (test_data_generator.n)])"
   ]
  },
  {
   "cell_type": "markdown",
   "metadata": {},
   "source": []
  },
  {
   "cell_type": "code",
   "execution_count": 122,
   "metadata": {
    "collapsed": true
   },
   "outputs": [
    {
     "data": {
      "text/plain": [
       "['unknown/0feb3e06b50cada6f4339058eef8d1b0.jpg',\n",
       " 'unknown/24ea2e01a7cf3250a0fbc6b5a06f6664.jpg',\n",
       " 'unknown/1f9d4b33a8a9a2e5838f86fb358f66ea.jpg',\n",
       " 'unknown/1734b70b47ec49ab9e7dc6a119331ffe.jpg',\n",
       " 'unknown/32ce805e9a8d4852a87ce159df9fe946.jpg',\n",
       " 'unknown/7fb2caad62ce4a1183c6c5e4b59e36f2.jpg',\n",
       " 'unknown/3f1bed041b1e9813d2ec0a7c817f7d44.jpg',\n",
       " 'unknown/559480c4f3605394f73e102380163ef9.jpg',\n",
       " 'unknown/5fb134dc248a7b120e4ed4fbf60430bf.jpg',\n",
       " 'unknown/3e87431ab7b060a3e8cfcca3798a13d8.jpg',\n",
       " 'unknown/1a87b4a3f8f2e40755200627e3146695.jpg',\n",
       " 'unknown/7b1fddc813adcb2b3519cb590d82f62e.jpg',\n",
       " 'unknown/ca723dfb684285be9338d6c621a669df.jpg',\n",
       " 'unknown/80d3965e4e0a9e300bcba28b1e8a62a1.jpg',\n",
       " 'unknown/d7a8e33d60c6184bdedf9e2e8865199d.jpg',\n",
       " 'unknown/1f229393f0607e721466390a81debe1c.jpg',\n",
       " 'unknown/71583ce27dcb16b8e542a038b3d9762f.jpg',\n",
       " 'unknown/da5c2cf789b1c60cb778ebe0bc00009b.jpg',\n",
       " 'unknown/70fd39a40d5c5d0abec22ad9a1e8a3a2.jpg',\n",
       " 'unknown/5e28538c9fedbbda51221a250ff07e8f.jpg',\n",
       " 'unknown/042bfeb459b50977f590a341dfb20c93.jpg',\n",
       " 'unknown/a04ec5d3e358109699247c1d60dd6d2e.jpg',\n",
       " 'unknown/29295256a8805d4bbcd2acf7b73af052.jpg',\n",
       " 'unknown/7895d82a63edc46d8a450dc4a651c37e.jpg',\n",
       " 'unknown/1ae9016e1b4815586ce17e54eeae96b3.jpg',\n",
       " 'unknown/066ff75ee40e88d2f0ae78b07935fa2c.jpg',\n",
       " 'unknown/12befc23d4fc8e63325b22c449d0c30a.jpg',\n",
       " 'unknown/9593687e9915615d54cc1310da3a8f62.jpg',\n",
       " 'unknown/17d16148fb9d0a995996e498b47207a2.jpg',\n",
       " 'unknown/df2b5cee4b3d8a3cb893b668df16d572.jpg',\n",
       " 'unknown/78a12ac476a14b54eeea48ecd4b97660.jpg',\n",
       " 'unknown/4fd5c8079f2c11d8729ec66f04aaa21e.jpg',\n",
       " 'unknown/6323255e2c4f3c1882170b39134a622c.jpg',\n",
       " 'unknown/6e8f18e1dbe1ba7f8a88bc8094adc025.jpg',\n",
       " 'unknown/f3d2b254424ab99c267abc3ab22ba627.jpg',\n",
       " 'unknown/d9cbed1442cca5be2780092bbfbfaf15.jpg',\n",
       " 'unknown/978f33a39b5ae74bcae1677b0afe2c36.jpg',\n",
       " 'unknown/3140825a1fc492e92e4d99f603169285.jpg',\n",
       " 'unknown/2197f43310b6e002349fd937dab34ebe.jpg',\n",
       " 'unknown/e3a43510b5f90bfb9fb050c77cabb079.jpg',\n",
       " 'unknown/1343ec8b64545f22bb76c2668c8cbe9a.jpg',\n",
       " 'unknown/30a4dc5539b3fa8370aadc590e864651.jpg',\n",
       " 'unknown/67f6f60d65786b06088ea55277a3097c.jpg',\n",
       " 'unknown/96a95a3b1e72fc6337070a731b0ace57.jpg',\n",
       " 'unknown/ad51422ba17bcd02d21af2c7df3af0ae.jpg',\n",
       " 'unknown/c58535ef5e49d763ab2fd245ea9c7ed8.jpg',\n",
       " 'unknown/8d96d649ecf963a2b47404ec96ba9ef2.jpg',\n",
       " 'unknown/38f7c638a61349ac2d10e676e371e386.jpg',\n",
       " 'unknown/9cbf65b904c9cca1bb2c315a8128d4b1.jpg',\n",
       " 'unknown/3a74533c75d7d581b76322398bcb5fd6.jpg',\n",
       " 'unknown/62710340ee0ebace68f209f0070d9d2f.jpg',\n",
       " 'unknown/c33c553bbad1dd3c2b36a85b79a94f91.jpg',\n",
       " 'unknown/3839723ca994957060885ee8e69c97c6.jpg',\n",
       " 'unknown/2ea72a6571b6c31d80a72cc7563e9212.jpg',\n",
       " 'unknown/7632300f2614bb34b5f167224c2bb680.jpg',\n",
       " 'unknown/f8c95399f717d2e966a009fa05f7051d.jpg',\n",
       " 'unknown/8217bdb1a85ceae160438639d36a9258.jpg',\n",
       " 'unknown/3076871958f8da66278d6425bf2e79e9.jpg',\n",
       " 'unknown/200a88dd46fade4426e0ba4c34c6c71d.jpg',\n",
       " 'unknown/9d8e17a0f626f1324c3e840c3c6e9fd0.jpg',\n",
       " 'unknown/c0db8acbc90d6d0a5947d247fc8ff8fe.jpg',\n",
       " 'unknown/f0933ef7831649c79490ebb34de07a01.jpg',\n",
       " 'unknown/c2c9364fa0fb2347fef08f172bcfecd8.jpg',\n",
       " 'unknown/71e326341469e1b27640d00d73c20ce9.jpg',\n",
       " 'unknown/47811a1b2ecb1427d13e78f6bf11ac0b.jpg',\n",
       " 'unknown/199d5434f99499443feb00c7c4311b30.jpg',\n",
       " 'unknown/6bc7121268b1278a43802e09a6e42d72.jpg',\n",
       " 'unknown/6eaa6d636c1fe558889f73ef5a0bffaa.jpg',\n",
       " 'unknown/fc14e1e96e898ebb963f1861666b7bae.jpg',\n",
       " 'unknown/e1967a2e9c507c256b83a1e2e4f4e941.jpg',\n",
       " 'unknown/0b297c77f3c031ee31ae2095e6a72405.jpg',\n",
       " 'unknown/46fe1810343e4f3151f736649cf80836.jpg',\n",
       " 'unknown/ce366cf65b9217e0e56dc01347e6917e.jpg',\n",
       " 'unknown/dc8b5d287285d21a4622efa8c9bee955.jpg',\n",
       " 'unknown/60e46bbb16f892929a6a6cd214c936b3.jpg',\n",
       " 'unknown/fc9f8662172cd0fd27a6709f93034138.jpg',\n",
       " 'unknown/31072c63e12fe42b1ec0ec601a0bf59d.jpg',\n",
       " 'unknown/ab7f0bdcb0972371042499373d2c2ecb.jpg',\n",
       " 'unknown/2450a7eec463a780dee7854cc749a158.jpg',\n",
       " 'unknown/94ec3144f8ebafc776b571b5948ebd00.jpg',\n",
       " 'unknown/e59d59ffbb65d9eae166d4068af5d9b9.jpg',\n",
       " 'unknown/1210c8fbfb9ea74e249043df0aade4d0.jpg',\n",
       " 'unknown/8b287172b2f51d8c936f8ac59004e363.jpg',\n",
       " 'unknown/ae07910fe2297650af08fd8f49cf3b4d.jpg',\n",
       " 'unknown/45fa1e1a64eec96e6990e7c24badc24e.jpg',\n",
       " 'unknown/25163b1873681bc682739e8e56b730cf.jpg',\n",
       " 'unknown/457b4e62d6b5b4eeefae45c5d377f62d.jpg',\n",
       " 'unknown/f1fdf296d0252b3dfb46f1bfc37bcb63.jpg',\n",
       " 'unknown/31f868787268ceda09c86c50b703220e.jpg',\n",
       " 'unknown/20d1255f2c5c32baa6c0a6cbb659a184.jpg',\n",
       " 'unknown/720e01c9e6d5b4a4fc3cd33e5609f377.jpg',\n",
       " 'unknown/debfa5cad80e35c510dff6ca29b94ca3.jpg',\n",
       " 'unknown/4ba7fc73f8d302115e6f450623cd1221.jpg',\n",
       " 'unknown/52c2aa603ea6537d4568d4e9da3bacf4.jpg',\n",
       " 'unknown/a2cf59280b2796e29bb4198d4999254f.jpg',\n",
       " 'unknown/2f42fb601cdc75ba4cd7dbd66305ea9a.jpg',\n",
       " 'unknown/42541eeab49c96ed08d45d209644d72f.jpg',\n",
       " 'unknown/e3982348ad8b974cef2298f741bc3c99.jpg',\n",
       " 'unknown/eab189c5274b79b36dd566fea4e9847e.jpg',\n",
       " 'unknown/01d5ffa4de01074483149bec0f6e5a59.jpg',\n",
       " 'unknown/f4eb6450497df847ef1012d61d869007.jpg',\n",
       " 'unknown/ad59ab801f42f76e6828f2f09fcb5fa8.jpg',\n",
       " 'unknown/9644cc59374b08a02a593c80f821120b.jpg',\n",
       " 'unknown/1e5d3de587bc5db73a52fd01147166bd.jpg',\n",
       " 'unknown/efb73fb00c85027773f3bef3dfc6c06b.jpg',\n",
       " 'unknown/e1f7ec4bd372612f53411026aaabf233.jpg',\n",
       " 'unknown/08db8163ff5451ae44b7496b5c9ee05a.jpg',\n",
       " 'unknown/8c567325012bf8d7daeff453ec959312.jpg',\n",
       " 'unknown/68c1ff5b2e1539401bc6a1fad63b66e6.jpg',\n",
       " 'unknown/0aef0a7e7a79092235213555be0e1f52.jpg',\n",
       " 'unknown/e6af47e8b6973c8f8d2b9fd5af94c54d.jpg',\n",
       " 'unknown/d346c8f2c14e1f602a74e895b0928e65.jpg',\n",
       " 'unknown/f05275e168cf813f7dadd9d1dddfab8a.jpg',\n",
       " 'unknown/755196b54b8e20e083510292e65d1126.jpg',\n",
       " 'unknown/004c3721eb88358f462cdcec6b2380b7.jpg',\n",
       " 'unknown/cf4dcf09bfb68c7a63965111c7342891.jpg',\n",
       " 'unknown/a9b79809bc1301f8d148e15bfecf6485.jpg',\n",
       " 'unknown/51ba0fb4a151b32094020584e6326053.jpg',\n",
       " 'unknown/4fbdf5318a5b622aad6932a0b4e63a1e.jpg',\n",
       " 'unknown/ea5a0fb0d92c07b2e14da4dcd0d48c45.jpg',\n",
       " 'unknown/1edc9d0814654106f79ec57747ada6a3.jpg',\n",
       " 'unknown/98045b56df3937f66e147dd884e88d79.jpg',\n",
       " 'unknown/9b17ffdaae82c77ff642004a4408087b.jpg',\n",
       " 'unknown/93e7ea95565bb7dd30d7140d5313e103.jpg',\n",
       " 'unknown/f7d9d506b828274c866fb9af90a0333e.jpg',\n",
       " 'unknown/dea92807aa2ac37bbc2dabf1b0eb6a39.jpg',\n",
       " 'unknown/f90ac8934d1349d115a4961c20ee447b.jpg',\n",
       " 'unknown/1821acf10536058f642c9438004a7454.jpg',\n",
       " 'unknown/f6e209dbbd97aadf518f16d18a807ffb.jpg',\n",
       " 'unknown/23df0336ab3f54104f8702bd9d8e4cbb.jpg',\n",
       " 'unknown/c971c03d76e8b2b18c0fb51f638fe22f.jpg',\n",
       " 'unknown/a8b25cbffb50c79dc53467205b7f2226.jpg',\n",
       " 'unknown/0d580b0000ec6948330c3f60db39bf12.jpg',\n",
       " 'unknown/2bd1fe557b1bf4295e72b3c8e685b293.jpg',\n",
       " 'unknown/2f580f6732a5bfb2693b0101cbe58bf1.jpg',\n",
       " 'unknown/fcba7f675d9fcacd449174f2229ca33b.jpg',\n",
       " 'unknown/9119f33d0931f7c2c71dc3028bbc5b6b.jpg',\n",
       " 'unknown/6a39904d4965e792a4330b5290dfb46f.jpg',\n",
       " 'unknown/c878f48c3118e5c6cc5505c7eaef6a6c.jpg',\n",
       " 'unknown/1b46e096107169adb7771ad029596bb9.jpg',\n",
       " 'unknown/f04afba75c6b505c74c9958aa8aabffa.jpg',\n",
       " 'unknown/e78b4a09e5f86c330e24c6aaed63f0be.jpg',\n",
       " 'unknown/7554a46b469aadeea862ad1ad7984685.jpg',\n",
       " 'unknown/f28b4d5899f9db2a2caa7a3361c847f1.jpg',\n",
       " 'unknown/5a352afc7940eedfb9e3478444163d38.jpg',\n",
       " 'unknown/8574352f6b7e766d63e543be73b0e2e9.jpg',\n",
       " 'unknown/5e84c23ad5c786094160b403c643e960.jpg',\n",
       " 'unknown/bd9556cbfc757db6f9823cff4f43c27c.jpg',\n",
       " 'unknown/4051bed9d163db16e7f84dbc952e9d3c.jpg',\n",
       " 'unknown/03a6fb1fa2d7812587004a60ade66fed.jpg',\n",
       " 'unknown/df624595296500c98e3a1bf4d9ea917b.jpg',\n",
       " 'unknown/26623886ae122bc7f5e181d331e3683f.jpg',\n",
       " 'unknown/c1fe19df8288f67edc36c6a2c48b832f.jpg',\n",
       " 'unknown/404fa3cc0ed54b176abed63256ca7c37.jpg',\n",
       " 'unknown/b67233ffc8910b6276ab5cc5955dceff.jpg',\n",
       " 'unknown/bd9c44ff1aee15b6db0a598fde09a0a1.jpg',\n",
       " 'unknown/2ac4e1705e5458991f6bfa8fb60dd2d8.jpg',\n",
       " 'unknown/1305f4db926583cce8a427c84166d875.jpg',\n",
       " 'unknown/a9fa5abef4230ff724eb2babfcecb8a3.jpg',\n",
       " 'unknown/1c384dc39a96d27427315a5ee9d34c67.jpg',\n",
       " 'unknown/96b4afe6fc26ca170ae7440d0500dfd7.jpg',\n",
       " 'unknown/c8c5efff1a3c534b6eb8a3fc05c69033.jpg',\n",
       " 'unknown/d7678b731ca252aa2a49d5c3d4c6e6c0.jpg',\n",
       " 'unknown/147189dcaeffe1678893377fa4916cf1.jpg',\n",
       " 'unknown/b5021c537d44db4ef3bc2339e5d97958.jpg',\n",
       " 'unknown/5183b77b582c29fc822d5f24eaa4795c.jpg',\n",
       " 'unknown/4ecadc974de67ce3358e17950589007a.jpg',\n",
       " 'unknown/11f97a2aa89580a78f440a2b320b8a65.jpg',\n",
       " 'unknown/221420675ba5da811ee6f89ad7065556.jpg',\n",
       " 'unknown/cec3781b6d6a71e1c2c20467f3640cf9.jpg',\n",
       " 'unknown/2faf6de2cbb2befbfb540e610e625b2c.jpg',\n",
       " 'unknown/9ff3d92861c94a3b144620b7575bfc90.jpg',\n",
       " 'unknown/a691b7a71b0ef5c3edc2eb0d0bbd99cb.jpg',\n",
       " 'unknown/475e7b1e2ce7cfed4e84a2466dbfa4f5.jpg',\n",
       " 'unknown/bd1c7a3313267b759090041b39196223.jpg',\n",
       " 'unknown/ca126228d8a1f637a6ad8fa79c2bfd23.jpg',\n",
       " 'unknown/6623edc9139505ea3d1da178a2870534.jpg',\n",
       " 'unknown/83233e2774e116ef34a04c53dd00a282.jpg',\n",
       " 'unknown/486f3cc1d1324b8633278ef97719cab6.jpg',\n",
       " 'unknown/e699b20911a55abda3558c5bcd37443d.jpg',\n",
       " 'unknown/b7b044e87e1e0acbe91312bbfff680f8.jpg',\n",
       " 'unknown/a3a2bd6bd98a4e64d2d3b5e6c4c0700e.jpg',\n",
       " 'unknown/0c4e4a613e16d0de30c4d13a01d2f8c1.jpg',\n",
       " 'unknown/21fbf9c54b7c9d9ff1c6809a591f55eb.jpg',\n",
       " 'unknown/4176f6256bc56253071e8e4e2f180868.jpg',\n",
       " 'unknown/7fd909c916ebab71b2f467ae43c90c8d.jpg',\n",
       " 'unknown/cabe231b2532dc56ada49565058c0ff7.jpg',\n",
       " 'unknown/da94cd67f51771a1be4f8226b5849ad2.jpg',\n",
       " 'unknown/eeb2c4ba7170968ce151916667c450a3.jpg',\n",
       " 'unknown/92ff178991073da2d15474ff216f99ac.jpg',\n",
       " 'unknown/33fe5015779dc14108b5abe0b5a5ab45.jpg',\n",
       " 'unknown/17b658036c3bdba71b5261f2355cf3c2.jpg',\n",
       " 'unknown/f9c6eaf6f490f30fdecd76831805d0f7.jpg',\n",
       " 'unknown/b0997aebb85ed8b6c2e344277a9a1bc4.jpg',\n",
       " 'unknown/2851a6461664d5f8699e42bb36f86cef.jpg',\n",
       " 'unknown/d16cf4793e35e275e539cadfa7d1196d.jpg',\n",
       " 'unknown/1b3f21283d424bf4034571b58b9530bf.jpg',\n",
       " 'unknown/c18bff950e1826d3c97d8cb26132c9ef.jpg',\n",
       " 'unknown/e47de0441a48f2eff7c2faacd350ed06.jpg',\n",
       " 'unknown/892ba9189d58640b0c138298fe661cfa.jpg',\n",
       " 'unknown/079f17fc6713f7089e13d0e009bb62b4.jpg',\n",
       " 'unknown/2228a74ceb7f95dcc6d6e27bf1810299.jpg',\n",
       " 'unknown/e2166bdff9e35f80aa7984ec64c8cce8.jpg',\n",
       " 'unknown/86ca62033ae44453b422ebac07cc5678.jpg',\n",
       " 'unknown/43a001eba1806acfbd90f5fabbf55659.jpg',\n",
       " 'unknown/e67b8da61ba5b55bcc01200ab057c7b0.jpg',\n",
       " 'unknown/593a9966e17ee94c46c271c43673dfaf.jpg',\n",
       " 'unknown/d90a9d6c29d871c0c7203b590fcb4ee0.jpg',\n",
       " 'unknown/5b54ee9719a556eb94c6ce232f6d78ff.jpg',\n",
       " 'unknown/4e07bc79134c620b3d750264ed6bce91.jpg',\n",
       " 'unknown/70e2a82c2555b658469b4f3b8da087ef.jpg',\n",
       " 'unknown/4e26590f65c8753f6970ebc75cb4b0d5.jpg',\n",
       " 'unknown/7ee7bb563c55c1e40edc29928a5c0162.jpg',\n",
       " 'unknown/ed8e5c431d6539db02614ddc1f35ce10.jpg',\n",
       " 'unknown/54b615d1fb355de9901bdc97d43f824c.jpg',\n",
       " 'unknown/31fd12dd573f80fa94f7d8330b57f563.jpg',\n",
       " 'unknown/307fa412bf933f52d78d147ba180e441.jpg',\n",
       " 'unknown/84231fc9d72391dd4fbea9a0935c4a6f.jpg',\n",
       " 'unknown/e850770a6575a34b1c7ad4b401692553.jpg',\n",
       " 'unknown/d8e39eb35436e6c4e1119cbe377c4371.jpg',\n",
       " 'unknown/9f849a1f535ee8b31401f717ac41140f.jpg',\n",
       " 'unknown/8e5882fdc5ffed3c02f05fb8c1add2bb.jpg',\n",
       " 'unknown/70c80b1b3e8631e3efe09a6578ac3650.jpg',\n",
       " 'unknown/126ee1ee0d0a37e1f5980a73e92703f3.jpg',\n",
       " 'unknown/00c6e480ca61e3d2da272d7b6bee0a9e.jpg',\n",
       " 'unknown/1e2ae145265abe3df5056043f5f73c68.jpg',\n",
       " 'unknown/ebe4a8b8507fa28905cb7e70b90b9170.jpg',\n",
       " 'unknown/3407f5f08f680403233081e250a9eb17.jpg',\n",
       " 'unknown/ad31b8b2a5dc04e507c0b70044dbf889.jpg',\n",
       " 'unknown/e90b4707267cec5bcd2dbe4cbb68a070.jpg',\n",
       " 'unknown/02e34caac2af8f176f1a0f864e111f61.jpg',\n",
       " 'unknown/e08d42b2e6f2dbcf24c6bfee8b7d03bd.jpg',\n",
       " 'unknown/a9c288da5899c4fbf6e19132f378eb55.jpg',\n",
       " 'unknown/43ea411f560cd3e84eb5ae3c19ed7e0b.jpg',\n",
       " 'unknown/db529813caf3c11bda11f1814081a3e5.jpg',\n",
       " 'unknown/5d20d6460f27cfc44b891393f09ccda8.jpg',\n",
       " 'unknown/859c2bd0a5a1a97702399b22776abb9e.jpg',\n",
       " 'unknown/91bfe31395da3830ce1d81904cd7a60e.jpg',\n",
       " 'unknown/dd703c7beeaf5cba5533d5f42b608f2e.jpg',\n",
       " 'unknown/8360e7ab79fb024bf4ea7c666cc73b56.jpg',\n",
       " 'unknown/1dd6f1c84e794b45c533aae5a36ffc3d.jpg',\n",
       " 'unknown/ed6d16749ad7dbed282857c6c0cb0b64.jpg',\n",
       " 'unknown/58f0fca409901bfc8d22851eff1feac5.jpg',\n",
       " 'unknown/39555b7a0c918f7f454678e09b916279.jpg',\n",
       " 'unknown/b79c2e7bb4c2ed6b6997f91ca73b485d.jpg',\n",
       " 'unknown/ff066888cfea22e81ca9c125ec5a89f8.jpg',\n",
       " 'unknown/646bba2fdc74bd8f2376129bc4345f50.jpg',\n",
       " 'unknown/51867b410e482102250c3f1e6bb1684b.jpg',\n",
       " 'unknown/145e1b4570fd32057e82c8d5754576e5.jpg',\n",
       " 'unknown/5f0689f1454032a485c455101b4cf2ec.jpg',\n",
       " 'unknown/988b68271b88c8e0b43458d300e16af9.jpg',\n",
       " 'unknown/b7d52a3d71e80836fccd70273c0946ce.jpg',\n",
       " 'unknown/6c4a4565e1d0906cb370d01efe64ac16.jpg',\n",
       " 'unknown/1919a4618a2887e2549c9d4df2b2c61e.jpg',\n",
       " 'unknown/662dc1598b0e4075c63cdd11c5ddf063.jpg',\n",
       " 'unknown/db11b427fa998df38056fb050debd8eb.jpg',\n",
       " 'unknown/7840efe33c08834a28e2d5ebc1386353.jpg',\n",
       " 'unknown/da428a0d788b22d626e799bdd276f834.jpg',\n",
       " 'unknown/c4f37b54c7263f93f6f72116789e143b.jpg',\n",
       " 'unknown/23507f798e4ee5d5f996974f99fa17d0.jpg',\n",
       " 'unknown/3f215af72609368219866184551734a8.jpg',\n",
       " 'unknown/858f68880a6de58d30b0201bce385584.jpg',\n",
       " 'unknown/6c2f1fb7d7b6b6eb642bf93cda6e128e.jpg',\n",
       " 'unknown/0f58dffab12b3e92964731f3801ee4b1.jpg',\n",
       " 'unknown/cb6c3c32773ded7fc8bbd76025791cee.jpg',\n",
       " 'unknown/1780847606b8e5ae281c97b2027127ec.jpg',\n",
       " 'unknown/873a39759be91ca142ebc7c9f38ffe5d.jpg',\n",
       " 'unknown/ce2f35f88dccd00f07c6373bff23308f.jpg',\n",
       " 'unknown/d1013cd32793410daad99222dfb6e3e6.jpg',\n",
       " 'unknown/b0d4120c7027f9845f035c605beefd5a.jpg',\n",
       " 'unknown/70ac4cb7a43215b6d341d73443540e92.jpg',\n",
       " 'unknown/0d5043156904a8ade08741ce8006fa28.jpg',\n",
       " 'unknown/8c1b371cc8d0d0949889da9c95bbe24e.jpg',\n",
       " 'unknown/a2e03e4bca79b6858bdc707142dd8391.jpg',\n",
       " 'unknown/f833a56026b89fba59f04d16ca6881d5.jpg',\n",
       " 'unknown/9424f0e154ab5672ff2b41d6ea604cc4.jpg',\n",
       " 'unknown/4d082717d5588aa99f10776bc8d75f2b.jpg',\n",
       " 'unknown/a36bf90ef275e00b91959e508eee653f.jpg',\n",
       " 'unknown/793ed5ef368e303559ad77da6dad0903.jpg',\n",
       " 'unknown/b154228fca817befc051fd09623f1d3c.jpg',\n",
       " 'unknown/ffd3ce0566df4be8049c767a329faaf7.jpg',\n",
       " 'unknown/a346df417d341bef083e7ed4a7adc90c.jpg',\n",
       " 'unknown/616e1c2a6eaafca4c0bb8027a995e0b6.jpg',\n",
       " 'unknown/eebf49093e7b0c603ee4c8d67d061352.jpg',\n",
       " 'unknown/7aa7b0024a4c8a688758fad15f3d6377.jpg',\n",
       " 'unknown/e26d745f820e6b14cae26bb5def0648f.jpg',\n",
       " 'unknown/4264bea528ab5b4d3f391e1371436ead.jpg',\n",
       " 'unknown/0518d41fa95b141f8267a3d2e2cef756.jpg',\n",
       " 'unknown/815019b0e96715cd56bfd244084d7cf2.jpg',\n",
       " 'unknown/a44bf9ce05d46a65d22049d186f8f813.jpg',\n",
       " 'unknown/b91e06a86b8651d5cee8a661f2e10555.jpg',\n",
       " 'unknown/266546926d024d240599eda2e6f73c03.jpg',\n",
       " 'unknown/6cdff5325cb35cfd44447b9e4f6cb7b4.jpg',\n",
       " 'unknown/6c5cf796c6e750b9cd15188b8959c132.jpg',\n",
       " 'unknown/6d1eb0d0f02a3cfabf08e5b84ed54eca.jpg',\n",
       " 'unknown/4f06a97002f941d3b1b7021636c27222.jpg',\n",
       " 'unknown/572031649ae84a1efa882169fc6e1e86.jpg',\n",
       " 'unknown/e97b5b2fd6542fa588cd4a5da2b6e052.jpg',\n",
       " 'unknown/57594d87da0b5d8de4d2c2e023d472c8.jpg',\n",
       " 'unknown/f062edd0025c4ecad1a34125ee6a761a.jpg',\n",
       " 'unknown/40bc48838c2bf936ac2f207cf02c861f.jpg',\n",
       " 'unknown/68694781dd4f560e7fd0ce2f8b31230f.jpg',\n",
       " 'unknown/6bf409049710b8eec50e1aadf7d6585d.jpg',\n",
       " 'unknown/b35032576a933d77b3345ae19f8f7dc2.jpg',\n",
       " 'unknown/75f8a13ae05b56eed204a33bf99287ed.jpg',\n",
       " 'unknown/57a3718e164e86d6c42f20b02293feea.jpg',\n",
       " 'unknown/4570c7efa5bcc2fd264124dd1da55a90.jpg',\n",
       " 'unknown/83970ba9a779f5fc7c05fd1e18a31357.jpg',\n",
       " 'unknown/bcfd98b2402cd9bc0a8ef612d6dd94e9.jpg',\n",
       " 'unknown/068a1de8f738cd6b99657974c84f5d40.jpg',\n",
       " 'unknown/ae62813098a37020e43acf6a8664fc79.jpg',\n",
       " 'unknown/9c5dc5339dddb885e3d5a109e262ae7f.jpg',\n",
       " 'unknown/ba9ac60ea59a608c13eb4e6bc6f463e1.jpg',\n",
       " 'unknown/ffe563b1b8c0dcd0797c4362c6754b96.jpg',\n",
       " 'unknown/9a9449fca1ebb1b8262ccb8eb682996c.jpg',\n",
       " 'unknown/9bc1344b15a68dd1c05c6b504d7df260.jpg',\n",
       " 'unknown/98b14ea9ea63271e7003283232ea5cf3.jpg',\n",
       " 'unknown/2cb25025fb719764e7361a71206c7a7e.jpg',\n",
       " 'unknown/6be051a95abdc04816383ec76e4c3a53.jpg',\n",
       " 'unknown/34012d73c7b49943438156d2e2763178.jpg',\n",
       " 'unknown/42975153e2fa61f672eff4c60cfb9616.jpg',\n",
       " 'unknown/dccf2e91f79396055e7ff83f1f207fbc.jpg',\n",
       " 'unknown/95b89c3204dbb7cf272a7b09330ef87c.jpg',\n",
       " 'unknown/df86ba50c4d0b597af0d23bda37eb10e.jpg',\n",
       " 'unknown/528f88ec0b2777c70694d7c776733e56.jpg',\n",
       " 'unknown/4779ef8b9abf2d81e943e9b7bf0462d1.jpg',\n",
       " 'unknown/bd3002c2c3e4f1f7a7a118b89f11228d.jpg',\n",
       " 'unknown/97b75dbeded489d890802c612a6ccbfa.jpg',\n",
       " 'unknown/4dd8fff330624c41f2e58839b1e8050b.jpg',\n",
       " 'unknown/c7270880af7d6030950145a1d6636704.jpg',\n",
       " 'unknown/255a2dcc7259be7f3591dad9c9043366.jpg',\n",
       " 'unknown/3a81b80e36c91964a3f01e5813a22a79.jpg',\n",
       " 'unknown/7a2c4ffdbebceeb7f19c602976f3fb0c.jpg',\n",
       " 'unknown/cdae663a2756fc6b3e94eb734c102e85.jpg',\n",
       " 'unknown/60a34ebfe7dcf562409d6c6a550d629e.jpg',\n",
       " 'unknown/cbdbab68583b03212af82cfbd2c90ee7.jpg',\n",
       " 'unknown/1ea31b4e922ba6a942a3a530c2c04e15.jpg',\n",
       " 'unknown/291c193c35def70cb8b9e4371b1f9b3c.jpg',\n",
       " 'unknown/c578d39ea92c29da5888d5ff6dcdc5cb.jpg',\n",
       " 'unknown/20def15f33dced381a60dc2929f0cb8b.jpg',\n",
       " 'unknown/07ae657216e11b5b5d78d89faca53314.jpg',\n",
       " 'unknown/56913e668ac295b1224fb250c34e8ef2.jpg',\n",
       " 'unknown/54b9c175a57ae7c7e6882a7528c621b9.jpg',\n",
       " 'unknown/05a3c8bda27ea3fc224704ad70779913.jpg',\n",
       " 'unknown/86ac1689bfb7e42138f398c3b569ac82.jpg',\n",
       " 'unknown/6992e003e462d3b66985448467414118.jpg',\n",
       " 'unknown/448899be9c1898a6076375ba05b2f824.jpg',\n",
       " 'unknown/9afba284bede0fa7d5846bdf5662bd8a.jpg',\n",
       " 'unknown/ef3c75900183816388295cd9cb3a1a31.jpg',\n",
       " 'unknown/42e57c2a787a7dd2cc5fe260376bb71a.jpg',\n",
       " 'unknown/111a7820d56b8cca8792215d7def8213.jpg',\n",
       " 'unknown/41bb88e8da45c400490febc6d8d13689.jpg',\n",
       " 'unknown/2c39f55bb9fdea9164d30bd0a0c34182.jpg',\n",
       " 'unknown/21f81344e0f2c32b42f3751249da62ce.jpg',\n",
       " 'unknown/571dd4a753fd9ddf800b0edd9e0db696.jpg',\n",
       " 'unknown/c8f26ded10708ab8def121c3f5dbddc2.jpg',\n",
       " 'unknown/3b837a3cb2135ba3287d54f609b3519f.jpg',\n",
       " 'unknown/469e02aace66bdae82507bfa20a93e9c.jpg',\n",
       " 'unknown/d6937cacbbb5d64b535842861379f3b1.jpg',\n",
       " 'unknown/c7de91df0ee7f9e871deefb4de110201.jpg',\n",
       " 'unknown/1834e4243c1b87f50239cb519d7b69d1.jpg',\n",
       " 'unknown/e12e6997c15c233c7b92209e08ff9d14.jpg',\n",
       " 'unknown/9c7817f5a1890558f7d83f16b29151b4.jpg',\n",
       " 'unknown/f7f845383fa94fea9722b22a5ab0da73.jpg',\n",
       " 'unknown/5361ce8afa30a9bda6f6f49bc13596ee.jpg',\n",
       " 'unknown/627d9f5cf30cf361de934ff0c134fc74.jpg',\n",
       " 'unknown/96ab7b38a9bfe6e6a69a7901f70f60bf.jpg',\n",
       " 'unknown/635f438cd68b65dd6b4e100b338015fd.jpg',\n",
       " 'unknown/bc56bbfe1908020d2944a6449142911a.jpg',\n",
       " 'unknown/9fd9fd649bc89fce77025352e09fdf48.jpg',\n",
       " 'unknown/0b549d7b0a972428bfca5bec213ce494.jpg',\n",
       " 'unknown/144a87a697d9e819322ff0b8f57075e1.jpg',\n",
       " 'unknown/c5f16b38c8d99f043259ce1af6ca98f2.jpg',\n",
       " 'unknown/e8f67d8d36c49d7436aab680e798b685.jpg',\n",
       " 'unknown/6deee2c7d117ecb2f3b85b73ffb633c4.jpg',\n",
       " 'unknown/8038003c3e3693496987aa077ee7c850.jpg',\n",
       " 'unknown/3cdf577564b8a3fb327e90cae126ec81.jpg',\n",
       " 'unknown/3220ecea8642a6afb3c70bc273472eb2.jpg',\n",
       " 'unknown/9e2301c48ea023a37d3b355f0e17b4f4.jpg',\n",
       " 'unknown/3047e00ff2619e9fdef94590e10dab5c.jpg',\n",
       " 'unknown/02bac257d1266986775db090b547123f.jpg',\n",
       " 'unknown/77864a4b76d840ea5cd6d16da6733253.jpg',\n",
       " 'unknown/00fe03513ca95a133d4ad7cbbdc1da28.jpg',\n",
       " 'unknown/a40573873937250a9cda0defa8667bab.jpg',\n",
       " 'unknown/23b15493751b54bd911efd99d25bd808.jpg',\n",
       " 'unknown/f054f5578e5c9d3f6759b357df3c5f16.jpg',\n",
       " 'unknown/b71cb26e95889e2f80bffa88d856c482.jpg',\n",
       " 'unknown/b693053ce0147504194443886c71eca8.jpg',\n",
       " 'unknown/86d4415ecd8e5ea1655d1eee2fe90335.jpg',\n",
       " 'unknown/f237c237633a38bd52c2b1de238e945e.jpg',\n",
       " 'unknown/38e11fa9140b0bc1bd16b415ccd89bcc.jpg',\n",
       " 'unknown/dcb5d319bd013bbfa9779d8c6c11a829.jpg',\n",
       " 'unknown/e91ffd67dd303f59029d041ff4fb65b8.jpg',\n",
       " 'unknown/63a5b6073499c0ef434358e0fc664684.jpg',\n",
       " 'unknown/7f072d420e1220f50eff035e977c624d.jpg',\n",
       " 'unknown/4400289a1ab5139b3cd828752ada4a01.jpg',\n",
       " 'unknown/d6f824ffb9802dd33cf45e0dc65ff652.jpg',\n",
       " 'unknown/acb5cb3c05babcf292778b7312d3d545.jpg',\n",
       " 'unknown/c9d0973ef495ae244ccbada81d356bf2.jpg',\n",
       " 'unknown/9d0e5786cd22d2fccab24a43fe41cd6e.jpg',\n",
       " 'unknown/321b689fdf26f061aebe30e82e560c6d.jpg',\n",
       " 'unknown/5ce4c34fd033e5c76e36885467206664.jpg',\n",
       " 'unknown/0c3a0c2dfc46e6eb972e6553d364c71f.jpg',\n",
       " 'unknown/6a7c935d30ed7694422f5e74093082ca.jpg',\n",
       " 'unknown/fd5962d71cba77f1845beae10c83941b.jpg',\n",
       " 'unknown/334e49cb4245a8d461d222dcbb336ed0.jpg',\n",
       " 'unknown/030e2fa57c7321bd36e7b8c1da96e10b.jpg',\n",
       " 'unknown/c49487f04b2e91df237639ce16669507.jpg',\n",
       " 'unknown/b5d7e52c5dc3bc2b189b6b749e924630.jpg',\n",
       " 'unknown/62a44eaa5e7a2e0aa33eb823578a45d4.jpg',\n",
       " 'unknown/95e3e9ba43d04118216b9fe20f132eaa.jpg',\n",
       " 'unknown/30118eec33903b3c3fd0e3ad9d5ff2b5.jpg',\n",
       " 'unknown/4bb7334c336e4c711fdcee09e68c882f.jpg',\n",
       " 'unknown/4f76b5462fa3d1f77d8fa2f84c7c538b.jpg',\n",
       " 'unknown/dcb9aeaf9f1a5c11e95509376d8788ca.jpg',\n",
       " 'unknown/f8c2b412dd7b37e28234314f6396aaed.jpg',\n",
       " 'unknown/a1a719f6a98d895affb6cb7d66cd8c2f.jpg',\n",
       " 'unknown/8a43b0e4ecfb318f9661cd6c3eace60d.jpg',\n",
       " 'unknown/8db6b8f62434b16f4c83a6b807a322ff.jpg',\n",
       " 'unknown/3a39361b52fd39a5c5e949dcbb0aa679.jpg',\n",
       " 'unknown/a0639678024ccede0954717793579284.jpg',\n",
       " 'unknown/55cffce6ffb1167881fdefe1615dee87.jpg',\n",
       " 'unknown/75ce08b9d3a16b71762af327c1796201.jpg',\n",
       " 'unknown/7e4e9d4c1718e5d5dba54cbb3d7fc692.jpg',\n",
       " 'unknown/82c93f45cdbe0683361d4497a494ab89.jpg',\n",
       " 'unknown/9e45095a968ba01cb1873e42523ba3ad.jpg',\n",
       " 'unknown/50f067c811d3d356825e4653f30a67ec.jpg',\n",
       " 'unknown/72f755619b096dcc6979feda49714320.jpg',\n",
       " 'unknown/7ff85be41eef63df057d76e70869e6bc.jpg',\n",
       " 'unknown/5cf9cca2cc7087d3084f39f8098f2b27.jpg',\n",
       " 'unknown/a3dcb6d777a2bf07b403dc9221596d02.jpg',\n",
       " 'unknown/60a1d91ee68cef5501a0d692cf43a7f9.jpg',\n",
       " 'unknown/606f8ad835ecd162dad739759146d4b5.jpg',\n",
       " 'unknown/7d10ac9435e30ba0f6e7bb193c1a3230.jpg',\n",
       " 'unknown/dc26ca73db6f5953db43b06d9276f9db.jpg',\n",
       " 'unknown/f7d9fb4125bb38adb9887b881aabda26.jpg',\n",
       " 'unknown/a31164abf4cf1f1547d2de3b86a42566.jpg',\n",
       " 'unknown/cc771940353adc5842ce38c86e1a4da4.jpg',\n",
       " 'unknown/d9b9bc0839bc75beb0686e21c143c0eb.jpg',\n",
       " 'unknown/13649222b59612a699a235551fcd3fdc.jpg',\n",
       " 'unknown/bf5f881b5ceb71d31d828498cea86818.jpg',\n",
       " 'unknown/0b98d2c4d26387ae0e105aa930a7ce09.jpg',\n",
       " 'unknown/a06f9a9761da243d492201df9bfb7828.jpg',\n",
       " 'unknown/df99a948e43d3399aff2e8ab2c18e184.jpg',\n",
       " 'unknown/7e8665d06f96c4ba70a38e0aa1348c2a.jpg',\n",
       " 'unknown/02e9084491b5bad9e905dfef50a85be7.jpg',\n",
       " 'unknown/814c71217894ef0463e15b307f674cd8.jpg',\n",
       " 'unknown/6ff522f55973fddfc49fa3f55b893068.jpg',\n",
       " 'unknown/f0154b8ea1efd5dfb70e43fada42e56d.jpg',\n",
       " 'unknown/0a2a4ced84f11101720e47f4846945c6.jpg',\n",
       " 'unknown/ce9d99e639e07b8bd5f14f9610676a60.jpg',\n",
       " 'unknown/3cc9adc023849da1316cfeb2bb53867f.jpg',\n",
       " 'unknown/df4b040b13c5f514d215ba7c0813eaf8.jpg',\n",
       " 'unknown/084585fd8a9fcef3c7261669cacbc1be.jpg',\n",
       " 'unknown/30d1871b796f7956bb0e4e5188d826e0.jpg',\n",
       " 'unknown/aaf821f3cc836628c747072f4ab02cac.jpg',\n",
       " 'unknown/46990a80cc5edf6c5204611566a11d78.jpg',\n",
       " 'unknown/dd7867245d5c104fffb5afe027e41cd1.jpg',\n",
       " 'unknown/03522703178358081aa1775e69d2b891.jpg',\n",
       " 'unknown/ca55fdb1d14a284035740a88f8b80ed4.jpg',\n",
       " 'unknown/7a788b37d42f1730a49a5471f3375baa.jpg',\n",
       " 'unknown/a468d10f3a618186de49d4c5780911fc.jpg',\n",
       " 'unknown/176c320550e2c70f821b43fa452f54fb.jpg',\n",
       " 'unknown/a99c981912b220c37b3dae0a2a4c9760.jpg',\n",
       " 'unknown/7bc41bb3eb0fe1b77ba8cca37cad1819.jpg',\n",
       " 'unknown/a51c2803972dff8c7fcc17f6b7eda64d.jpg',\n",
       " 'unknown/bd2280ecdd69b338d657a8da2e05d787.jpg',\n",
       " 'unknown/87e96ca57ae92a499e057debb62fc232.jpg',\n",
       " 'unknown/473b32ab94e6c89288bc01fab6f7827a.jpg',\n",
       " 'unknown/f372b595f5e684d8c7c261d6b0166736.jpg',\n",
       " 'unknown/0aee2e38a7ac39c80dbf0dbc81e830a5.jpg',\n",
       " 'unknown/2f90d005ca7d718be9377b94091849ba.jpg',\n",
       " 'unknown/007ed71136966728f5c0936e23c8286b.jpg',\n",
       " 'unknown/07737ae303594890f1ba38b87399ba40.jpg',\n",
       " 'unknown/884b5eab6a4055e7dd2a8fb076ab30f0.jpg',\n",
       " 'unknown/eb06356375888d41903fff14ef7c4104.jpg',\n",
       " 'unknown/624899ea03f94d8deae8fbd04e5269ed.jpg',\n",
       " 'unknown/86c2d71776b76d0c7acdf34a87b7f9c7.jpg',\n",
       " 'unknown/8f61a5ba54308a757439e6622b9de791.jpg',\n",
       " 'unknown/af860b4ed3ca982406a8b27c4544addb.jpg',\n",
       " 'unknown/cf8567df0d60e843562b9f530707c4a8.jpg',\n",
       " 'unknown/f1ba2c4a69ed34fea976f8fc6b77f45b.jpg',\n",
       " 'unknown/98846d2e716f0d2728d9a5fcf98d8f86.jpg',\n",
       " 'unknown/53f8d1655a1ad062604213b6d461fb36.jpg',\n",
       " 'unknown/db01e09a41fa55ee6c9607c3506ef16c.jpg',\n",
       " 'unknown/0c98f1cc700594739b13255084b2e64b.jpg',\n",
       " 'unknown/6505c6afcd77becb23ad69c27ddeadc4.jpg',\n",
       " 'unknown/f805a687670be49dd8980dd06b612962.jpg',\n",
       " 'unknown/0e39ccd1021cefe374b0e38fd35b4356.jpg',\n",
       " 'unknown/c2d2845260e74a9f4d8d967ea6bb8364.jpg',\n",
       " 'unknown/968f9651da61027f2e19fbb5dc6abd85.jpg',\n",
       " 'unknown/7611c6281dd2c785743fc0fc47c165fc.jpg',\n",
       " 'unknown/6b2ebb3a74e68d7f6f2973a5943b975c.jpg',\n",
       " 'unknown/55f08cdb3c28528fb54301fa5f51f3b6.jpg',\n",
       " 'unknown/b8a095f820b34a9f102b4cbb0c747528.jpg',\n",
       " 'unknown/84fc75ded1b3415d6fb9dc6e65a5137b.jpg',\n",
       " 'unknown/354e6c7096558d69f943c0a7b888d6d5.jpg',\n",
       " 'unknown/4f3c5f552067f65efb466017719a1c5b.jpg',\n",
       " 'unknown/93b4c41ff7a27648da84981eb680c6e4.jpg',\n",
       " 'unknown/be5782798a334708d8faf03d0ad7a45b.jpg',\n",
       " 'unknown/3a577a6f0d98eb6ab8ce4370d419ecb2.jpg',\n",
       " 'unknown/78a2765ea664ae3f2855b796c23b697f.jpg',\n",
       " 'unknown/6997e14d9f1eea435161037b2c101f4a.jpg',\n",
       " 'unknown/f85dd6bab03d372d771dd7815e732e9d.jpg',\n",
       " 'unknown/f9774f126def6f6c167e15ec1da6b345.jpg',\n",
       " 'unknown/388edf10377674a40c25915d64f4f377.jpg',\n",
       " 'unknown/5595e23287c1c0f8b1918dde99f3a6b0.jpg',\n",
       " 'unknown/73489d42ced243039b7f2778d0859e62.jpg',\n",
       " 'unknown/7b153b32c289f5dd2d969a37dca177f5.jpg',\n",
       " 'unknown/1c082570531b3fb68e82f06695d89de8.jpg',\n",
       " 'unknown/17ebd8501f1ce70bfeb6a344785fce06.jpg',\n",
       " 'unknown/5bc6075f7795de81326a6ea178157812.jpg',\n",
       " 'unknown/6d097864d7bf72b1f57a6f44e279a551.jpg',\n",
       " 'unknown/3728d6b1b7c0ebd9e4722ae7e709ec45.jpg',\n",
       " 'unknown/39bfe266cc37ee03a2d24f74021d31bd.jpg',\n",
       " 'unknown/991d0107b7a686b25fa9e33e7f1b3611.jpg',\n",
       " 'unknown/69e9ebfeb9dff1365e790a3c71c484ea.jpg',\n",
       " 'unknown/60e4d0d3341124ff9171e517b6581b25.jpg',\n",
       " 'unknown/921c50882d473211f722be44cf612e3e.jpg',\n",
       " 'unknown/0ff55c6329f9bfe0f49a02d2d6c20cb4.jpg',\n",
       " 'unknown/c4d56660b08526fd7ffce9a43816be67.jpg',\n",
       " 'unknown/49600840847a700da589200199a08cc4.jpg',\n",
       " 'unknown/2378f36313a78044ebca6f4a5e54069b.jpg',\n",
       " 'unknown/9d37609d023541f77fe7b4ea1d5c0964.jpg',\n",
       " 'unknown/40cf82aac6661ef1210de377e22cf717.jpg',\n",
       " 'unknown/758f9a07201494c594e3bd73063c9bdc.jpg',\n",
       " 'unknown/1fc1c6ba4e346d099233f380aa8dd476.jpg',\n",
       " 'unknown/e15513ca7ebb4730731f34c25e906502.jpg',\n",
       " 'unknown/8580590732a5032a0fcf09b7cdc2575d.jpg',\n",
       " 'unknown/9d65928ef5d543159d80d036673ec61e.jpg',\n",
       " 'unknown/065e0b70a690e06a826885b454622928.jpg',\n",
       " 'unknown/e46a2bfb7816324d171c4e07786abc59.jpg',\n",
       " 'unknown/84fc329369927160842e077d8cfc0c17.jpg',\n",
       " 'unknown/f4af276965865188983afcbb5fca9cc2.jpg',\n",
       " 'unknown/03d495a97c75d45a069d5b86af52197f.jpg',\n",
       " 'unknown/26865eddcab8376dcec5abfff77af0fd.jpg',\n",
       " 'unknown/e9c961dc49fdf960fc46c8b54ae1996d.jpg',\n",
       " 'unknown/72cfc436a8ac51eea6356eab56da3b46.jpg',\n",
       " 'unknown/f24c3d9735880ef6ea736dc549419771.jpg',\n",
       " 'unknown/f14547a7bed40d4170bc70eafd1eb5e7.jpg',\n",
       " 'unknown/edf164f8974510c5936ee7224f3d7d56.jpg',\n",
       " 'unknown/40bed16bb4157c6d9a2fe340d563ff35.jpg',\n",
       " 'unknown/6c1c2a4274bd534d760097e361af970d.jpg',\n",
       " 'unknown/6f179916cdb7eeec8249b76e620171e2.jpg',\n",
       " 'unknown/b5a43a4a1bd5b3fae022c5c6969d32b2.jpg',\n",
       " 'unknown/b5066502351c2f176afc84a70f0f9249.jpg',\n",
       " 'unknown/98c441061f9a9a1c8d698d7ef0f5cd32.jpg',\n",
       " 'unknown/81260afb14138d918e65b99867b0a0bc.jpg',\n",
       " 'unknown/324a35120d40598d58763fd4f25bedee.jpg',\n",
       " 'unknown/1493c4814ac4a2094162a8005fdff7f7.jpg',\n",
       " 'unknown/d3f0056c97074b1579c31ee159eeb77b.jpg',\n",
       " 'unknown/ea54171754dc00a910fd4ed0cb41e765.jpg',\n",
       " 'unknown/e2628b6bde028b5eb593616128728907.jpg',\n",
       " 'unknown/500ef5c0241c0625bb0b5fb302522aca.jpg',\n",
       " 'unknown/a86f4ada45b010052e77cb7a89e3271a.jpg',\n",
       " 'unknown/005b6c6c76fefd6b458ef6fb6e54da6e.jpg',\n",
       " 'unknown/769df36b2485b3e9df740ca8e9e49793.jpg',\n",
       " 'unknown/fd40e9d71ecff4b17b53d2be58648fd2.jpg',\n",
       " 'unknown/c28f894e56a1b39a042b517ed7c5dbd5.jpg',\n",
       " 'unknown/0259f8dda68116cff1170758a5fea1db.jpg',\n",
       " 'unknown/e01a1ea716359e2f0062aca591ff9ca4.jpg',\n",
       " 'unknown/303abcde9c444c7f90ec60e6d594fb9f.jpg',\n",
       " 'unknown/b16d486c6c0922067d8090aa29ec2bc2.jpg',\n",
       " 'unknown/eb8d19898e69b355679f98fe068cb06a.jpg',\n",
       " 'unknown/e8e5d64a1789dd86009b07003bed090b.jpg',\n",
       " 'unknown/8f794ac826fc60c5a97980c6fd819743.jpg',\n",
       " 'unknown/3c924d92ad73a3e91f64ed4d2fb478fd.jpg',\n",
       " 'unknown/c46f22468e73417f1c78b1361bc7f6f8.jpg',\n",
       " 'unknown/3247a9afc5171760dbaea74c5239a4a0.jpg',\n",
       " 'unknown/768d51ef6eaa0b1ecf85b59f0fb832ab.jpg',\n",
       " 'unknown/ef5f1eb55d91360df896824ac4cc979b.jpg',\n",
       " 'unknown/a6f7a3bad09db1ac741a7dbb765482f2.jpg',\n",
       " 'unknown/8259c954ae4213cb96763ea24d3f51dc.jpg',\n",
       " 'unknown/25c88ab100f3e86e4a0215bfbcafd2c4.jpg',\n",
       " 'unknown/07ff89277767ddc115adeee8a6f0ceec.jpg',\n",
       " 'unknown/0ea853dcbeabf192889a19926f7fc2fd.jpg',\n",
       " 'unknown/38d324310b264593a5599ca27011e640.jpg',\n",
       " 'unknown/b5b0af713147dbbaa08541c9d1d08af8.jpg',\n",
       " 'unknown/2f788a9ed02e2a3e554af0fcf790ac01.jpg',\n",
       " 'unknown/7c4d4a562f7050d48ef0a55d53543c67.jpg',\n",
       " 'unknown/371d5309a43022c903adbad7a940041b.jpg',\n",
       " 'unknown/669d4196999660ddfef117a431c7a3b0.jpg',\n",
       " 'unknown/48e033896812e5637ac26e03670d6c95.jpg',\n",
       " 'unknown/cc1711087040cc1f3d135e861543a64b.jpg',\n",
       " 'unknown/9ef2f087a8d1117c2c327ea4830988dc.jpg',\n",
       " 'unknown/fa1b178cee67805d99bf5623944815c1.jpg',\n",
       " 'unknown/22b388b0a3db051c4adf4e9d6f0af6ee.jpg',\n",
       " 'unknown/ef69016a79094a8bd47f42ccc14ba63a.jpg',\n",
       " 'unknown/0cd23332299c3aff0eaff055e00f55b4.jpg',\n",
       " 'unknown/b1fb0b0c39c2e2736a0aded295e6c084.jpg',\n",
       " 'unknown/f300694670b4219cf9e8f23306ae3407.jpg',\n",
       " 'unknown/a1b67916fef4646594755dd5ad591630.jpg',\n",
       " 'unknown/28443fec87fe42d33ff84bbe7d112a09.jpg',\n",
       " 'unknown/54c4ecd67a35cd10f94cb2c19dd01cdb.jpg',\n",
       " 'unknown/aaafe0840388090936bcf1d8612d15ed.jpg',\n",
       " 'unknown/8e2c33227fe576c8079aa41a5d177fb8.jpg',\n",
       " 'unknown/5361283e7d99e055e283cbf1a5159b5b.jpg',\n",
       " 'unknown/cfdb4cf6ca3237e3d1b7e365a7f51f32.jpg',\n",
       " 'unknown/0e9c363076ca2a8fb7b7a1182a7528f1.jpg',\n",
       " 'unknown/dc110cfb9e242562f5ad75391594832d.jpg',\n",
       " 'unknown/82339c485430817cf7036d604acee4dd.jpg',\n",
       " 'unknown/1ebcd2c9321bb3d7bf8095832b74a3f2.jpg',\n",
       " 'unknown/f2fb1e6cb9501847d0ab84f1edc36b78.jpg',\n",
       " 'unknown/52c87fff655788b8792638ebc09e8ffd.jpg',\n",
       " 'unknown/ff9742bc22b5830176e85490cf54cdf7.jpg',\n",
       " 'unknown/810a8bc224dc72a23a9242339756444d.jpg',\n",
       " 'unknown/9347d044f80c714953ad9756aee32de3.jpg',\n",
       " 'unknown/911d1c7f8d85feea4834882dd0a4f7a8.jpg',\n",
       " 'unknown/93f5a3810fde3ddc40ccccab4dc0487b.jpg',\n",
       " 'unknown/df2d806debebfd39e858f877756518e8.jpg',\n",
       " 'unknown/b26f466f2e520f424396888a367c7120.jpg',\n",
       " 'unknown/b0db98195966b8f273e1d67b17917d80.jpg',\n",
       " 'unknown/04b1c700d0afa863c570bacce1fe5512.jpg',\n",
       " 'unknown/d2ef4e5f1b0d021f25a155cdbd34ea44.jpg',\n",
       " 'unknown/882b773e6ea477d27e8f640565dfb3e1.jpg',\n",
       " 'unknown/6ed1bd5d0aac89b272a8f189595affa2.jpg',\n",
       " 'unknown/acc73a21bb371528e6bee04b2a8679e7.jpg',\n",
       " 'unknown/944ec36bc768ee309e51bf881dabcb15.jpg',\n",
       " 'unknown/02653e78d9f92bfcf002bd51395b65b7.jpg',\n",
       " 'unknown/812947176567d407e0af0bfc8e51adbb.jpg',\n",
       " 'unknown/24120d84936d859bb2fe013e5579ba57.jpg',\n",
       " 'unknown/56f3fe93f51d3015fd6f7d97fd7b8389.jpg',\n",
       " 'unknown/518e16d098116b14a9ce2fdc4b80c06e.jpg',\n",
       " 'unknown/aa8175f0fd2d1a16d75dbb339b372a5b.jpg',\n",
       " 'unknown/5e5f77203e5be99fef50148335f95e69.jpg',\n",
       " 'unknown/e97a63b529b7b274eeb605391366b576.jpg',\n",
       " 'unknown/aded14b86d5a295370a25cd3dd18c759.jpg',\n",
       " 'unknown/f86bb8a2e851edcf769dd381e04f9e3f.jpg',\n",
       " 'unknown/9d194995dc94f4caa713c7f10675ffcd.jpg',\n",
       " 'unknown/4ec9d65e78c1c468ce371c4141d0d301.jpg',\n",
       " 'unknown/cf5e8627b90d8360869512decf46309b.jpg',\n",
       " 'unknown/26588393f2e2af33b21fa63769e8ec97.jpg',\n",
       " 'unknown/fc5628535ed7e4e285796b2a43778fcf.jpg',\n",
       " 'unknown/e743bea73da2c0dab99ccdbc697b1ac8.jpg',\n",
       " 'unknown/7852e7963247e079c2df5b542ba5db89.jpg',\n",
       " 'unknown/51da43477990176deaf79799db45d76d.jpg',\n",
       " 'unknown/18c3a6f7569d115f3663e75677565550.jpg',\n",
       " 'unknown/175988f267bc03d07e7ad7e406abd144.jpg',\n",
       " 'unknown/7f0c1b0a287ecf1f9a1262909c1fa345.jpg',\n",
       " 'unknown/5eb8c255a25962e01ac2dc8440f91afe.jpg',\n",
       " 'unknown/1475328e0e3f2ef000606db1df2dfb3e.jpg',\n",
       " 'unknown/e90d5b1d2617510402f3620721f7c526.jpg',\n",
       " 'unknown/76048c1354de715d306ae16b55029a34.jpg',\n",
       " 'unknown/b051e3dff572e5aea3beb1200a97c2e9.jpg',\n",
       " 'unknown/2f09a0cc0902a43ba8a410c259fb4309.jpg',\n",
       " 'unknown/c31353e12a88352bdda79a5b0f99b1cf.jpg',\n",
       " 'unknown/01f3be56aaa63fb47fd576a17f1f60b6.jpg',\n",
       " 'unknown/6cf486696a155c9e41397e18aa58f144.jpg',\n",
       " 'unknown/13d7f2f5ce86397e813dcf24d6cc449d.jpg',\n",
       " 'unknown/59785c2e118cc2a61627d0cbfaabbf23.jpg',\n",
       " 'unknown/8f3578110cc6a1978a96f2f4c82cc752.jpg',\n",
       " 'unknown/93de7504a1dc66c8458dc25eab863433.jpg',\n",
       " 'unknown/27b5e7fa6ca8f88a4bc5f023145c89a4.jpg',\n",
       " 'unknown/fff74b59b758bbbf13a5793182a9bbe4.jpg',\n",
       " 'unknown/5601bb99d64e35d05bb2a37c6b1fc9c3.jpg',\n",
       " 'unknown/35737c35498665353f4566ee9e30adb6.jpg',\n",
       " 'unknown/35b8d9be229c16a44a97e408b88028bf.jpg',\n",
       " 'unknown/1f2e9080823a6b093e7a4baa668393d2.jpg',\n",
       " 'unknown/2c22d4299ad939bb3c76f40e456bc0f5.jpg',\n",
       " 'unknown/99b599e01292e75c2ba0a83779a07ffc.jpg',\n",
       " 'unknown/b3d75834caa1a3d1078ce03efabdea9a.jpg',\n",
       " 'unknown/13ac212ccfb9ab1b85bf2aa5da2a96bb.jpg',\n",
       " 'unknown/ea5bd02a78f243c609cd227c4a09c6c4.jpg',\n",
       " 'unknown/2a4eead6f7d016465387f5215ef35ec6.jpg',\n",
       " 'unknown/d81004bb82e6ab2e1b53ec54819504e2.jpg',\n",
       " 'unknown/ac69ec8cba3fa722513c669688d52311.jpg',\n",
       " 'unknown/d199e1541032a10f67891d2da0d02a11.jpg',\n",
       " 'unknown/1eb59d5b26bfd913ba0f8c14dfc4adbe.jpg',\n",
       " 'unknown/6e33ddd4b17f4174be6c206302583ac7.jpg',\n",
       " 'unknown/a6b057e03ae7b8d4c81c04ecf47c929e.jpg',\n",
       " 'unknown/03320bdf508289b449b8cad06fb34bcf.jpg',\n",
       " 'unknown/21f8a3e634b14adb3cdce5e9d552fdb7.jpg',\n",
       " 'unknown/009a3c4f6626e4750f74ceb8e8ed8760.jpg',\n",
       " 'unknown/fa30caf6e17cad235b9fb91b048aa70e.jpg',\n",
       " 'unknown/740599f0dc24bf74c8bab1c20305dcc2.jpg',\n",
       " 'unknown/adab3b6c9834fe02f569f5c2b457127b.jpg',\n",
       " 'unknown/a7170c2e693724ee7e11237db838fe22.jpg',\n",
       " 'unknown/d530d1f96aeb086140b9008a319ea45b.jpg',\n",
       " 'unknown/20d15fbc56f635f26bbba607309e838c.jpg',\n",
       " 'unknown/0f341494dfeb1318b50d43a4ae74e138.jpg',\n",
       " 'unknown/14679a610485f8741de7472af7b22c38.jpg',\n",
       " 'unknown/09db0bb220cdbbc0adca63e38e64ab38.jpg',\n",
       " 'unknown/7d6cbeb65a26e2be028542d4e7b8025a.jpg',\n",
       " 'unknown/0ab5fe07cda87c279b880a445681ee86.jpg',\n",
       " 'unknown/67ef5ebdcf70dd4bd3619afe809093aa.jpg',\n",
       " 'unknown/6745cdcdaf788e189b88392e8294f82d.jpg',\n",
       " 'unknown/ecba66c5313a2a5fd4017a039a9501b6.jpg',\n",
       " 'unknown/e3ff13afe2400a95e3ab76759d94fbc4.jpg',\n",
       " 'unknown/99e03e73fd77c1656e0560f456277591.jpg',\n",
       " 'unknown/96b8f71e4ac161115b870c5f11afe2ed.jpg',\n",
       " 'unknown/5ce8e4f21b8f73d5c19ab5cbade3d366.jpg',\n",
       " 'unknown/fbf4abbd32d544ff9b5df6af25eec3e3.jpg',\n",
       " 'unknown/0d1985ada774f6522afc2a881396158a.jpg',\n",
       " 'unknown/b5b0793b8d0166e1ae3a0fd291105f5f.jpg',\n",
       " 'unknown/26f2171c08646d0c5769659610ec59cc.jpg',\n",
       " 'unknown/9e5b3bce5ab4cfa3026f914f91a26a60.jpg',\n",
       " 'unknown/83c335a1a050268bc5890303fffcb772.jpg',\n",
       " 'unknown/645b1ae3c39119fce937e722950b8e2f.jpg',\n",
       " 'unknown/d4bf8bfc3da858e3566dce7bd1b71cd6.jpg',\n",
       " 'unknown/6e01c54252cfc40ecdfde9612d9e6414.jpg',\n",
       " 'unknown/4944813fa9c0c93048f6bac5b5cd3d49.jpg',\n",
       " 'unknown/1a92dee27c750e74a3ffb24c7d2aa41d.jpg',\n",
       " 'unknown/96a5225629180289e17b942b88c2dc04.jpg',\n",
       " 'unknown/852758528e03f51340dcbad58f6e6dbd.jpg',\n",
       " 'unknown/263e32bbdcc109a06b6282733cbc8e86.jpg',\n",
       " 'unknown/50d6afe47c1ebbd3b37170387bc6b5f8.jpg',\n",
       " 'unknown/c59dab52eaad61d038f9fda9fe3341b8.jpg',\n",
       " 'unknown/cf7fd8632c8c94573f293b65f4117d4d.jpg',\n",
       " 'unknown/f74be541c9805bf2dc3ed53e46fa28c7.jpg',\n",
       " 'unknown/940d76a8aecf8b0cefb7e26b1bc89ce8.jpg',\n",
       " 'unknown/648d7a114c7cb71a017530458f6f64b6.jpg',\n",
       " 'unknown/57f57cc865bc2e1faff07ebdbc8e12cf.jpg',\n",
       " 'unknown/7a23ff98d2a0f7a78c0e23d0d2a7ee88.jpg',\n",
       " 'unknown/c05271d19a1cd83dbe662ad93d1ac4ec.jpg',\n",
       " 'unknown/7774a47f851cc89ca70c2d43b43a1451.jpg',\n",
       " 'unknown/2156a62d73ee41b97dc42551cce09f4c.jpg',\n",
       " 'unknown/06fb0df3d5a54b2f8f4d9295c0c6f4d5.jpg',\n",
       " 'unknown/1dde5b25d631702223f5f3e47d01c98e.jpg',\n",
       " 'unknown/b8808ab883b7b1fefa732bf5aebb5d08.jpg',\n",
       " 'unknown/1ad307a10f54496d506cae71fff3a8ce.jpg',\n",
       " 'unknown/b8d550702cb5ea905cc02af8c3e152f7.jpg',\n",
       " 'unknown/1b176552396034ed1c864c3adb6cd16e.jpg',\n",
       " 'unknown/b437cefe58a7b2bb5446f152a696464b.jpg',\n",
       " 'unknown/819632ba0fb41691945bd56bfadc0f09.jpg',\n",
       " 'unknown/d767bab1808e43062711a144394ef56f.jpg',\n",
       " 'unknown/aa280acd6d46dbe9720fec7e9e46579c.jpg',\n",
       " 'unknown/1ee2743cfe8952b63b227f5d3206a0c7.jpg',\n",
       " 'unknown/c910edf7f420316c1771e50880b80350.jpg',\n",
       " 'unknown/b151fa5a434c3a7fcc6618c8d6a0797a.jpg',\n",
       " 'unknown/205dac19fba55c1ec0ef34a86e356422.jpg',\n",
       " 'unknown/eda1edd004eb4311a73cf7cd0bfa31dc.jpg',\n",
       " 'unknown/110027dd4a1b9de5081064ad66ebc678.jpg',\n",
       " 'unknown/778c748d5ab8034bde2a100fd64c0344.jpg',\n",
       " 'unknown/1ad4c5df263f643a44e577e5b146bd67.jpg',\n",
       " 'unknown/0b0a5091be4e49c6b47192a0b88e32b6.jpg',\n",
       " 'unknown/d96f32fa517b8627b63d8dec5351f102.jpg',\n",
       " 'unknown/c81cfe1f3434bb984f43cfb74600ecff.jpg',\n",
       " 'unknown/1e4839cd134463bc0a99100aca8257c8.jpg',\n",
       " 'unknown/ea5ae600ca3996528b6548eceac767cf.jpg',\n",
       " 'unknown/17c9e54626577c259d861cc61ff95508.jpg',\n",
       " 'unknown/3b9f2855e6cdfdb1503b1cec6dc6339c.jpg',\n",
       " 'unknown/5a4f573cec1daeac81456e16d26a800a.jpg',\n",
       " 'unknown/5c5bc91cdee45b8237b109d309513af0.jpg',\n",
       " 'unknown/f31dabe4e60722a1f2eb3352fd9d0525.jpg',\n",
       " 'unknown/1e4f5a8f7210a6c6dc099553b945797f.jpg',\n",
       " 'unknown/2cd59a7601c3d94a1666ffc6a5c3d815.jpg',\n",
       " 'unknown/0ab368e15107ceba01c03f37abf55e66.jpg',\n",
       " 'unknown/7e27bb46148ca8d422963c62d76e753b.jpg',\n",
       " 'unknown/63f3ee0590f4dd11b97b5ee8a1c51628.jpg',\n",
       " 'unknown/bdf8a4591c9c2e92ca397276008c1600.jpg',\n",
       " 'unknown/2bf0760aa393b3284d5194d4d25ce152.jpg',\n",
       " 'unknown/84539cf9ce5a5c51df51800eb1c4876d.jpg',\n",
       " 'unknown/6a2dc8880da477f5b3ea0a00c63faa3c.jpg',\n",
       " 'unknown/06e39dddab2ff9c09b1e734b68bd219c.jpg',\n",
       " 'unknown/c3a5f66884d145f9f3baa17a559a0b66.jpg',\n",
       " 'unknown/24193dad6b66cb25cca7e84d731d4290.jpg',\n",
       " 'unknown/cabb71a3908803cea377ff45f7288f18.jpg',\n",
       " 'unknown/8646d62c1e40c6a1806b472508200b89.jpg',\n",
       " 'unknown/51372c1a40ee47e4377de1c2b6a6a250.jpg',\n",
       " 'unknown/4fce6bd61f6093aa4f501a1e6a7073e9.jpg',\n",
       " 'unknown/a965eadb7590983a0a0cd6b9f78ffe54.jpg',\n",
       " 'unknown/6288ef67fc0340dd79770b02c9713b92.jpg',\n",
       " 'unknown/823e08daa9c03f95cfcef212e26cf676.jpg',\n",
       " 'unknown/4bea48f8d05b73a6d0d4aeb7ad71f493.jpg',\n",
       " 'unknown/04495ca69f279d9b2c38af99670dbb56.jpg',\n",
       " 'unknown/660c0a2748a2f1f0d46e5057cc8cf059.jpg',\n",
       " 'unknown/555aab3f3ce67bf7ffd6313717abcd77.jpg',\n",
       " 'unknown/43a51ef131cef93b0d44c0322a44cf27.jpg',\n",
       " 'unknown/80f3a7540af65509da6fd45d44bff94f.jpg',\n",
       " 'unknown/e732916519751eaa0cb2ba0cc1217ab9.jpg',\n",
       " 'unknown/5d1a071596c936b29bf3fa514b2b99ff.jpg',\n",
       " 'unknown/f0ee3d22666302ec27338aa29f34c72f.jpg',\n",
       " 'unknown/21edf3fbbc677848c32043bd1e429e5e.jpg',\n",
       " 'unknown/da20c6454560d6d4d90f60c212018099.jpg',\n",
       " 'unknown/51a4932925cf72835c5d2d8609d155af.jpg',\n",
       " 'unknown/5310f15815c30b6c5b337356b36cb454.jpg',\n",
       " 'unknown/5f0c6745b1fc2cce6db18e111e886e2d.jpg',\n",
       " 'unknown/a8eec44f9b53402c3316820624aae42e.jpg',\n",
       " 'unknown/e78b50f1d12148deef4c564ea4c88050.jpg',\n",
       " 'unknown/dc05ff2bcc79f44dfff1a7ad93a178c3.jpg',\n",
       " 'unknown/e85b19a69be67eaef9fe58b7e689ee81.jpg',\n",
       " 'unknown/f4cd3448e7e39070c86f551bfd4f1471.jpg',\n",
       " 'unknown/7b75e9cf14b02bf541a9cf709eb17ea4.jpg',\n",
       " 'unknown/fa98868fa1de351dd9c69d08545b3181.jpg',\n",
       " 'unknown/b3bcc2a3a94c70497779eadaef668d3c.jpg',\n",
       " 'unknown/951963ef2007503c39f82ee2cd968b7c.jpg',\n",
       " 'unknown/d92fab1b1a2c6fbaa66c33468abe08f8.jpg',\n",
       " 'unknown/3dee49a01b8d17df02eac0b35dbf2f8a.jpg',\n",
       " 'unknown/3b2f8cbd6fe3f64ce0a7e3f535f70533.jpg',\n",
       " 'unknown/61307a91fa0311f071c568faf1a372c3.jpg',\n",
       " 'unknown/cf7184f757b606fa19556143ac5c9c26.jpg',\n",
       " 'unknown/220b2ad6c153b3610cdd1e14a39ccd9d.jpg',\n",
       " 'unknown/385a1c3c02b81ce33871425f0003f9b0.jpg',\n",
       " 'unknown/7fc375fc24b2a904146582c6b10325bd.jpg',\n",
       " 'unknown/02b0ccb5d316cf4662e8784a68e7a3d2.jpg',\n",
       " 'unknown/3d3a6a1d9c0270b20fc96ce1159248e3.jpg',\n",
       " 'unknown/778d9beefeb5558645d94445ac29bb2b.jpg',\n",
       " 'unknown/cdc0b938bad01e1f66aa594699d10184.jpg',\n",
       " 'unknown/6abb5640d31757202add895d6da60f2d.jpg',\n",
       " 'unknown/8bdc1bb017b6d13f87819804504953b3.jpg',\n",
       " 'unknown/770f248c298990bcceb808e2acdbaf47.jpg',\n",
       " 'unknown/bd3c7ccd5f1697137b4f553c1bf58713.jpg',\n",
       " 'unknown/0aa1ef16c5738686429329816f3eba76.jpg',\n",
       " 'unknown/56c273b9990f388040dfbcf012b27897.jpg',\n",
       " 'unknown/a2ea6dc04ff35ea7849a092f8a14ba35.jpg',\n",
       " 'unknown/ee878152e29a6b6ce288b44b358f9d05.jpg',\n",
       " 'unknown/e5a78d4d53fc5957cc9dedd318139d3d.jpg',\n",
       " 'unknown/2048d35cee18bb15d9d646bb197ac737.jpg',\n",
       " 'unknown/562428f4ea8cc7915db94bf187f30b58.jpg',\n",
       " 'unknown/2b6d70418714fe266a383b645e43dffa.jpg',\n",
       " 'unknown/a3794e79054a31bcd94ce1ffb27019a5.jpg',\n",
       " 'unknown/bc3996f9194cbf029eea8b8936805ee9.jpg',\n",
       " 'unknown/46a4c593405150f4cebb888464e64307.jpg',\n",
       " 'unknown/e57fded38af2f081403feefb324ed3a9.jpg',\n",
       " 'unknown/b3ddcb20a63b9c6a690bc897cddfb515.jpg',\n",
       " 'unknown/7f18cd27906fa97f8d1effd655fda272.jpg',\n",
       " 'unknown/263cbd45af73d8efc73edb0251354e19.jpg',\n",
       " 'unknown/448b68da1ea92511cdd0cbcb2efaeb2e.jpg',\n",
       " 'unknown/ee7bdce4ac4008b3551ca66f82712e31.jpg',\n",
       " 'unknown/93e40f4032dddf8130ae96bbf5f9180b.jpg',\n",
       " 'unknown/e7ce78e874945f182a4f5149aa505b09.jpg',\n",
       " 'unknown/83e4b817c762dc3e308220721c11bf70.jpg',\n",
       " 'unknown/9d024559062d855289c59de3071025c1.jpg',\n",
       " 'unknown/f320aa2676156d3760a409e1b333474d.jpg',\n",
       " 'unknown/978a013d5ce41091e621f1cccec64635.jpg',\n",
       " 'unknown/6185d48ab57403045d30a7c59f534d54.jpg',\n",
       " 'unknown/f53aa47b4676b1f135ac2eeeee01db9b.jpg',\n",
       " 'unknown/1549f7a7bd97b1bffad5146b8c7bb73a.jpg',\n",
       " 'unknown/b7e066098deeee48626a0f8f7492d08c.jpg',\n",
       " 'unknown/d733d7d86267b797afd6497fea7465fc.jpg',\n",
       " 'unknown/f33e07d0a4dac780e19f00818752db55.jpg',\n",
       " 'unknown/92f1ea5c4894384c8727690db41496cc.jpg',\n",
       " 'unknown/297517505e03ecbbcff2039bfe14e56a.jpg',\n",
       " 'unknown/59791221b00f22a42082cb2e6e041ba2.jpg',\n",
       " 'unknown/9854781e0d6b264b468571509cff5de9.jpg',\n",
       " 'unknown/86ecaf468c8cd48a5edc6bef040039cb.jpg',\n",
       " 'unknown/94e2137ede652c3b240e583114dae522.jpg',\n",
       " 'unknown/fa9cacf553c34c99d08e93dce7dbf3f7.jpg',\n",
       " 'unknown/27fd1dbdb9ce404fe5d94605b60b16a8.jpg',\n",
       " 'unknown/c5f032be44d94ed33a8e696a23c6ed69.jpg',\n",
       " 'unknown/cc94a3bb7191a247f59e1540d8430c93.jpg',\n",
       " 'unknown/b0cb1acfb638d46dc203ef94a21998b7.jpg',\n",
       " 'unknown/103cdc14a648474fa9a85c3542d6821e.jpg',\n",
       " 'unknown/935d0c63e749116d3e3e34b8cd22894b.jpg',\n",
       " 'unknown/52de55bf937d6790ae8efab675b7adef.jpg',\n",
       " 'unknown/c65c06ac8a136ae9480b172e36eebc98.jpg',\n",
       " 'unknown/56c26bf0ab12b5c10b761037671c2520.jpg',\n",
       " 'unknown/af23f283567b7c2afc8817c20e6bdf53.jpg',\n",
       " 'unknown/5d4ae17528cf5ba0caabbccc698ff88a.jpg',\n",
       " 'unknown/3f9fb54bea1a6bf6c2a661ec0d213160.jpg',\n",
       " 'unknown/5d9c0c30c1908e9ef0390120a9eb41c8.jpg',\n",
       " 'unknown/d5292fc676d046dac6c1d29e2a03e3a2.jpg',\n",
       " 'unknown/426dfd819da9c855bc00123b2cb2aa09.jpg',\n",
       " 'unknown/2c9e207e90fbfa535100b0dce377ddef.jpg',\n",
       " 'unknown/2f513a5fbd2708824b682acf0ff61d0e.jpg',\n",
       " 'unknown/e291c3955198350ab26495e9290dbe34.jpg',\n",
       " 'unknown/9b55ca08b94e9210530ff6da1f606ebe.jpg',\n",
       " 'unknown/1cc56ea149a97f5c3b7844bdfda095d0.jpg',\n",
       " 'unknown/803d7415c42d682a9eff453115163fa1.jpg',\n",
       " 'unknown/3af58bf50078ea1f5eb6b9ef54baeb6b.jpg',\n",
       " 'unknown/4f61f29dd5d63f317db565d7a1935c02.jpg',\n",
       " 'unknown/e30a97eb637239e3b15c903529e04800.jpg',\n",
       " 'unknown/aafff780b8df85b58d7bb3d275e0aa4c.jpg',\n",
       " 'unknown/0d2052c227baab35a97ea9d0b767967f.jpg',\n",
       " 'unknown/334cc526918937c02629d6bcd8fee4a6.jpg',\n",
       " 'unknown/2be7b83c14beeaf5d92f4a2158001b58.jpg',\n",
       " 'unknown/480a80573cf03a7125104c8a2c669e60.jpg',\n",
       " 'unknown/945d5bc18a470bda95312f99d0d4b1c5.jpg',\n",
       " 'unknown/c442bf43f6d8b5811f56fed559168e45.jpg',\n",
       " 'unknown/2bfb83abc7b3b67fe15d12d6106895cf.jpg',\n",
       " 'unknown/0e826c710afd789f8db9ff522a7a04c0.jpg',\n",
       " 'unknown/e4b7ff61849485992246c0f2ab7e8804.jpg',\n",
       " 'unknown/4338b655b34c0548b089958e1574d7f1.jpg',\n",
       " 'unknown/a561fb8f5db3f033a2d01fefd097c94e.jpg',\n",
       " 'unknown/8f115bf905b3a5f86c9809456c341926.jpg',\n",
       " 'unknown/c9e569638f09e27aded2008f15fb9622.jpg',\n",
       " 'unknown/89262d9a1f00dc5aa300905f58cbde69.jpg',\n",
       " 'unknown/e280f6f772fa8439dcf0957a0e8b8e1d.jpg',\n",
       " 'unknown/b6cd61479913d818b12b0bcfe7894f2b.jpg',\n",
       " 'unknown/f74676323a11fdfe1bd36ba5dfa0ac4e.jpg',\n",
       " 'unknown/b9ec318f055b3534673cefe48cd60922.jpg',\n",
       " 'unknown/0dbbfd6f80c227c60a79312fb143e6dd.jpg',\n",
       " 'unknown/86813de67a3747df67805ab8508ac7c9.jpg',\n",
       " 'unknown/2d35cf67f34be380b13db24bf2bd30a4.jpg',\n",
       " 'unknown/6c700b642ef85a4026fc8948b78a5f9f.jpg',\n",
       " 'unknown/fa32a6bd287eb7f7a43300f103187b83.jpg',\n",
       " 'unknown/0e7baab11c3e1a71d364720ff43aa5b4.jpg',\n",
       " 'unknown/24ddab3f8e662659e3e72ee942579d14.jpg',\n",
       " 'unknown/737e016c32985e4d6fc3a974e9a7b44c.jpg',\n",
       " 'unknown/8d7f27306ea76bca087a0f1fe1185d87.jpg',\n",
       " 'unknown/4b64335a5b5d149a10ee9613fae9d454.jpg',\n",
       " 'unknown/2e288e4bfd1a82c0772cba27003f9654.jpg',\n",
       " 'unknown/1ee7497ca02744ffbdaac3f446864609.jpg',\n",
       " 'unknown/d9d7483ff16378df33da92a79af52bf1.jpg',\n",
       " 'unknown/2b5c368c24220be63bd6b6e7aad314be.jpg',\n",
       " 'unknown/3667221c580173387d449cfd4eff7c44.jpg',\n",
       " 'unknown/10863e6d9d1cb526cc9d90f30a585719.jpg',\n",
       " 'unknown/9611506b05aa188311430c47413dfacd.jpg',\n",
       " 'unknown/1c1767a5452eae189299229d6a3d256c.jpg',\n",
       " 'unknown/51f7ee4da73747c55e2f9752ae1f8867.jpg',\n",
       " 'unknown/8ba73ad008103e2462c5ce577e410ada.jpg',\n",
       " 'unknown/2f3685ad0f4c2685557ebdb0fd5b9773.jpg',\n",
       " 'unknown/e774fbfeb4b712ca042f93edea3835af.jpg',\n",
       " 'unknown/61bca8b109157bcd0bbcc083b6590e3b.jpg',\n",
       " 'unknown/d786274a5042d9f222833b8dd38d0550.jpg',\n",
       " 'unknown/1a4e71382924b8573ce62b7693da5205.jpg',\n",
       " 'unknown/2d83147d68b1158edc0eec2f11a4f26a.jpg',\n",
       " 'unknown/8b3d18a05a38498feb192fa741732239.jpg',\n",
       " 'unknown/57bb7cd827e0afec4d761aefaeb08996.jpg',\n",
       " 'unknown/53228eb119340867718b808e363e3e5f.jpg',\n",
       " 'unknown/ad92d5441eaa22a3c8d665e2808a9f75.jpg',\n",
       " 'unknown/1b7e7016d6fc41f854926bc5c047cdae.jpg',\n",
       " 'unknown/e103930a8a4416f076c81a51907a7512.jpg',\n",
       " 'unknown/6acc281a51e906efd3e7b083ffe30894.jpg',\n",
       " 'unknown/7d94e79bfaeb976f7ecc36165a4c7078.jpg',\n",
       " 'unknown/2037746b94710520830a27cc81780b4d.jpg',\n",
       " 'unknown/d1747723ab74ddba26c1530d03ea80cd.jpg',\n",
       " 'unknown/6920b344dcb5d50c615091c43924a5b7.jpg',\n",
       " 'unknown/42c10d2fdabe41a8d0f3120025737fab.jpg',\n",
       " 'unknown/86ec75dbb6c2b7cd09293148785f563a.jpg',\n",
       " 'unknown/d43b95becf6d164c6ee4a2ede286feae.jpg',\n",
       " 'unknown/c1a79da1ba5a1f51f4184c24f2191ef8.jpg',\n",
       " 'unknown/46782af314bc08de257d893c3128ac4a.jpg',\n",
       " 'unknown/2c93a523f3c975aaf10aa85bea49336e.jpg',\n",
       " 'unknown/0c4748f4416edb56b232fa715696abcf.jpg',\n",
       " 'unknown/aea8c134706261a8feb9e129c5363bdb.jpg',\n",
       " 'unknown/985ae7fc271ac4a0d131e546c0f95bb6.jpg',\n",
       " 'unknown/49e4381d88ea41b16cd08e03d706d49f.jpg',\n",
       " 'unknown/d8d6cd8825d0222dc74792788619b72e.jpg',\n",
       " 'unknown/a00866ef441ff30b22e0fdc31b1fd604.jpg',\n",
       " 'unknown/63d6e1f3e8b61e911796516e0d58f879.jpg',\n",
       " 'unknown/11a1f410bc886bcd880fb90462c58f23.jpg',\n",
       " 'unknown/e062ea256ada165dfe998fbc6529dff7.jpg',\n",
       " 'unknown/29a1288277a526148349518cf6ea71e4.jpg',\n",
       " 'unknown/b8c934eb60df41a00a840a9982a5d3dd.jpg',\n",
       " 'unknown/2d18205817a06a80258495b10047aabd.jpg',\n",
       " 'unknown/3de98ac5b1344f02756bc3e9b2e90433.jpg',\n",
       " 'unknown/c153bb8aa922179a4bdb9cdc2a513d2c.jpg',\n",
       " 'unknown/b69e0598531d2ac48b7ff13f5e6c2086.jpg',\n",
       " 'unknown/34581bf56d913cdb9b4f3f142def50a6.jpg',\n",
       " 'unknown/f47cd43251c741ee459c688955c41f29.jpg',\n",
       " 'unknown/e26901a9e04f0ba89765fb9b9b7f675f.jpg',\n",
       " 'unknown/b6b1b982d156cd439f9bca9a81f67236.jpg',\n",
       " 'unknown/e5e51d0dfc3ccdb74de51933b2671742.jpg',\n",
       " 'unknown/dd7fbb397a4968d9ae54d1d7b7a35ae6.jpg',\n",
       " 'unknown/7c374c4f789e401298a219d116e19474.jpg',\n",
       " 'unknown/f90ace46a8ccf051f6f7ec783ad8e258.jpg',\n",
       " 'unknown/4ad031c46088e6f66fd17e2866747a52.jpg',\n",
       " 'unknown/dc722a27367e371688695f3f106273cf.jpg',\n",
       " 'unknown/72cd7496a319c832f670fbb8d349217e.jpg',\n",
       " 'unknown/421390226c4ceaeef9fa3e3c13479fac.jpg',\n",
       " 'unknown/0bb31d2e7e30340a947dc809f1143b63.jpg',\n",
       " 'unknown/e7dc8cc599049ea9fa2a172c88646c57.jpg',\n",
       " 'unknown/2ef1c0ff95eba94cef8646afcb7a730b.jpg',\n",
       " 'unknown/dc7f80794faf18f0f3b658528a630812.jpg',\n",
       " 'unknown/c4627cbbf3ec0e8adfb7b1c573db0f72.jpg',\n",
       " 'unknown/719c20e68567910305db04be473df3cb.jpg',\n",
       " 'unknown/5d1e83adfaac47f754f16021615fc8bf.jpg',\n",
       " 'unknown/efdd2006f173de50417a1a9ee170194b.jpg',\n",
       " 'unknown/e402619cf0a1766811068db0dd42fbae.jpg',\n",
       " 'unknown/31fd0ada33f46691cbc79ca3d4460311.jpg',\n",
       " 'unknown/15ff3e68e2352305e87acf8905591f9b.jpg',\n",
       " 'unknown/dcd3cfe0cd6d363a3ed21639c434c8d3.jpg',\n",
       " 'unknown/dd5c5652d5d34e922af98c9b0295d909.jpg',\n",
       " 'unknown/2e14a1d3314bdd98aa9c4d43cf3e46bc.jpg',\n",
       " 'unknown/54ac1cd80d3d7dfadd8d2ffc2214c2e9.jpg',\n",
       " 'unknown/54a1b84f5cd7736fae4ca5c71f38b948.jpg',\n",
       " 'unknown/9c046b86baa7048fba221c4276013aa4.jpg',\n",
       " 'unknown/e7b357150635c250757363718e4dae86.jpg',\n",
       " 'unknown/580f38c5f64221a2b0fcc4a823db2fb9.jpg',\n",
       " 'unknown/1b7421b4d34056c04a9b2d109e503fe4.jpg',\n",
       " 'unknown/4fed65755872b7e73749ce081a90fc1c.jpg',\n",
       " 'unknown/eb7d51eeeab24f94b54a4f8b19f6cdc5.jpg',\n",
       " 'unknown/91faa9c8a54b8d32f34351de3b48c432.jpg',\n",
       " 'unknown/2b62746055a36ecfc5e238454d83e987.jpg',\n",
       " 'unknown/3a695fc2d0533ca7da34d52374ee59eb.jpg',\n",
       " 'unknown/bcd3f3f8402b5b476ca6d6c5fe1661bd.jpg',\n",
       " 'unknown/b3d0fd27a8c388bcb57e2d9634241604.jpg',\n",
       " 'unknown/1f3c7d1814b6e63263f89b742ebac82d.jpg',\n",
       " 'unknown/f285b753c96949769c745ec0f90b2253.jpg',\n",
       " 'unknown/fa2f44a5e2c304e76f65bb9fa60ecb10.jpg',\n",
       " 'unknown/001510bc8570bbeee98c8d80c8a95ec1.jpg',\n",
       " 'unknown/32af86f0ccd36975cc43113dedbde438.jpg',\n",
       " 'unknown/a0e7349a0f85e5290de7195e9a1b7ada.jpg',\n",
       " 'unknown/e288dace85bb7ae95b545066bcbdee60.jpg',\n",
       " 'unknown/745cf5a1e6bbd3b44dcff5b3733e6827.jpg',\n",
       " 'unknown/953288c40b2380ee4d790a104fca39bb.jpg',\n",
       " 'unknown/49e37b5072edc534eddf44569ca46b38.jpg',\n",
       " 'unknown/59f8e54314ff4f560d615af6476c69cd.jpg',\n",
       " 'unknown/63a1aa34a5209888ebb99ba0248dcd31.jpg',\n",
       " 'unknown/5f7ed6f291c075671b37147465761941.jpg',\n",
       " 'unknown/07d9d2f42eb35dd4d84b184abc4e8412.jpg',\n",
       " 'unknown/4bc6141ce276b118fa24e20d779e3a35.jpg',\n",
       " 'unknown/da383e0970244d4308a9335b3ae1d8da.jpg',\n",
       " 'unknown/9f04a42304ebbc558a5cf0c3f46541b3.jpg',\n",
       " 'unknown/b171e4ea1717aefa495e4b5e67dba0f1.jpg',\n",
       " 'unknown/91f2d77acdbe7628a70f16b35ac2798d.jpg',\n",
       " 'unknown/512d7356a0f65a71aa3036f9326837c8.jpg',\n",
       " 'unknown/19eb30911450a6314e3875558012f0e6.jpg',\n",
       " 'unknown/bccaf89b692d209d18ad7e1201fb342f.jpg',\n",
       " ...]"
      ]
     },
     "execution_count": 122,
     "metadata": {},
     "output_type": "execute_result"
    }
   ],
   "source": [
    "test_batches.filenames"
   ]
  },
  {
   "cell_type": "code",
   "execution_count": 125,
   "metadata": {},
   "outputs": [
    {
     "name": "stdout",
     "output_type": "stream",
     "text": [
      "1035/1035 [==============================] - 512s   \n"
     ]
    }
   ],
   "source": [
    "# the predict_generator method returns the output of a model, given\n",
    "# a generator that yields batches of numpy data\n",
    "inception_bottleneck_features_test = conv_model_inception_v3.predict_generator(test_batches,\n",
    "                                                                               test_batches.n,# // batch_size, \n",
    "                                                                               verbose = 1)"
   ]
  },
  {
   "cell_type": "code",
   "execution_count": 126,
   "metadata": {
    "collapsed": true
   },
   "outputs": [],
   "source": [
    "np.save(open('bottleneck_features_test.npy', 'w'),\n",
    "            inception_bottleneck_features_test)"
   ]
  },
  {
   "cell_type": "code",
   "execution_count": 127,
   "metadata": {
    "collapsed": true
   },
   "outputs": [],
   "source": [
    "inception_bottleneck_features_test = np.load('bottleneck_features_test.npy')"
   ]
  },
  {
   "cell_type": "code",
   "execution_count": 129,
   "metadata": {},
   "outputs": [
    {
     "data": {
      "text/plain": [
       "1035"
      ]
     },
     "execution_count": 129,
     "metadata": {},
     "output_type": "execute_result"
    }
   ],
   "source": [
    "test_batches.n"
   ]
  },
  {
   "cell_type": "code",
   "execution_count": 132,
   "metadata": {},
   "outputs": [
    {
     "data": {
      "text/plain": [
       "(1035, 8, 8, 2048)"
      ]
     },
     "execution_count": 132,
     "metadata": {},
     "output_type": "execute_result"
    }
   ],
   "source": [
    "inception_bottleneck_features_test.shape"
   ]
  },
  {
   "cell_type": "code",
   "execution_count": null,
   "metadata": {
    "collapsed": true
   },
   "outputs": [],
   "source": []
  },
  {
   "cell_type": "code",
   "execution_count": 134,
   "metadata": {},
   "outputs": [
    {
     "name": "stdout",
     "output_type": "stream",
     "text": [
      " 960/1035 [==========================>...] - ETA: 0s"
     ]
    },
    {
     "data": {
      "text/plain": [
       "array([9, 8, 0, ..., 8, 6, 4])"
      ]
     },
     "execution_count": 134,
     "metadata": {},
     "output_type": "execute_result"
    }
   ],
   "source": [
    "top_model.predict_classes(inception_bottleneck_features_test)#,batch_size=batch_size)"
   ]
  },
  {
   "cell_type": "code",
   "execution_count": 135,
   "metadata": {},
   "outputs": [
    {
     "name": "stdout",
     "output_type": "stream",
     "text": [
      " 960/1035 [==========================>...] - ETA: 0s"
     ]
    },
    {
     "data": {
      "text/plain": [
       "array([[  1.96396224e-02,   2.17286441e-02,   1.32535016e-02, ...,\n",
       "          2.56652292e-02,   2.15470120e-01,   4.51119572e-01],\n",
       "       [  4.87184757e-03,   6.93862140e-02,   2.07480974e-02, ...,\n",
       "          4.80484776e-03,   4.57924902e-01,   2.45568946e-01],\n",
       "       [  2.39258260e-01,   1.65793300e-01,   9.16322991e-02, ...,\n",
       "          1.26794711e-01,   6.42298087e-02,   6.74392655e-02],\n",
       "       ..., \n",
       "       [  6.83490979e-03,   3.64414006e-02,   2.19709426e-02, ...,\n",
       "          9.19466664e-04,   9.14869010e-01,   6.44592196e-03],\n",
       "       [  8.43352100e-05,   1.05539621e-04,   8.56011866e-06, ...,\n",
       "          1.20029676e-04,   5.42432244e-05,   2.77142408e-05],\n",
       "       [  5.44496905e-03,   8.50681099e-04,   5.38497046e-03, ...,\n",
       "          6.24949066e-03,   2.27155834e-02,   3.75966122e-03]], dtype=float32)"
      ]
     },
     "execution_count": 135,
     "metadata": {},
     "output_type": "execute_result"
    }
   ],
   "source": [
    "top_model.predict_proba(inception_bottleneck_features_test)"
   ]
  },
  {
   "cell_type": "code",
   "execution_count": 136,
   "metadata": {},
   "outputs": [
    {
     "name": "stdout",
     "output_type": "stream",
     "text": [
      "120/120 [==============================] - 0s     \n",
      " 12/120 [==>...........................] - ETA: 0s"
     ]
    }
   ],
   "source": [
    "# predicted classes\n",
    "incept_valid_preds = top_model.predict_classes(bottleneck_features_valid, batch_size=batch_size)\n",
    "\n",
    "# probabilities of being in a given class\n",
    "incept_valid_probs = top_model.predict_proba(bottleneck_features_valid, batch_size=batch_size)#[:,5]\n"
   ]
  },
  {
   "cell_type": "code",
   "execution_count": 137,
   "metadata": {},
   "outputs": [
    {
     "data": {
      "text/plain": [
       "<matplotlib.image.AxesImage at 0x7f9e45085390>"
      ]
     },
     "execution_count": 137,
     "metadata": {},
     "output_type": "execute_result"
    },
    {
     "data": {
      "image/png": "[encoded data removed]",
      "text/plain": [
       "<matplotlib.figure.Figure at 0x7f9e4512d1d0>"
      ]
     },
     "metadata": {},
     "output_type": "display_data"
    }
   ],
   "source": [
    "cm = confusion_matrix(incept_valid_preds, valid_batches.classes)\n",
    "plt.imshow(cm)"
   ]
  },
  {
   "cell_type": "code",
   "execution_count": null,
   "metadata": {
    "collapsed": true
   },
   "outputs": [],
   "source": []
  },
  {
   "cell_type": "code",
   "execution_count": 276,
   "metadata": {},
   "outputs": [
    {
     "name": "stdout",
     "output_type": "stream",
     "text": [
      "/home/ubuntu/nbs/dog_breed\n"
     ]
    }
   ],
   "source": [
    "write_submission_file(test_probs=incept_test_probs,model_name='Inception', clip_value=0.0)"
   ]
  },
  {
   "cell_type": "code",
   "execution_count": null,
   "metadata": {
    "collapsed": true
   },
   "outputs": [],
   "source": []
  },
  {
   "cell_type": "markdown",
   "metadata": {},
   "source": [
    "## 3.2. Inception : data augmentation + transfer learning"
   ]
  },
  {
   "cell_type": "raw",
   "metadata": {},
   "source": [
    "conv_model_inception_v3 = InceptionV3(include_top=False, weights='imagenet', input_tensor=input_tensor)"
   ]
  },
  {
   "cell_type": "code",
   "execution_count": 192,
   "metadata": {
    "collapsed": true
   },
   "outputs": [],
   "source": [
    "x = conv_model_inception_v3.output\n",
    "#x = GlobalAveragePooling2D()(x)\n",
    "x = Flatten()(x)\n",
    "#x = Dense(256, activation='relu')(x)\n",
    "#x = Dropout(0.5)(x)\n",
    "out = Dense(output_dim, activation='softmax')(x)"
   ]
  },
  {
   "cell_type": "code",
   "execution_count": 193,
   "metadata": {
    "collapsed": true
   },
   "outputs": [],
   "source": [
    "# this is the model we will train\n",
    "model = Model(inputs=conv_model_inception_v3.input, outputs=out)\n",
    "\n",
    "# first: train only the top layers (which were randomly initialized)\n",
    "# i.e. freeze all convolutional InceptionV3 layers\n",
    "for layer in conv_model_inception_v3.layers:\n",
    "    layer.trainable = False\n",
    "\n",
    "# compile the model (should be done *after* setting layers to non-trainable)\n",
    "model.compile(optimizer=opt, loss='categorical_crossentropy', metrics=['accuracy'])"
   ]
  },
  {
   "cell_type": "code",
   "execution_count": 173,
   "metadata": {},
   "outputs": [
    {
     "name": "stdout",
     "output_type": "stream",
     "text": [
      "Found 1021 images belonging to 10 classes.\n",
      "Found 120 images belonging to 10 classes.\n"
     ]
    }
   ],
   "source": [
    "train_datagen = ImageDataGenerator(preprocessing_function=xception.preprocess_input,#rescale=1./255,\n",
    "                                   shear_range=0.2,\n",
    "                                   zoom_range=0.2,\n",
    "                                   horizontal_flip=True)\n",
    "validation_datagen = ImageDataGenerator(preprocessing_function=xception.preprocess_input)#rescale=1./255)\n",
    "\n",
    "train_generator = train_datagen.flow_from_directory(\n",
    "                        path + 'train',\n",
    "                        target_size=(299,299),\n",
    "                        batch_size=batch_size,\n",
    "                        class_mode='categorical')\n",
    "\n",
    "validation_generator = validation_datagen.flow_from_directory(\n",
    "                            path + 'valid',\n",
    "                            target_size=(299,299),\n",
    "                            batch_size=batch_size,\n",
    "                            class_mode='categorical')"
   ]
  },
  {
   "cell_type": "code",
   "execution_count": 185,
   "metadata": {
    "collapsed": true
   },
   "outputs": [],
   "source": [
    "batch_size = 16"
   ]
  },
  {
   "cell_type": "code",
   "execution_count": 186,
   "metadata": {},
   "outputs": [
    {
     "data": {
      "text/plain": [
       "10"
      ]
     },
     "execution_count": 186,
     "metadata": {},
     "output_type": "execute_result"
    }
   ],
   "source": [
    "validation_generator.n // batch_size"
   ]
  },
  {
   "cell_type": "code",
   "execution_count": 187,
   "metadata": {},
   "outputs": [
    {
     "name": "stdout",
     "output_type": "stream",
     "text": [
      "Epoch 1/1\n",
      "85/85 [==============================] - 5485s - loss: 0.4902 - acc: 0.8948 - val_loss: 0.2446 - val_acc: 0.9417\n"
     ]
    },
    {
     "data": {
      "text/plain": [
       "<keras.callbacks.History at 0x7f9e3a307610>"
      ]
     },
     "execution_count": 187,
     "metadata": {},
     "output_type": "execute_result"
    }
   ],
   "source": [
    "model.fit_generator(#10h52 600s->    // 900s\n",
    "    train_generator,\n",
    "    steps_per_epoch=train_generator.n // batch_size,\n",
    "    epochs=1,\n",
    "    validation_data=validation_generator,\n",
    "    validation_steps=validation_generator.n // batch_size)"
   ]
  },
  {
   "cell_type": "raw",
   "metadata": {},
   "source": [
    "Epoch 1/10\n",
    "1020/1020 [==============================] - 1s - loss: 1.1462 - acc: 0.6931 - val_loss: 0.1671 - val_acc: 0.9417"
   ]
  },
  {
   "cell_type": "code",
   "execution_count": 188,
   "metadata": {
    "collapsed": true
   },
   "outputs": [],
   "source": [
    "model.save_weights(model_path+'inc_augment_K2-v3.h5')"
   ]
  },
  {
   "cell_type": "code",
   "execution_count": 189,
   "metadata": {},
   "outputs": [
    {
     "name": "stdout",
     "output_type": "stream",
     "text": [
      "Epoch 1/1\n",
      "85/85 [==============================] - 5304s - loss: 0.0520 - acc: 0.9836 - val_loss: 0.3371 - val_acc: 0.9250\n"
     ]
    },
    {
     "data": {
      "text/plain": [
       "<keras.callbacks.History at 0x7f9e3a166250>"
      ]
     },
     "execution_count": 189,
     "metadata": {},
     "output_type": "execute_result"
    }
   ],
   "source": [
    "model.fit_generator(#10h52 600s->    // 900s\n",
    "    train_generator,\n",
    "    steps_per_epoch=train_generator.n // batch_size,\n",
    "    epochs=1,\n",
    "    validation_data=validation_generator,\n",
    "    validation_steps=validation_generator.n // batch_size)"
   ]
  },
  {
   "cell_type": "raw",
   "metadata": {},
   "source": [
    "loss: 0.0318 - acc: 0.9941 - val_loss: 0.1170 - val_acc: 0.9583"
   ]
  },
  {
   "cell_type": "markdown",
   "metadata": {},
   "source": [
    "### --- test avec generators sans augmentation :  same loss, little bit less acc."
   ]
  },
  {
   "cell_type": "code",
   "execution_count": 190,
   "metadata": {},
   "outputs": [
    {
     "name": "stdout",
     "output_type": "stream",
     "text": [
      "Found 1021 images belonging to 10 classes.\n",
      "Found 120 images belonging to 10 classes.\n"
     ]
    }
   ],
   "source": [
    "train_datagen = ImageDataGenerator(preprocessing_function=xception.preprocess_input)\n",
    "validation_datagen = ImageDataGenerator(preprocessing_function=xception.preprocess_input)#rescale=1./255)\n",
    "\n",
    "train_generator = train_datagen.flow_from_directory(\n",
    "                        path + 'train',\n",
    "                        target_size=(299,299),\n",
    "                        batch_size=batch_size,\n",
    "                        class_mode='categorical')\n",
    "\n",
    "validation_generator = validation_datagen.flow_from_directory(\n",
    "                            path + 'valid',\n",
    "                            target_size=(299,299),\n",
    "                            batch_size=batch_size,\n",
    "                            class_mode='categorical')"
   ]
  },
  {
   "cell_type": "code",
   "execution_count": 194,
   "metadata": {},
   "outputs": [
    {
     "name": "stdout",
     "output_type": "stream",
     "text": [
      "Epoch 1/1\n",
      "85/85 [==============================] - 486s - loss: 1.3516 - acc: 0.6883 - val_loss: 0.3337 - val_acc: 0.9083\n"
     ]
    },
    {
     "data": {
      "text/plain": [
       "<keras.callbacks.History at 0x7f9e3bdbe110>"
      ]
     },
     "execution_count": 194,
     "metadata": {},
     "output_type": "execute_result"
    }
   ],
   "source": [
    "model.fit_generator(#10h52 600s->    // 900s\n",
    "    train_generator,\n",
    "    steps_per_epoch=train_generator.n // batch_size,\n",
    "    epochs=1,\n",
    "    validation_data=validation_generator,\n",
    "    validation_steps=validation_generator.n // batch_size)"
   ]
  },
  {
   "cell_type": "markdown",
   "metadata": {},
   "source": []
  },
  {
   "cell_type": "markdown",
   "metadata": {},
   "source": [
    "## 3.3. Inception : data augmentation of features"
   ]
  },
  {
   "cell_type": "code",
   "execution_count": 201,
   "metadata": {},
   "outputs": [
    {
     "name": "stdout",
     "output_type": "stream",
     "text": [
      "Found 1021 images belonging to 10 classes.\n"
     ]
    }
   ],
   "source": [
    "train_datagen = ImageDataGenerator(preprocessing_function=xception.preprocess_input,#rescale=1./255,\n",
    "                                   shear_range=0.2,\n",
    "                                   zoom_range=0.2,\n",
    "                                   horizontal_flip=True)\n",
    "\n",
    "\n",
    "#rotation_range=15, height_shift_range=0.05, \n",
    " #               shear_range=0.1, channel_shift_range=20, width_shift_range=0.1\n",
    "    \n",
    "    \n",
    "train_generator = train_datagen.flow_from_directory(\n",
    "                        path + 'train',\n",
    "                        target_size=(299,299),\n",
    "                        batch_size=batch_size,\n",
    "                        class_mode='categorical',\n",
    "                        shuffle = False)"
   ]
  },
  {
   "cell_type": "code",
   "execution_count": 202,
   "metadata": {},
   "outputs": [
    {
     "name": "stdout",
     "output_type": "stream",
     "text": [
      "425/425 [==============================] - 2516s  \n"
     ]
    }
   ],
   "source": [
    "inception_bottleneck_features_train = conv_model_inception_v3.predict_generator(train_generator, \n",
    "                                                                      steps = 5*(train_generator.n // batch_size),\n",
    "                                                                      verbose = 1)"
   ]
  },
  {
   "cell_type": "code",
   "execution_count": 203,
   "metadata": {
    "collapsed": true
   },
   "outputs": [],
   "source": [
    "np.save(open('bottleneck_features_da.npy', 'w'), inception_bottleneck_features_train) #2.7 Go !!"
   ]
  },
  {
   "cell_type": "code",
   "execution_count": 251,
   "metadata": {},
   "outputs": [
    {
     "data": {
      "text/plain": [
       "(5056, 8, 8, 2048)"
      ]
     },
     "execution_count": 251,
     "metadata": {},
     "output_type": "execute_result"
    }
   ],
   "source": [
    "inception_bottleneck_features_train.shape #different de 1021*5=5105"
   ]
  },
  {
   "cell_type": "code",
   "execution_count": 252,
   "metadata": {},
   "outputs": [
    {
     "data": {
      "text/plain": [
       "(4084, 8, 8, 2048)"
      ]
     },
     "execution_count": 252,
     "metadata": {},
     "output_type": "execute_result"
    }
   ],
   "source": [
    "inception_bottleneck_features_train[:4084,:].shape"
   ]
  },
  {
   "cell_type": "code",
   "execution_count": 270,
   "metadata": {
    "collapsed": true
   },
   "outputs": [],
   "source": [
    "train_feat_label = np.concatenate([train_labels]*4)"
   ]
  },
  {
   "cell_type": "code",
   "execution_count": null,
   "metadata": {
    "collapsed": true
   },
   "outputs": [],
   "source": []
  },
  {
   "cell_type": "code",
   "execution_count": 204,
   "metadata": {
    "collapsed": true
   },
   "outputs": [],
   "source": [
    "top_model = Sequential([\n",
    "        Flatten(input_shape = inception_bottleneck_features_train.shape[1:]),\n",
    "        #Dropout(0.5),\n",
    "        #Dense(128, activation='relu'),\n",
    "        #Dropout(0.5),\n",
    "        Dense(output_dim, activation='softmax')\n",
    "        ])\n",
    "top_model.compile(optimizer=opt, loss='categorical_crossentropy', metrics=['accuracy'])\n"
   ]
  },
  {
   "cell_type": "code",
   "execution_count": 205,
   "metadata": {
    "collapsed": true
   },
   "outputs": [],
   "source": [
    "batch_size = 128  #64"
   ]
  },
  {
   "cell_type": "code",
   "execution_count": 271,
   "metadata": {
    "scrolled": true
   },
   "outputs": [
    {
     "name": "stdout",
     "output_type": "stream",
     "text": [
      "Train on 4084 samples, validate on 120 samples\n",
      "Epoch 1/10\n",
      "4084/4084 [==============================] - 3s - loss: 1.0994 - acc: 0.7919 - val_loss: 0.1445 - val_acc: 0.9500\n",
      "Epoch 2/10\n",
      "4084/4084 [==============================] - 3s - loss: 0.0964 - acc: 0.9755 - val_loss: 0.1681 - val_acc: 0.9667\n",
      "Epoch 3/10\n",
      "4084/4084 [==============================] - 3s - loss: 0.0337 - acc: 0.9917 - val_loss: 0.1645 - val_acc: 0.9583\n",
      "Epoch 4/10\n",
      "4084/4084 [==============================] - 3s - loss: 0.0359 - acc: 0.9907 - val_loss: 0.1919 - val_acc: 0.9667\n",
      "Epoch 5/10\n",
      "4084/4084 [==============================] - 3s - loss: 8.5526e-04 - acc: 1.0000 - val_loss: 0.1878 - val_acc: 0.9583\n",
      "Epoch 6/10\n",
      "4084/4084 [==============================] - 3s - loss: 0.0443 - acc: 0.9882 - val_loss: 0.2007 - val_acc: 0.9667\n",
      "Epoch 7/10\n",
      "4084/4084 [==============================] - 3s - loss: 3.1889e-04 - acc: 1.0000 - val_loss: 0.2087 - val_acc: 0.9667\n",
      "Epoch 8/10\n",
      "4084/4084 [==============================] - 3s - loss: 1.6134e-04 - acc: 1.0000 - val_loss: 0.2211 - val_acc: 0.9667\n",
      "Epoch 9/10\n",
      "4084/4084 [==============================] - 3s - loss: 0.0349 - acc: 0.9917 - val_loss: 0.2519 - val_acc: 0.9667\n",
      "Epoch 10/10\n",
      "4084/4084 [==============================] - 3s - loss: 7.7691e-05 - acc: 1.0000 - val_loss: 0.2454 - val_acc: 0.9667\n"
     ]
    },
    {
     "data": {
      "text/plain": [
       "<keras.callbacks.History at 0x7f9e3be59150>"
      ]
     },
     "execution_count": 271,
     "metadata": {},
     "output_type": "execute_result"
    }
   ],
   "source": [
    "top_model.fit(inception_bottleneck_features_train[:4084,:], train_feat_label, epochs = 10, batch_size = batch_size, \n",
    "                 validation_data = (inception_bottleneck_features_valid, valid_labels))"
   ]
  },
  {
   "cell_type": "raw",
   "metadata": {},
   "source": [
    "Train on 1020 samples, validate on 120 samples\n",
    "Epoch 1/10\n",
    "1020/1020 [==============================] - 1s - loss: 1.1462 - acc: 0.6931 - val_loss: 0.1671 - val_acc: 0.9417\n",
    "Epoch 2/10\n",
    "1020/1020 [==============================] - 0s - loss: 0.0318 - acc: 0.9941 - val_loss: 0.1170 - val_acc: 0.9583\n",
    "Epoch 3/10\n",
    "1020/1020 [==============================] - 0s - loss: 0.0122 - acc: 1.0000 - val_loss: 0.1079 - val_acc: 0.9750\n",
    "Epoch 4/10\n",
    "1020/1020 [==============================] - 0s - loss: 0.0081 - acc: 1.0000 - val_loss: 0.1077 - val_acc: 0.9667\n",
    "Epoch 5/10\n",
    "1020/1020 [==============================] - 0s - loss: 0.0051 - acc: 1.0000 - val_loss: 0.1047 - val_acc: 0.9750\n",
    "Epoch 6/10\n",
    "1020/1020 [==============================] - 0s - loss: 0.0035 - acc: 1.0000 - val_loss: 0.1147 - val_acc: 0.9583\n",
    "Epoch 7/10\n",
    "1020/1020 [==============================] - 0s - loss: 0.0024 - acc: 1.0000 - val_loss: 0.1125 - val_acc: 0.9667\n",
    "Epoch 8/10\n",
    "1020/1020 [==============================] - 0s - loss: 0.0017 - acc: 1.0000 - val_loss: 0.1011 - val_acc: 0.9833\n",
    "Epoch 9/10\n",
    "1020/1020 [==============================] - 0s - loss: 0.0012 - acc: 1.0000 - val_loss: 0.1047 - val_acc: 0.9833\n",
    "Epoch 10/10\n",
    "1020/1020 [==============================] - 0s - loss: 7.6937e-04 - acc: 1.0000 - val_loss: 0.1132 - val_acc: 0.9833"
   ]
  },
  {
   "cell_type": "code",
   "execution_count": null,
   "metadata": {
    "collapsed": true
   },
   "outputs": [],
   "source": []
  },
  {
   "cell_type": "code",
   "execution_count": null,
   "metadata": {
    "collapsed": true
   },
   "outputs": [],
   "source": []
  },
  {
   "cell_type": "markdown",
   "metadata": {},
   "source": [
    "## 4.4. Xception"
   ]
  },
  {
   "cell_type": "code",
   "execution_count": 59,
   "metadata": {
    "collapsed": true
   },
   "outputs": [],
   "source": [
    "conv_model_xception = xception.Xception(include_top=False, weights='imagenet', input_tensor=input_tensor)"
   ]
  },
  {
   "cell_type": "code",
   "execution_count": 60,
   "metadata": {
    "collapsed": true
   },
   "outputs": [],
   "source": [
    "batch_size = 4"
   ]
  },
  {
   "cell_type": "code",
   "execution_count": 61,
   "metadata": {},
   "outputs": [
    {
     "name": "stdout",
     "output_type": "stream",
     "text": [
      "231.381525993\n"
     ]
    }
   ],
   "source": [
    "start = time.time()\n",
    "xception_bottleneck_features_train = conv_model_xception.predict(train_data, batch_size=batch_size)#230\n",
    "\n",
    "end = time.time()\n",
    "print(end - start) #367s sample set"
   ]
  },
  {
   "cell_type": "code",
   "execution_count": 62,
   "metadata": {},
   "outputs": [
    {
     "name": "stdout",
     "output_type": "stream",
     "text": [
      "25.6185231209\n"
     ]
    }
   ],
   "source": [
    "start = time.time()\n",
    "xception_bottleneck_features_valid = conv_model_xception.predict(valid_data, batch_size=batch_size)\n",
    "end = time.time()\n",
    "print(end - start) #36s sample set"
   ]
  },
  {
   "cell_type": "code",
   "execution_count": 63,
   "metadata": {},
   "outputs": [
    {
     "name": "stdout",
     "output_type": "stream",
     "text": [
      "259.585526943\n"
     ]
    }
   ],
   "source": [
    "start = time.time()\n",
    "xception_bottleneck_features_test = conv_model_xception.predict(test_data, batch_size=batch_size)\n",
    "end = time.time()\n",
    "print(end - start) #305s sample set"
   ]
  },
  {
   "cell_type": "code",
   "execution_count": 64,
   "metadata": {},
   "outputs": [
    {
     "data": {
      "text/plain": [
       "(10, 10, 2048)"
      ]
     },
     "execution_count": 64,
     "metadata": {},
     "output_type": "execute_result"
    }
   ],
   "source": [
    "xception_bottleneck_features_train.shape[1:]"
   ]
  },
  {
   "cell_type": "markdown",
   "metadata": {},
   "source": [
    "### linear model on top of xception features "
   ]
  },
  {
   "cell_type": "code",
   "execution_count": 65,
   "metadata": {
    "collapsed": true
   },
   "outputs": [],
   "source": [
    "# Such a finely tuned model needs to be updated very slowly!\n",
    "#opt = RMSprop(lr=0.00001, rho=0.7)\n",
    "#opt = RMSprop(lr=0.0001)#, rho=0.7)\n",
    "#opt = Adam(1e-4)\n",
    "opt= RMSprop(1e-5)"
   ]
  },
  {
   "cell_type": "code",
   "execution_count": 98,
   "metadata": {
    "collapsed": true
   },
   "outputs": [],
   "source": [
    "top_model = Sequential([\n",
    "        Flatten(input_shape = xception_bottleneck_features_train.shape[1:]),\n",
    "        #GlobalAveragePooling2D(input_shape=xception_bottleneck_features_train.shape[1:]),\n",
    "        #Dropout(0.),\n",
    "        #Dense(512, activation='relu'),\n",
    "        Dropout(0.5),\n",
    "        Dense(output_dim, activation='softmax')\n",
    "        ])\n",
    "top_model.compile(optimizer= opt , loss='categorical_crossentropy', metrics=['accuracy'])\n"
   ]
  },
  {
   "cell_type": "code",
   "execution_count": 99,
   "metadata": {
    "collapsed": true
   },
   "outputs": [],
   "source": [
    "batch_size = 128  #64"
   ]
  },
  {
   "cell_type": "code",
   "execution_count": 112,
   "metadata": {},
   "outputs": [
    {
     "name": "stdout",
     "output_type": "stream",
     "text": [
      "Train on 9200 samples, validate on 1022 samples\n",
      "Epoch 1/1\n",
      "9200/9200 [==============================] - 7s - loss: 0.1314 - acc: 0.9601 - val_loss: 0.3482 - val_acc: 0.8924\n"
     ]
    },
    {
     "data": {
      "text/plain": [
       "<keras.callbacks.History at 0x7f34ef610ad0>"
      ]
     },
     "execution_count": 112,
     "metadata": {},
     "output_type": "execute_result"
    }
   ],
   "source": [
    "top_model.fit(xception_bottleneck_features_train, train_labels, nb_epoch = 1, batch_size = batch_size,  #epochs Keras2\n",
    "                 validation_data = (xception_bottleneck_features_valid, valid_labels))"
   ]
  },
  {
   "cell_type": "code",
   "execution_count": 84,
   "metadata": {
    "collapsed": true
   },
   "outputs": [],
   "source": [
    "top_model.save_weights(model_path+'bottleneck.h5')"
   ]
  },
  {
   "cell_type": "markdown",
   "metadata": {},
   "source": [
    "loss: 0.1996 - acc: 0.9428 - val_loss: 0.3498 - val_acc: 0.8933"
   ]
  },
  {
   "cell_type": "markdown",
   "metadata": {},
   "source": [
    "### predictions"
   ]
  },
  {
   "cell_type": "code",
   "execution_count": 113,
   "metadata": {},
   "outputs": [
    {
     "name": "stdout",
     "output_type": "stream",
     "text": [
      "10357/10357 [==============================] - 4s     \n",
      "1022/1022 [==============================] - 0s     \n",
      "10357/10357 [==============================] - 4s     \n",
      "1022/1022 [==============================] - 0s     \n"
     ]
    },
    {
     "data": {
      "text/plain": [
       "(10357,)"
      ]
     },
     "execution_count": 113,
     "metadata": {},
     "output_type": "execute_result"
    }
   ],
   "source": [
    "# predicted classes\n",
    "xc_test_preds = top_model.predict_classes(xception_bottleneck_features_test, batch_size=batch_size)\n",
    "xc_valid_preds = top_model.predict_classes(xception_bottleneck_features_valid, batch_size=batch_size)\n",
    "\n",
    "# probabilities of being in a given class\n",
    "xc_test_probs = top_model.predict_proba(xception_bottleneck_features_test, batch_size=batch_size)#[:,5]\n",
    "xc_valid_probs = top_model.predict_proba(xception_bottleneck_features_valid, batch_size=batch_size)#[:,5]\n",
    "\n",
    "xc_test_preds.shape\n",
    "#probs.shape"
   ]
  },
  {
   "cell_type": "code",
   "execution_count": 114,
   "metadata": {},
   "outputs": [
    {
     "data": {
      "text/plain": [
       "<matplotlib.image.AxesImage at 0x7f34ef4dbe50>"
      ]
     },
     "execution_count": 114,
     "metadata": {},
     "output_type": "execute_result"
    },
    {
     "data": {
      "image/png": "[encoded data removed]",
      "text/plain": [
       "<matplotlib.figure.Figure at 0x7f38ab438850>"
      ]
     },
     "metadata": {},
     "output_type": "display_data"
    }
   ],
   "source": [
    "cm = confusion_matrix(xc_valid_preds, valid_batches.classes)\n",
    "plt.imshow(cm)"
   ]
  },
  {
   "cell_type": "code",
   "execution_count": 115,
   "metadata": {},
   "outputs": [
    {
     "name": "stdout",
     "output_type": "stream",
     "text": [
      "/home/ubuntu/nbs/dog_breed\n"
     ]
    }
   ],
   "source": [
    "write_submission_file(test_probs=xc_test_probs,model_name='Xception', clip_value=0.00)"
   ]
  }
 ],
 "metadata": {
  "anaconda-cloud": {},
  "kernelspec": {
   "display_name": "Python 3",
   "language": "python",
   "name": "python3"
  },
  "language_info": {
   "codemirror_mode": {
    "name": "ipython",
    "version": 3
   },
   "file_extension": ".py",
   "mimetype": "text/x-python",
   "name": "python",
   "nbconvert_exporter": "python",
   "pygments_lexer": "ipython3",
   "version": "3.7.0"
  },
  "nav_menu": {},
  "nbpresent": {
   "slides": {
    "28b43202-5690-4169-9aca-6b9dabfeb3ec": {
     "id": "28b43202-5690-4169-9aca-6b9dabfeb3ec",
     "prev": null,
     "regions": {
      "3bba644a-cf4d-4a49-9fbd-e2554428cf9f": {
       "attrs": {
        "height": 0.8,
        "width": 0.8,
        "x": 0.1,
        "y": 0.1
       },
       "content": {
        "cell": "f3d3a388-7e2a-4151-9b50-c20498fceacc",
        "part": "whole"
       },
       "id": "3bba644a-cf4d-4a49-9fbd-e2554428cf9f"
      }
     }
    },
    "8104def2-4b68-44a0-8f1b-b03bf3b2a079": {
     "id": "8104def2-4b68-44a0-8f1b-b03bf3b2a079",
     "prev": "28b43202-5690-4169-9aca-6b9dabfeb3ec",
     "regions": {
      "7dded777-1ddf-4100-99ae-25cf1c15b575": {
       "attrs": {
        "height": 0.8,
        "width": 0.8,
        "x": 0.1,
        "y": 0.1
       },
       "content": {
        "cell": "fe47bd48-3414-4657-92e7-8b8d6cb0df00",
        "part": "whole"
       },
       "id": "7dded777-1ddf-4100-99ae-25cf1c15b575"
      }
     }
    }
   },
   "themes": {}
  },
  "toc": {
   "navigate_menu": true,
   "number_sections": true,
   "sideBar": true,
   "threshold": 6,
   "toc_cell": false,
   "toc_section_display": "block",
   "toc_window_display": false
  }
 },
 "nbformat": 4,
 "nbformat_minor": 1
}
