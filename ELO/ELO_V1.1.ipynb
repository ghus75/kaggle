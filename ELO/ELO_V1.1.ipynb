{
 "cells": [
  {
   "cell_type": "code",
   "execution_count": 165,
   "metadata": {
    "_cell_guid": "79c7e3d0-c299-4dcb-8224-4455121ee9b0",
    "_uuid": "d629ff2d2480ee46fbb7e2d37f6b5fab8052498a"
   },
   "outputs": [],
   "source": [
    "import numpy as np\n",
    "import pandas as pd\n",
    "pd.options.display.max_rows = 999\n",
    "#pd.set_option('mode.chained_assignment', None)\n",
    "\n",
    "import datetime\n",
    "import gc\n",
    "import time\n",
    "import pickle\n",
    "\n",
    "import matplotlib.pyplot as plt\n",
    "from pylab import rcParams\n",
    "%matplotlib inline \n",
    "import seaborn as sns\n",
    "sns.set()\n",
    "\n",
    "from sklearn import model_selection, preprocessing, metrics\n",
    "import lightgbm as lgb\n"
   ]
  },
  {
   "cell_type": "code",
   "execution_count": 2,
   "metadata": {
    "_uuid": "bfd1d829c986eac6b8874f0374855dbb2a6907f2"
   },
   "outputs": [],
   "source": [
    "# credit https://www.kaggle.com/roydatascience/elo-stack-interactions-on-categorical-variables\n",
    "def reduce_mem_usage(df, verbose=True):\n",
    "    numerics = ['int16', 'int32', 'int64', 'float16', 'float32', 'float64']\n",
    "    start_mem = df.memory_usage().sum() / 1024**2    \n",
    "    for col in df.columns:\n",
    "        col_type = df[col].dtypes\n",
    "        if col_type in numerics:\n",
    "            c_min = df[col].min()\n",
    "            c_max = df[col].max()\n",
    "            if str(col_type)[:3] == 'int':\n",
    "                if c_min > np.iinfo(np.int8).min and c_max < np.iinfo(np.int8).max:\n",
    "                    df[col] = df[col].astype(np.int8)\n",
    "                elif c_min > np.iinfo(np.int16).min and c_max < np.iinfo(np.int16).max:\n",
    "                    df[col] = df[col].astype(np.int16)\n",
    "                elif c_min > np.iinfo(np.int32).min and c_max < np.iinfo(np.int32).max:\n",
    "                    df[col] = df[col].astype(np.int32)\n",
    "                elif c_min > np.iinfo(np.int64).min and c_max < np.iinfo(np.int64).max:\n",
    "                    df[col] = df[col].astype(np.int64)  \n",
    "            else:\n",
    "                if c_min > np.finfo(np.float16).min and c_max < np.finfo(np.float16).max:\n",
    "                    df[col] = df[col].astype(np.float16)\n",
    "                elif c_min > np.finfo(np.float32).min and c_max < np.finfo(np.float32).max:\n",
    "                    df[col] = df[col].astype(np.float32)\n",
    "                else:\n",
    "                    df[col] = df[col].astype(np.float64)    \n",
    "    end_mem = df.memory_usage().sum() / 1024**2\n",
    "    if verbose: print('Mem. usage decreased to {:5.2f} Mb ({:.1f}% reduction)'.format(end_mem, 100 * (start_mem - end_mem) / start_mem))\n",
    "    return df"
   ]
  },
  {
   "cell_type": "code",
   "execution_count": 168,
   "metadata": {
    "_uuid": "c08160cea8aa2f2e6b3eeb9c4618b8178755bee5"
   },
   "outputs": [
    {
     "name": "stdout",
     "output_type": "stream",
     "text": [
      "Mem. usage decreased to  4.04 Mb (56.2% reduction)\n",
      "Mem. usage decreased to  2.24 Mb (52.5% reduction)\n",
      "Mem. usage decreased to 1749.11 Mb (43.7% reduction)\n",
      "Mem. usage decreased to 114.20 Mb (45.5% reduction)\n"
     ]
    }
   ],
   "source": [
    "train = reduce_mem_usage(pd.read_csv('./input/train.csv', parse_dates=[\"first_active_month\"]))\n",
    "test = reduce_mem_usage(pd.read_csv('./input/test.csv', parse_dates=[\"first_active_month\"]))\n",
    "historical_transactions = reduce_mem_usage(pd.read_csv('./input/historical_transactions.csv', parse_dates=[\"purchase_date\"]))\n",
    "new_merchant_transactions = reduce_mem_usage(pd.read_csv('./input/new_merchant_transactions.csv', parse_dates=[\"purchase_date\"]))"
   ]
  },
  {
   "cell_type": "code",
   "execution_count": null,
   "metadata": {},
   "outputs": [],
   "source": [
    "with open('train.pkl', 'wb') as f:\n",
    "    pickle.dump(train, f, pickle.HIGHEST_PROTOCOL)\n",
    "with open('test.pkl', 'wb') as f:\n",
    "    pickle.dump(test, f, pickle.HIGHEST_PROTOCOL)\n",
    "with open('historical_transactions.pkl', 'wb') as f:\n",
    "    pickle.dump(historical_transactions, f, pickle.HIGHEST_PROTOCOL)\n",
    "with open('new_merchant_transactions.pkl', 'wb') as f:\n",
    "    pickle.dump(new_merchant_transactions, f, pickle.HIGHEST_PROTOCOL)"
   ]
  },
  {
   "cell_type": "code",
   "execution_count": 125,
   "metadata": {},
   "outputs": [],
   "source": [
    "with open('train.pkl', 'rb') as f:\n",
    "    train = pickle.load(f)\n",
    "with open('test.pkl', 'rb') as f:\n",
    "    test = pickle.load(f)"
   ]
  },
  {
   "cell_type": "code",
   "execution_count": 67,
   "metadata": {},
   "outputs": [],
   "source": [
    "# replace one NaN date with most frequent\n",
    "test.loc[test.first_active_month.isna(), 'first_active_month'] = test.first_active_month.value_counts().idxmax()"
   ]
  },
  {
   "cell_type": "code",
   "execution_count": null,
   "metadata": {},
   "outputs": [],
   "source": [
    "with open('historical_transactions.pkl', 'rb') as f:\n",
    "    historical_transactions = pickle.load(f)\n",
    "with open('new_merchant_transactions.pkl', 'rb') as f:\n",
    "    new_merchant_transactions = pickle.load(f)"
   ]
  },
  {
   "cell_type": "markdown",
   "metadata": {},
   "source": [
    "### Transactions"
   ]
  },
  {
   "cell_type": "code",
   "execution_count": 5,
   "metadata": {},
   "outputs": [],
   "source": [
    "transactions = pd.concat([historical_transactions, new_merchant_transactions], ignore_index=True)"
   ]
  },
  {
   "cell_type": "code",
   "execution_count": 6,
   "metadata": {},
   "outputs": [],
   "source": [
    "# filter transactions with card_id in training and test sets\n",
    "# use copy() to avoid SettingWithCopy warning\n",
    "trans_train = transactions.loc[transactions.card_id.isin(train.card_id.unique()) ].copy()\n",
    "trans_test = transactions.loc[transactions.card_id.isin(test.card_id.unique()) ].copy()"
   ]
  },
  {
   "cell_type": "code",
   "execution_count": 7,
   "metadata": {},
   "outputs": [],
   "source": [
    "del historical_transactions\n",
    "del new_merchant_transactions\n",
    "del transactions"
   ]
  },
  {
   "cell_type": "code",
   "execution_count": 4,
   "metadata": {},
   "outputs": [],
   "source": [
    "def process_df(df, features):\n",
    "    '''\n",
    "    replaces missing values w/most frequent\n",
    "    adds 'isna' indicator column\n",
    "    factorizes categories\n",
    "    adds date details\n",
    "    '''\n",
    "    # missing values processing\n",
    "    most_freq = []\n",
    "    for idx, feat in enumerate(features):\n",
    "        isnan_feature = feat + '_isnan'\n",
    "        df[isnan_feature] = 0\n",
    "        df.loc[df[feat].isna(), isnan_feature] = 1    \n",
    "        most_freq.append(df[feat].value_counts().idxmax())\n",
    "        df.loc[df[feat].isna(), feat] = most_freq[idx]       \n",
    "        \n",
    "    # factorize categories\n",
    "    df.authorized_flag = pd.factorize(df.authorized_flag)[0]\n",
    "    df.category_1 = pd.factorize(df.category_1)[0]\n",
    "    df.category_3 = pd.factorize(df.category_3)[0] # 4 categories if NaN\n",
    "    \n",
    "    # date details\n",
    "    df['month'] = df.purchase_date.dt.month\n",
    "    df['year'] = df.purchase_date.dt.year\n",
    "    df['day'] = df.purchase_date.dt.day\n",
    "    df['day_of_year'] = df.purchase_date.dt.dayofyear\n",
    "    df['day_of_week'] = df.purchase_date.dt.dayofweek\n",
    "    df['is_month_start'] = df.purchase_date.dt.is_month_start.astype(int)\n",
    "    df['is_month_end'] = df.purchase_date.dt.is_month_end.astype(int)\n",
    "    df['is_weekend'] = (df.purchase_date.dt.dayofweek >= 5).astype(int)\n",
    "    df['is_weekday'] = (df.purchase_date.dt.dayofweek < 5).astype(int)\n",
    "    df['weekday'] = df.purchase_date.dt.weekday\n",
    "    df['week_of_year'] = df.purchase_date.dt.weekofyear\n",
    "    df['days_since_purchase'] = (datetime.datetime.today() - df.purchase_date).dt.days\n",
    "    df['quarter'] = df.purchase_date.dt.quarter\n",
    "    df['hour'] = df.purchase_date.dt.hour\n",
    "    df['months_since_purchase'] = ((datetime.datetime.today() - df.purchase_date)/np.timedelta64(1, 'M')).astype(int)\n",
    "    \n",
    "    # interaction\n",
    "    df['duration'] = df['purchase_amount'] * df['months_since_purchase']"
   ]
  },
  {
   "cell_type": "code",
   "execution_count": 5,
   "metadata": {},
   "outputs": [],
   "source": [
    "process_df(trans_train, ['category_3', 'merchant_id', 'category_2'])\n",
    "process_df(trans_test, ['category_3', 'merchant_id', 'category_2'])"
   ]
  },
  {
   "cell_type": "raw",
   "metadata": {},
   "source": [
    "with open('trans_train.pkl', 'wb') as f:\n",
    "    pickle.dump(trans_train, f, pickle.HIGHEST_PROTOCOL)\n",
    "with open('trans_test.pkl', 'wb') as f:\n",
    "    pickle.dump(trans_test, f, pickle.HIGHEST_PROTOCOL)"
   ]
  },
  {
   "cell_type": "code",
   "execution_count": 5,
   "metadata": {},
   "outputs": [],
   "source": [
    "with open('trans_train.pkl', 'rb') as f:\n",
    "    trans_train = pickle.load(f)\n",
    "with open('trans_test.pkl', 'rb') as f:\n",
    "    trans_test = pickle.load(f)"
   ]
  },
  {
   "cell_type": "markdown",
   "metadata": {},
   "source": [
    "### Aggregate card_id data from transactions"
   ]
  },
  {
   "cell_type": "markdown",
   "metadata": {},
   "source": [
    "#### desc. statistics"
   ]
  },
  {
   "cell_type": "code",
   "execution_count": 12,
   "metadata": {},
   "outputs": [],
   "source": [
    "agg_dict = {\n",
    "    'card_id' : ['size'],\n",
    "    'purchase_date' : ['min', 'max'],\n",
    "    'city_id' : ['nunique', ], # num. of cities\n",
    "    'installments' : ['mean', 'max', 'min', 'sum', 'std'],\n",
    "    'merchant_category_id' : ['nunique', ], \n",
    "    'month_lag' : ['mean', 'max', 'min', 'sum', 'std'],\n",
    "    'purchase_amount' : ['mean', 'max', 'min', 'sum', 'std'], \n",
    "    'category_2': ['nunique', ],\n",
    "    'state_id' : ['nunique', ],\n",
    "    'subsector_id' : ['nunique', ], \n",
    "    'merchant_id_isnan' : ['sum'], \n",
    "    'category_3_isnan': ['sum'], \n",
    "    'category_2_isnan': ['sum'],\n",
    "    'authorized_flag': ['sum'],\n",
    "    'category_1' : ['nunique', ],\n",
    "    'category_3': ['nunique', ],\n",
    "    'month': ['mean', 'max', 'min',  ], \n",
    "    'year': ['mean', 'max', 'min',   ], \n",
    "    'day': ['mean', 'max', 'min',   ], \n",
    "    'weekday': ['mean', 'max', 'min', ], \n",
    "    'week_of_year': ['mean', 'max', 'min',  ],\n",
    "    'day_of_year': ['mean', 'max', 'min', ],\n",
    "    'day_of_week': ['mean', 'max', 'min',  ],\n",
    "    'months_since_purchase' : ['mean', 'max', 'min',  'sum'],\n",
    "    'quarter' : ['mean', 'max', 'min', ],\n",
    "    'hour' : ['mean', 'max', 'min', ],\n",
    "    'is_month_start': ['sum'],\n",
    "    'is_month_end': ['sum'],\n",
    "    'is_weekend': ['sum'],\n",
    "    'is_weekday': ['sum'],\n",
    "    'duration' : ['mean', 'max', 'min',  'sum']\n",
    "}"
   ]
  },
  {
   "cell_type": "code",
   "execution_count": 100,
   "metadata": {},
   "outputs": [
    {
     "name": "stderr",
     "output_type": "stream",
     "text": [
      "/home/gael/anaconda3/envs/py36/lib/python3.6/site-packages/pandas/core/groupby/groupby.py:1351: RuntimeWarning: invalid value encountered in sqrt\n",
      "  return np.sqrt(self.var(ddof=ddof, **kwargs))\n"
     ]
    },
    {
     "name": "stdout",
     "output_type": "stream",
     "text": [
      "CPU times: user 38.9 s, sys: 22 s, total: 1min\n",
      "Wall time: 2min 8s\n"
     ]
    }
   ],
   "source": [
    "%%time \n",
    "gb = trans_train.drop(columns=['merchant_id']).groupby('card_id') \\\n",
    "    .agg(agg_dict, as_index=False) \\\n",
    "    .reset_index()\n",
    "\n",
    "gb.columns = [val[0] if val[-1]=='' else '_'.join(val) for val in gb.columns.values] # deal w/ multiindex"
   ]
  },
  {
   "cell_type": "raw",
   "metadata": {},
   "source": [
    "with open('gb.pkl', 'wb') as f:\n",
    "    pickle.dump(gb, f, pickle.HIGHEST_PROTOCOL)"
   ]
  },
  {
   "cell_type": "code",
   "execution_count": 103,
   "metadata": {},
   "outputs": [
    {
     "name": "stderr",
     "output_type": "stream",
     "text": [
      "/home/gael/anaconda3/envs/py36/lib/python3.6/site-packages/pandas/core/groupby/groupby.py:1351: RuntimeWarning: invalid value encountered in sqrt\n",
      "  return np.sqrt(self.var(ddof=ddof, **kwargs))\n"
     ]
    },
    {
     "name": "stdout",
     "output_type": "stream",
     "text": [
      "CPU times: user 22 s, sys: 11 s, total: 33.1 s\n",
      "Wall time: 59.1 s\n"
     ]
    }
   ],
   "source": [
    "%%time \n",
    "gb_test = trans_test.drop(columns=['merchant_id']).groupby('card_id') \\\n",
    "    .agg(agg_dict, as_index=False) \\\n",
    "    .reset_index()\n",
    "\n",
    "gb_test.columns = [val[0] if val[-1]=='' else '_'.join(val) for val in gb_test.columns.values] # deal w/ multiindex"
   ]
  },
  {
   "cell_type": "raw",
   "metadata": {},
   "source": [
    "with open('gb_test.pkl', 'wb') as f:\n",
    "    pickle.dump(gb_test, f, pickle.HIGHEST_PROTOCOL)"
   ]
  },
  {
   "cell_type": "markdown",
   "metadata": {},
   "source": [
    "#### most frequent"
   ]
  },
  {
   "cell_type": "code",
   "execution_count": 106,
   "metadata": {},
   "outputs": [],
   "source": [
    "most_frequent = lambda x:x.value_counts().index[0]\n",
    "agg_dict_most_freq = {\n",
    "    'city_id' : most_frequent, # num. of cities, most frequent\n",
    "    'merchant_id' : most_frequent, \n",
    "    'merchant_category_id' : most_frequent, \n",
    "    'category_2': most_frequent,\n",
    "    'state_id' : most_frequent,\n",
    "    'subsector_id' : most_frequent, \n",
    "   'category_1' : most_frequent,\n",
    "    'category_3': most_frequent,   \n",
    "}"
   ]
  },
  {
   "cell_type": "code",
   "execution_count": 107,
   "metadata": {},
   "outputs": [
    {
     "name": "stdout",
     "output_type": "stream",
     "text": [
      "CPU times: user 11min 8s, sys: 3.55 s, total: 11min 12s\n",
      "Wall time: 11min 21s\n"
     ]
    }
   ],
   "source": [
    "%%time \n",
    "gb_most_freq = trans_train.groupby('card_id') \\\n",
    "    .agg(agg_dict_most_freq, as_index=False) \\\n",
    "    .reset_index()\n",
    "\n",
    "gb_most_freq.columns = ['card_id'] + gb_most_freq.drop(columns='card_id')\\\n",
    "                                                .rename(columns=lambda x: x+'_most_freq').columns.tolist()"
   ]
  },
  {
   "cell_type": "raw",
   "metadata": {},
   "source": [
    "with open('gb_most_freq.pkl', 'wb') as f:\n",
    "    pickle.dump(gb_most_freq, f, pickle.HIGHEST_PROTOCOL)"
   ]
  },
  {
   "cell_type": "code",
   "execution_count": 111,
   "metadata": {},
   "outputs": [
    {
     "name": "stdout",
     "output_type": "stream",
     "text": [
      "CPU times: user 6min 41s, sys: 2.22 s, total: 6min 43s\n",
      "Wall time: 6min 49s\n"
     ]
    }
   ],
   "source": [
    "%%time \n",
    "gb_most_freq_test = trans_test.groupby('card_id') \\\n",
    "    .agg(agg_dict_most_freq, as_index=False) \\\n",
    "    .reset_index()\n",
    "\n",
    "gb_most_freq_test.columns = ['card_id'] + gb_most_freq_test.drop(columns='card_id')\\\n",
    "                                                        .rename(columns=lambda x: x+'_most_freq').columns.tolist()"
   ]
  },
  {
   "cell_type": "raw",
   "metadata": {},
   "source": [
    "with open('gb_most_freq_test.pkl', 'wb') as f:\n",
    "    pickle.dump(gb_most_freq_test, f, pickle.HIGHEST_PROTOCOL)"
   ]
  },
  {
   "cell_type": "markdown",
   "metadata": {},
   "source": [
    "#### frequence value of most frequent keys"
   ]
  },
  {
   "cell_type": "code",
   "execution_count": 114,
   "metadata": {},
   "outputs": [],
   "source": [
    "freq = lambda x:x.value_counts().values[0]\n",
    "agg_dict_freq = {\n",
    "     'city_id' : freq, # num. of cities, most frequent\n",
    "    'merchant_id' : freq, \n",
    "    'merchant_category_id' : freq, \n",
    "    'category_2': freq,\n",
    "    'state_id' : freq,\n",
    "    'subsector_id' : freq, \n",
    "   'category_1' : freq,\n",
    "    'category_3': freq,   \n",
    "}"
   ]
  },
  {
   "cell_type": "code",
   "execution_count": 115,
   "metadata": {},
   "outputs": [
    {
     "name": "stdout",
     "output_type": "stream",
     "text": [
      "CPU times: user 11min 7s, sys: 1.82 s, total: 11min 9s\n",
      "Wall time: 11min 9s\n"
     ]
    }
   ],
   "source": [
    "%%time \n",
    "gb_freq = trans_train.groupby('card_id') \\\n",
    "    .agg(agg_dict_freq, as_index=False) \\\n",
    "    .reset_index()\n",
    "\n",
    "gb_freq.columns = ['card_id'] + gb_freq.drop(columns='card_id')\\\n",
    "                                    .rename(columns=lambda x: x+'_freq').columns.tolist()"
   ]
  },
  {
   "cell_type": "raw",
   "metadata": {},
   "source": [
    "with open('gb_freq.pkl', 'wb') as f:\n",
    "    pickle.dump(gb_freq, f, pickle.HIGHEST_PROTOCOL)"
   ]
  },
  {
   "cell_type": "code",
   "execution_count": null,
   "metadata": {},
   "outputs": [],
   "source": []
  },
  {
   "cell_type": "code",
   "execution_count": 118,
   "metadata": {
    "code_folding": []
   },
   "outputs": [
    {
     "name": "stdout",
     "output_type": "stream",
     "text": [
      "CPU times: user 6min 54s, sys: 1.33 s, total: 6min 56s\n",
      "Wall time: 6min 55s\n"
     ]
    }
   ],
   "source": [
    "%%time \n",
    "gb_freq_test = trans_test.groupby('card_id') \\\n",
    "    .agg(agg_dict_freq, as_index=False) \\\n",
    "    .reset_index()\n",
    "\n",
    "gb_freq_test.columns = ['card_id'] + gb_freq_test.drop(columns='card_id')\\\n",
    "                                                .rename(columns=lambda x: x+'_freq').columns.tolist()"
   ]
  },
  {
   "cell_type": "raw",
   "metadata": {},
   "source": [
    "with open('gb_freq_test.pkl', 'wb') as f:\n",
    "    pickle.dump(gb_freq_test, f, pickle.HIGHEST_PROTOCOL)"
   ]
  },
  {
   "cell_type": "code",
   "execution_count": null,
   "metadata": {},
   "outputs": [],
   "source": []
  },
  {
   "cell_type": "markdown",
   "metadata": {},
   "source": [
    "### Merge aggregated transaction data with train&test sets"
   ]
  },
  {
   "cell_type": "code",
   "execution_count": 127,
   "metadata": {},
   "outputs": [],
   "source": [
    "with open('gb.pkl', 'rb') as f:\n",
    "    gb = pickle.load(f)\n",
    "with open('gb_test.pkl', 'rb') as f:\n",
    "    gb_test = pickle.load(f)\n",
    "with open('gb_most_freq.pkl', 'rb') as f:\n",
    "    gb_most_freq = pickle.load(f)\n",
    "with open('gb_most_freq_test.pkl', 'rb') as f:\n",
    "    gb_most_freq_test = pickle.load(f)\n",
    "with open('gb_freq.pkl', 'rb') as f:\n",
    "    gb_freq = pickle.load(f)\n",
    "with open('gb_freq_test.pkl', 'rb') as f:\n",
    "    gb_freq_test = pickle.load(f)"
   ]
  },
  {
   "cell_type": "code",
   "execution_count": 128,
   "metadata": {},
   "outputs": [],
   "source": [
    "train = pd.merge(train, gb, on='card_id', how='left')\n",
    "train = pd.merge(train, gb_most_freq, on='card_id',how='left')\n",
    "train = pd.merge(train, gb_freq, on='card_id', how='left')\n",
    "\n",
    "test = pd.merge(test, gb_test, on='card_id', how='left')\n",
    "test = pd.merge(test, gb_most_freq_test, on ='card_id', how='left')\n",
    "test = pd.merge(test, gb_freq_test, on='card_id', how='left')"
   ]
  },
  {
   "cell_type": "code",
   "execution_count": 130,
   "metadata": {
    "_uuid": "d9ac70e8d927e89a34a6363da35b09c70a37af82"
   },
   "outputs": [
    {
     "data": {
      "text/plain": [
       "607"
      ]
     },
     "execution_count": 130,
     "metadata": {},
     "output_type": "execute_result"
    }
   ],
   "source": [
    "del gb\n",
    "del gb_freq\n",
    "del gb_freq_test\n",
    "del gb_most_freq\n",
    "del gb_most_freq_test\n",
    "gc.collect()"
   ]
  },
  {
   "cell_type": "markdown",
   "metadata": {},
   "source": [
    "Add lag data"
   ]
  },
  {
   "cell_type": "code",
   "execution_count": 132,
   "metadata": {},
   "outputs": [],
   "source": [
    "train['days_since_purchase'] = (train.purchase_date_max - train.purchase_date_min).dt.days\n",
    "test['days_since_purchase'] = (test.purchase_date_max - train.purchase_date_min).dt.days\n",
    "\n",
    "train['days_since_active'] = (datetime.datetime.today() - train.first_active_month).dt.days\n",
    "test['days_since_active'] = (datetime.datetime.today() - test.first_active_month).dt.days\n",
    "\n",
    "train['ave_purch_per_day'] = train.days_since_purchase / train.card_id_size\n",
    "test['ave_purch_per_day'] = test.days_since_purchase / test.card_id_size\n",
    "\n",
    "train['days_before_purchase'] = (train.purchase_date_min - train.first_active_month).dt.days\n",
    "test['days_before_purchase'] = (test.purchase_date_min - test.first_active_month).dt.days"
   ]
  },
  {
   "cell_type": "markdown",
   "metadata": {},
   "source": [
    "### Fit model (lightgbm 5-fold)"
   ]
  },
  {
   "cell_type": "code",
   "execution_count": 158,
   "metadata": {},
   "outputs": [],
   "source": [
    "train[\"year\"] = train[\"first_active_month\"].dt.year\n",
    "test[\"year\"] = test[\"first_active_month\"].dt.year\n",
    "train[\"month\"] = train[\"first_active_month\"].dt.month\n",
    "test[\"month\"] = test[\"first_active_month\"].dt.month\n",
    "\n",
    "cols_to_use = [#'first_active_month',\n",
    " #'card_id',\n",
    " 'feature_1',\n",
    " 'feature_2',\n",
    " 'feature_3',\n",
    " #'target',\n",
    " 'card_id_size',\n",
    " #'purchase_date_min',\n",
    " #'purchase_date_max',\n",
    " 'city_id_nunique',\n",
    " 'installments_mean',\n",
    " 'installments_max',\n",
    " 'installments_min',\n",
    " 'installments_sum',\n",
    " 'installments_std',\n",
    " 'merchant_category_id_nunique',\n",
    " 'month_lag_mean',\n",
    " 'month_lag_max',\n",
    " 'month_lag_min',\n",
    " 'month_lag_sum',\n",
    " 'month_lag_std',\n",
    " 'purchase_amount_mean',\n",
    " 'purchase_amount_max',\n",
    " 'purchase_amount_min',\n",
    " 'purchase_amount_sum',\n",
    " 'purchase_amount_std',\n",
    " 'category_2_nunique',\n",
    " 'state_id_nunique',\n",
    " 'subsector_id_nunique',\n",
    " 'merchant_id_isnan_sum',\n",
    " 'category_3_isnan_sum',\n",
    " 'category_2_isnan_sum',\n",
    " 'authorized_flag_sum',\n",
    " 'category_1_nunique',\n",
    " 'category_3_nunique',\n",
    " 'month_mean',\n",
    " 'month_max',\n",
    " 'month_min',\n",
    " 'year_mean',\n",
    " 'year_max',\n",
    " 'year_min',\n",
    " 'day_mean',\n",
    " 'day_max',\n",
    " 'day_min',\n",
    " 'weekday_mean',\n",
    " 'weekday_max',\n",
    " 'weekday_min',\n",
    " 'week_of_year_mean',\n",
    " 'week_of_year_max',\n",
    " 'week_of_year_min',\n",
    " 'day_of_year_mean',\n",
    " 'day_of_year_max',\n",
    " 'day_of_year_min',\n",
    " 'day_of_week_mean',\n",
    " 'day_of_week_max',\n",
    " 'day_of_week_min',\n",
    " 'months_since_purchase_mean',\n",
    " 'months_since_purchase_max',\n",
    " 'months_since_purchase_min',\n",
    " 'months_since_purchase_sum',\n",
    " 'quarter_mean',\n",
    " 'quarter_max',\n",
    " 'quarter_min',\n",
    " 'hour_mean',\n",
    " 'hour_max',\n",
    " 'hour_min',\n",
    " 'is_month_start_sum',\n",
    " 'is_month_end_sum',\n",
    " 'is_weekend_sum',\n",
    " 'is_weekday_sum',\n",
    " 'duration_mean',\n",
    " 'duration_max',\n",
    " 'duration_min',\n",
    " 'duration_sum',\n",
    " 'city_id_most_freq',\n",
    " #'merchant_id_most_freq',\n",
    " 'merchant_category_id_most_freq',\n",
    " 'category_2_most_freq',\n",
    " 'state_id_most_freq',\n",
    " 'subsector_id_most_freq',\n",
    " 'category_1_most_freq',\n",
    " 'category_3_most_freq',\n",
    " 'city_id_freq',\n",
    " 'merchant_id_freq',\n",
    " 'merchant_category_id_freq',\n",
    " 'category_2_freq',\n",
    " 'state_id_freq',\n",
    " 'subsector_id_freq',\n",
    " 'category_1_freq',\n",
    " 'category_3_freq',\n",
    " 'days_since_purchase',\n",
    " 'days_since_active',\n",
    " 'ave_purch_per_day',\n",
    " 'days_before_purchase',\n",
    " 'year',\n",
    " 'month'\n",
    "              ]"
   ]
  },
  {
   "cell_type": "code",
   "execution_count": 159,
   "metadata": {
    "_uuid": "412f7f7790bc188dc96eaadf04db01d7ba907f84"
   },
   "outputs": [
    {
     "name": "stdout",
     "output_type": "stream",
     "text": [
      "Training until validation scores don't improve for 100 rounds.\n",
      "[100]\tvalid_0's rmse: 3.72911\n",
      "[200]\tvalid_0's rmse: 3.72734\n",
      "Early stopping, best iteration is:\n",
      "[178]\tvalid_0's rmse: 3.72675\n",
      "Training until validation scores don't improve for 100 rounds.\n",
      "[100]\tvalid_0's rmse: 3.68641\n",
      "[200]\tvalid_0's rmse: 3.68396\n",
      "Early stopping, best iteration is:\n",
      "[193]\tvalid_0's rmse: 3.68335\n",
      "Training until validation scores don't improve for 100 rounds.\n",
      "[100]\tvalid_0's rmse: 3.70539\n",
      "[200]\tvalid_0's rmse: 3.70174\n",
      "[300]\tvalid_0's rmse: 3.70181\n",
      "Early stopping, best iteration is:\n",
      "[213]\tvalid_0's rmse: 3.70133\n",
      "Training until validation scores don't improve for 100 rounds.\n",
      "[100]\tvalid_0's rmse: 3.69878\n",
      "[200]\tvalid_0's rmse: 3.69466\n",
      "Early stopping, best iteration is:\n",
      "[190]\tvalid_0's rmse: 3.69424\n",
      "Training until validation scores don't improve for 100 rounds.\n",
      "[100]\tvalid_0's rmse: 3.76988\n",
      "[200]\tvalid_0's rmse: 3.76525\n",
      "[300]\tvalid_0's rmse: 3.76464\n",
      "[400]\tvalid_0's rmse: 3.76439\n",
      "Early stopping, best iteration is:\n",
      "[325]\tvalid_0's rmse: 3.7638\n",
      "val_rmse :  3.713895945839627\n"
     ]
    }
   ],
   "source": [
    "def run_lgb(train_X, train_y, val_X, val_y, test_X):\n",
    "    params = {\n",
    "        \"objective\" : \"regression\",\n",
    "        \"metric\" : \"rmse\",\n",
    "        \"num_leaves\" : 30,\n",
    "        \"min_child_weight\" : 50,\n",
    "        \"learning_rate\" : 0.05,\n",
    "        \"bagging_fraction\" : 0.7,\n",
    "        \"feature_fraction\" : 0.7,\n",
    "        \"bagging_frequency\" : 5,\n",
    "        \"bagging_seed\" : 2018,\n",
    "        \"verbosity\" : -1\n",
    "    }\n",
    "    \n",
    "    lgtrain = lgb.Dataset(train_X, label=train_y)\n",
    "    lgval = lgb.Dataset(val_X, label=val_y)\n",
    "    evals_result = {}\n",
    "    model = lgb.train(params, lgtrain, 1000, valid_sets=[lgval], early_stopping_rounds=100, verbose_eval=100, evals_result=evals_result)\n",
    "    \n",
    "    pred_test_y = model.predict(test_X, num_iteration=model.best_iteration)\n",
    "    return pred_test_y, model, evals_result\n",
    "\n",
    "train_X = train[cols_to_use]\n",
    "test_X = test[cols_to_use]\n",
    "train_y = train['target'].values\n",
    "\n",
    "pred_test = 0\n",
    "val_rmse_tmp = 0\n",
    "kf = model_selection.KFold(n_splits=5, random_state=2018, shuffle=True)\n",
    "for dev_index, val_index in kf.split(train):\n",
    "    dev_X, val_X = train_X.loc[dev_index,:], train_X.loc[val_index,:]\n",
    "    dev_y, val_y = train_y[dev_index], train_y[val_index]\n",
    "    \n",
    "    pred_test_tmp, model, evals_result = run_lgb(dev_X, dev_y, val_X, val_y, test_X)\n",
    "    pred_test += pred_test_tmp\n",
    "    \n",
    "    val_rmse_tmp += min(evals_result['valid_0']['rmse'])\n",
    "\n",
    "pred_test /= 5.\n",
    "val_rmse_tmp /= 5.\n",
    "print('val_rmse : ', val_rmse_tmp)"
   ]
  },
  {
   "cell_type": "code",
   "execution_count": null,
   "metadata": {},
   "outputs": [],
   "source": [
    "from sklearn.metrics import mean_squared_error\n",
    "np.sqrt(mean_squared_error(train_predictions, y))"
   ]
  },
  {
   "cell_type": "code",
   "execution_count": 166,
   "metadata": {},
   "outputs": [
    {
     "data": {
      "image/png": "[encoded data removed]",
      "text/plain": [
       "<Figure size 864x720 with 1 Axes>"
      ]
     },
     "metadata": {},
     "output_type": "display_data"
    }
   ],
   "source": [
    "fig, ax = plt.subplots(figsize=(12,10))\n",
    "lgb.plot_importance(model, max_num_features=50, height=0.8, ax=ax)\n",
    "ax.grid(False)\n",
    "plt.title(\"LightGBM - Feature Importance\", fontsize=15)\n",
    "plt.show()"
   ]
  },
  {
   "cell_type": "code",
   "execution_count": 167,
   "metadata": {
    "_uuid": "7371f1139137edebc6a475d2f3bffcbcdf6c1b00"
   },
   "outputs": [],
   "source": [
    "subm_df = pd.DataFrame({\"card_id\":test[\"card_id\"].values})\n",
    "subm_df[\"target\"] = pred_test\n",
    "subm_df.to_csv(\"ELO_V11.csv\", index=False)"
   ]
  },
  {
   "cell_type": "code",
   "execution_count": null,
   "metadata": {},
   "outputs": [],
   "source": []
  }
 ],
 "metadata": {
  "kernelspec": {
   "display_name": "Python 3",
   "language": "python",
   "name": "python3"
  },
  "language_info": {
   "codemirror_mode": {
    "name": "ipython",
    "version": 3
   },
   "file_extension": ".py",
   "mimetype": "text/x-python",
   "name": "python",
   "nbconvert_exporter": "python",
   "pygments_lexer": "ipython3",
   "version": "3.6.8"
  }
 },
 "nbformat": 4,
 "nbformat_minor": 1
}
