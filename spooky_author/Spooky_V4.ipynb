{
 "cells": [
  {
   "cell_type": "code",
   "execution_count": 1,
   "metadata": {},
   "outputs": [
    {
     "name": "stderr",
     "output_type": "stream",
     "text": [
      "Using TensorFlow backend.\n"
     ]
    }
   ],
   "source": [
    "from __future__ import print_function\n",
    "\n",
    "import os\n",
    "import sys\n",
    "\n",
    "from keras.preprocessing.text import Tokenizer\n",
    "from keras.preprocessing import sequence\n",
    "from keras.preprocessing.sequence import pad_sequences\n",
    "from keras.utils import to_categorical\n",
    "from keras.layers import Dense, Input, GlobalMaxPooling1D, GlobalAveragePooling1D\n",
    "from keras.layers import Conv1D, MaxPooling1D, Embedding\n",
    "from keras.models import Sequential, Model\n",
    "from keras.callbacks import EarlyStopping\n",
    "\n",
    "import pandas as pd\n",
    "\n",
    "import numpy as np\n",
    "import matplotlib.pyplot as plt\n",
    "\n",
    "import nltk\n",
    "\n",
    "from sklearn.model_selection import train_test_split"
   ]
  },
  {
   "cell_type": "code",
   "execution_count": 2,
   "metadata": {
    "collapsed": true
   },
   "outputs": [],
   "source": [
    "def add_ngram(txt, n_gram_range = 2):\n",
    "    \"\"\"\n",
    "    data augmentation using n-grams\n",
    "    input : list of words from tokenized string -> ['ab', 'cdef', 'ghijk']\n",
    "    output : augmented string to be processed by Keras Tokenizer -> 'ab cdef ghijk ab+cdef cdef+ghijk'\n",
    "    \"\"\"\n",
    "    n_gram = []\n",
    "    for j in range (1, n_gram_range + 1):\n",
    "        for i in range(len(txt) - j + 1): \n",
    "            n_gram.append('+'.join(txt[i : i + j]))\n",
    "    return ' '.join(n_gram)"
   ]
  },
  {
   "cell_type": "code",
   "execution_count": 141,
   "metadata": {
    "collapsed": true
   },
   "outputs": [],
   "source": [
    "def preprocess(dframe):\n",
    "    \"\"\"\n",
    "    preprocessing of the 'text' field of input dataframe dframe:\n",
    "    - tokenization\n",
    "    - data augmentation using add_ngram\n",
    "    output : returns a list of strings\n",
    "    \"\"\"\n",
    "    texts = list(dframe['text'])\n",
    "    tokenized_texts = [nltk.tokenize.word_tokenize(texts[i]) for i in range(len(texts))]\n",
    "    \n",
    "    augmented_text = []\n",
    "    for i in range(len(tokenized_texts)):\n",
    "        augmented_text.append(add_ngram(tokenized_texts[i]))\n",
    "    return augmented_text"
   ]
  },
  {
   "cell_type": "code",
   "execution_count": 4,
   "metadata": {
    "collapsed": true
   },
   "outputs": [],
   "source": [
    "lst = add_ngram(['ab', 'cdef', 'ghijk'], n_gram_range = 1)"
   ]
  },
  {
   "cell_type": "code",
   "execution_count": 5,
   "metadata": {},
   "outputs": [
    {
     "data": {
      "text/plain": [
       "'ab cdef ghijk'"
      ]
     },
     "execution_count": 5,
     "metadata": {},
     "output_type": "execute_result"
    }
   ],
   "source": [
    "lst"
   ]
  },
  {
   "cell_type": "markdown",
   "metadata": {},
   "source": [
    "### Text training samples and labels"
   ]
  },
  {
   "cell_type": "code",
   "execution_count": 6,
   "metadata": {
    "collapsed": true
   },
   "outputs": [],
   "source": [
    "train_df = pd.read_csv('train.csv')"
   ]
  },
  {
   "cell_type": "code",
   "execution_count": 7,
   "metadata": {},
   "outputs": [
    {
     "data": {
      "text/html": [
       "<div>\n",
       "<style>\n",
       "    .dataframe thead tr:only-child th {\n",
       "        text-align: right;\n",
       "    }\n",
       "\n",
       "    .dataframe thead th {\n",
       "        text-align: left;\n",
       "    }\n",
       "\n",
       "    .dataframe tbody tr th {\n",
       "        vertical-align: top;\n",
       "    }\n",
       "</style>\n",
       "<table border=\"1\" class=\"dataframe\">\n",
       "  <thead>\n",
       "    <tr style=\"text-align: right;\">\n",
       "      <th></th>\n",
       "      <th>id</th>\n",
       "      <th>text</th>\n",
       "      <th>author</th>\n",
       "    </tr>\n",
       "  </thead>\n",
       "  <tbody>\n",
       "    <tr>\n",
       "      <th>0</th>\n",
       "      <td>id26305</td>\n",
       "      <td>This process, however, afforded me no means of...</td>\n",
       "      <td>EAP</td>\n",
       "    </tr>\n",
       "    <tr>\n",
       "      <th>1</th>\n",
       "      <td>id17569</td>\n",
       "      <td>It never once occurred to me that the fumbling...</td>\n",
       "      <td>HPL</td>\n",
       "    </tr>\n",
       "    <tr>\n",
       "      <th>2</th>\n",
       "      <td>id11008</td>\n",
       "      <td>In his left hand was a gold snuff box, from wh...</td>\n",
       "      <td>EAP</td>\n",
       "    </tr>\n",
       "    <tr>\n",
       "      <th>3</th>\n",
       "      <td>id27763</td>\n",
       "      <td>How lovely is spring As we looked from Windsor...</td>\n",
       "      <td>MWS</td>\n",
       "    </tr>\n",
       "    <tr>\n",
       "      <th>4</th>\n",
       "      <td>id12958</td>\n",
       "      <td>Finding nothing else, not even gold, the Super...</td>\n",
       "      <td>HPL</td>\n",
       "    </tr>\n",
       "  </tbody>\n",
       "</table>\n",
       "</div>"
      ],
      "text/plain": [
       "        id                                               text author\n",
       "0  id26305  This process, however, afforded me no means of...    EAP\n",
       "1  id17569  It never once occurred to me that the fumbling...    HPL\n",
       "2  id11008  In his left hand was a gold snuff box, from wh...    EAP\n",
       "3  id27763  How lovely is spring As we looked from Windsor...    MWS\n",
       "4  id12958  Finding nothing else, not even gold, the Super...    HPL"
      ]
     },
     "execution_count": 7,
     "metadata": {},
     "output_type": "execute_result"
    }
   ],
   "source": [
    "train_df.head()"
   ]
  },
  {
   "cell_type": "code",
   "execution_count": 8,
   "metadata": {},
   "outputs": [
    {
     "data": {
      "text/plain": [
       "'Maddened by the sound, or by the stench which billowed forth even to the open air, the waiting horse gave a scream that was too frantic for a neigh, and plunged madly off through the night, the wagon rattling crazily behind it.'"
      ]
     },
     "execution_count": 8,
     "metadata": {},
     "output_type": "execute_result"
    }
   ],
   "source": [
    "texts = list(train_df['text'])\n",
    "texts[np.random.randint(len(train_df))] #random text"
   ]
  },
  {
   "cell_type": "markdown",
   "metadata": {
    "collapsed": true
   },
   "source": [
    "### Data augmentation using n-grams"
   ]
  },
  {
   "cell_type": "code",
   "execution_count": 9,
   "metadata": {
    "collapsed": true
   },
   "outputs": [],
   "source": [
    "augmented = preprocess(train_df)"
   ]
  },
  {
   "cell_type": "code",
   "execution_count": 10,
   "metadata": {},
   "outputs": [
    {
     "data": {
      "text/plain": [
       "'Remember that I am thy creature ; I ought to be thy Adam , but I am rather the fallen angel , whom thou drivest from joy for no misdeed . Remember+that that+I I+am am+thy thy+creature creature+; ;+I I+ought ought+to to+be be+thy thy+Adam Adam+, ,+but but+I I+am am+rather rather+the the+fallen fallen+angel angel+, ,+whom whom+thou thou+drivest drivest+from from+joy joy+for for+no no+misdeed misdeed+.'"
      ]
     },
     "execution_count": 10,
     "metadata": {},
     "output_type": "execute_result"
    }
   ],
   "source": [
    "augmented[np.random.randint(len(augmented))]"
   ]
  },
  {
   "cell_type": "code",
   "execution_count": 140,
   "metadata": {},
   "outputs": [
    {
     "data": {
      "text/plain": [
       "(19579, 19579)"
      ]
     },
     "execution_count": 140,
     "metadata": {},
     "output_type": "execute_result"
    }
   ],
   "source": [
    "len(train_df),len(augmented)"
   ]
  },
  {
   "cell_type": "markdown",
   "metadata": {},
   "source": [
    "### filter out low-freq words"
   ]
  },
  {
   "cell_type": "code",
   "execution_count": 11,
   "metadata": {
    "collapsed": true
   },
   "outputs": [],
   "source": [
    "f_min = 2\n",
    "tokenizer = Tokenizer(lower=True, filters='')\n",
    "tokenizer.fit_on_texts(augmented)\n",
    "num_words = sum([1 for _, word_freq in tokenizer.word_counts.items() if word_freq >= f_min])"
   ]
  },
  {
   "cell_type": "code",
   "execution_count": 12,
   "metadata": {},
   "outputs": [
    {
     "data": {
      "text/plain": [
       "75329"
      ]
     },
     "execution_count": 12,
     "metadata": {},
     "output_type": "execute_result"
    }
   ],
   "source": [
    "num_words #number of words w/ freq >= f_min"
   ]
  },
  {
   "cell_type": "markdown",
   "metadata": {},
   "source": [
    "### convert to sequences"
   ]
  },
  {
   "cell_type": "code",
   "execution_count": 13,
   "metadata": {
    "collapsed": true
   },
   "outputs": [],
   "source": [
    "tokenizer = Tokenizer(num_words=num_words, lower=True, filters='')\n",
    "tokenizer.fit_on_texts(augmented)\n",
    "augmented = tokenizer.texts_to_sequences(augmented)"
   ]
  },
  {
   "cell_type": "code",
   "execution_count": 14,
   "metadata": {},
   "outputs": [
    {
     "name": "stdout",
     "output_type": "stream",
     "text": [
      "[17, 2474, 8, 17227, 16808, 34, 14, 3158, 1, 5, 16, 148, 6, 27, 12, 61, 7295, 11, 23, 815, 12, 3, 14840, 4, 37936, 75143, 687, 15526, 11099, 10, 693, 1963, 277, 206, 1056, 6817, 250, 4158, 435, 49767]\n"
     ]
    }
   ],
   "source": [
    "print(augmented[-1])"
   ]
  },
  {
   "cell_type": "markdown",
   "metadata": {},
   "source": [
    "### sequence padding"
   ]
  },
  {
   "cell_type": "code",
   "execution_count": 16,
   "metadata": {},
   "outputs": [
    {
     "data": {
      "image/png": "[encoded data removed]",
      "text/plain": [
       "<matplotlib.figure.Figure at 0x7f1c0c7b85f8>"
      ]
     },
     "metadata": {},
     "output_type": "display_data"
    }
   ],
   "source": [
    "seq_len = [len(augmented[i]) for i in range(len(augmented))]\n",
    "\n",
    "plt.plot(seq_len)\n",
    "plt.ylabel('sequence lengths')\n",
    "plt.show()"
   ]
  },
  {
   "cell_type": "code",
   "execution_count": 17,
   "metadata": {
    "collapsed": true
   },
   "outputs": [],
   "source": [
    "maxlen = 256\n",
    "augmented = pad_sequences(sequences=augmented, maxlen=maxlen)\n",
    "vocab_size = np.max(augmented) + 1"
   ]
  },
  {
   "cell_type": "code",
   "execution_count": 18,
   "metadata": {},
   "outputs": [
    {
     "data": {
      "text/plain": [
       "75329"
      ]
     },
     "execution_count": 18,
     "metadata": {},
     "output_type": "execute_result"
    }
   ],
   "source": [
    "vocab_size"
   ]
  },
  {
   "cell_type": "markdown",
   "metadata": {},
   "source": [
    "### labelling data"
   ]
  },
  {
   "cell_type": "code",
   "execution_count": 20,
   "metadata": {
    "collapsed": true
   },
   "outputs": [],
   "source": [
    "labels_index = {'EAP':0, 'HPL':1, 'MWS':2}\n",
    "labels = train_df['author'].apply(lambda x:labels_index[x])\n",
    "y_data = to_categorical(labels)"
   ]
  },
  {
   "cell_type": "code",
   "execution_count": 21,
   "metadata": {},
   "outputs": [
    {
     "data": {
      "text/plain": [
       "(19579, 19579)"
      ]
     },
     "execution_count": 21,
     "metadata": {},
     "output_type": "execute_result"
    }
   ],
   "source": [
    "len(y_data), len(augmented)"
   ]
  },
  {
   "cell_type": "code",
   "execution_count": 26,
   "metadata": {
    "collapsed": true
   },
   "outputs": [],
   "source": [
    "x_train, x_val, y_train, y_val = train_test_split(augmented, y_data, test_size=0.2, random_state=42)\n"
   ]
  },
  {
   "cell_type": "markdown",
   "metadata": {},
   "source": [
    "### Model"
   ]
  },
  {
   "cell_type": "code",
   "execution_count": 52,
   "metadata": {
    "collapsed": true
   },
   "outputs": [],
   "source": [
    "embedding_dims = 20\n",
    "\n",
    "model = Sequential()\n",
    "\n",
    "model.add(Embedding(vocab_size, embedding_dims))#, input_length=maxlen))\n",
    "\n",
    "# we add a GlobalAveragePooling1D, which will average the embeddings\n",
    "# of all words in the document\n",
    "model.add(GlobalAveragePooling1D())\n",
    "\n",
    "model.add(Dense(3, activation='softmax'))\n",
    "\n",
    "model.compile(loss='categorical_crossentropy',\n",
    "              optimizer='adam',\n",
    "              metrics=['accuracy'])"
   ]
  },
  {
   "cell_type": "code",
   "execution_count": 53,
   "metadata": {},
   "outputs": [
    {
     "name": "stdout",
     "output_type": "stream",
     "text": [
      "Train on 15663 samples, validate on 3916 samples\n",
      "Epoch 1/10\n",
      "15663/15663 [==============================] - 10s - loss: 1.0754 - acc: 0.4046 - val_loss: 1.0576 - val_acc: 0.4019\n",
      "Epoch 2/10\n",
      "15663/15663 [==============================] - 10s - loss: 1.0060 - acc: 0.4654 - val_loss: 0.9641 - val_acc: 0.5975\n",
      "Epoch 3/10\n",
      "15663/15663 [==============================] - 10s - loss: 0.8733 - acc: 0.6978 - val_loss: 0.8396 - val_acc: 0.7168\n",
      "Epoch 4/10\n",
      "15663/15663 [==============================] - 10s - loss: 0.7318 - acc: 0.7979 - val_loss: 0.7418 - val_acc: 0.7252\n",
      "Epoch 5/10\n",
      "15663/15663 [==============================] - 10s - loss: 0.6143 - acc: 0.8371 - val_loss: 0.6528 - val_acc: 0.7735\n",
      "Epoch 6/10\n",
      "15663/15663 [==============================] - 10s - loss: 0.5228 - acc: 0.8662 - val_loss: 0.5938 - val_acc: 0.7860\n",
      "Epoch 7/10\n",
      "15663/15663 [==============================] - 10s - loss: 0.4504 - acc: 0.8865 - val_loss: 0.5482 - val_acc: 0.8090\n",
      "Epoch 8/10\n",
      "15663/15663 [==============================] - 10s - loss: 0.3904 - acc: 0.9044 - val_loss: 0.5079 - val_acc: 0.8241\n",
      "Epoch 9/10\n",
      "15663/15663 [==============================] - 10s - loss: 0.3407 - acc: 0.9164 - val_loss: 0.4785 - val_acc: 0.8302\n",
      "Epoch 10/10\n",
      "15663/15663 [==============================] - 10s - loss: 0.2979 - acc: 0.9320 - val_loss: 0.4544 - val_acc: 0.8315\n"
     ]
    }
   ],
   "source": [
    "hist = model.fit(x_train, y_train,\n",
    "                batch_size=32,\n",
    "                epochs=10,\n",
    "                validation_data=(x_val, y_val),\n",
    "                callbacks=[EarlyStopping(patience=1, monitor='val_loss')])"
   ]
  },
  {
   "cell_type": "code",
   "execution_count": 60,
   "metadata": {},
   "outputs": [
    {
     "name": "stdout",
     "output_type": "stream",
     "text": [
      "Train on 15663 samples, validate on 3916 samples\n",
      "Epoch 1/1\n",
      "15663/15663 [==============================] - 19s - loss: 0.0787 - acc: 0.9857 - val_loss: 0.3382 - val_acc: 0.8685\n"
     ]
    }
   ],
   "source": [
    "hist = model.fit(x_train, y_train, #repeat 6-7times\n",
    "                batch_size=16,\n",
    "                epochs=1,\n",
    "                validation_data=(x_val, y_val))"
   ]
  },
  {
   "cell_type": "code",
   "execution_count": 61,
   "metadata": {
    "collapsed": true
   },
   "outputs": [],
   "source": [
    "model.save_weights('V4.h5')"
   ]
  },
  {
   "cell_type": "code",
   "execution_count": 63,
   "metadata": {},
   "outputs": [
    {
     "name": "stdout",
     "output_type": "stream",
     "text": [
      "Train on 15663 samples, validate on 3916 samples\n",
      "Epoch 1/1\n",
      "15663/15663 [==============================] - 19s - loss: 0.0544 - acc: 0.9913 - val_loss: 0.3353 - val_acc: 0.8726\n"
     ]
    }
   ],
   "source": [
    "hist = model.fit(x_train, y_train,\n",
    "                batch_size=16,\n",
    "                epochs=1,\n",
    "                validation_data=(x_val, y_val))"
   ]
  },
  {
   "cell_type": "code",
   "execution_count": 64,
   "metadata": {
    "collapsed": true
   },
   "outputs": [],
   "source": [
    "model.save_weights('V4.h5')"
   ]
  },
  {
   "cell_type": "code",
   "execution_count": 67,
   "metadata": {
    "collapsed": true
   },
   "outputs": [],
   "source": [
    "model.load_weights('V4.h5')"
   ]
  },
  {
   "cell_type": "markdown",
   "metadata": {},
   "source": [
    "### Predictions"
   ]
  },
  {
   "cell_type": "code",
   "execution_count": 68,
   "metadata": {
    "collapsed": true
   },
   "outputs": [],
   "source": [
    "test_df = pd.read_csv('test.csv')"
   ]
  },
  {
   "cell_type": "code",
   "execution_count": 127,
   "metadata": {},
   "outputs": [
    {
     "data": {
      "text/plain": [
       "(8392, 2)"
      ]
     },
     "execution_count": 127,
     "metadata": {},
     "output_type": "execute_result"
    }
   ],
   "source": [
    "test_df.shape"
   ]
  },
  {
   "cell_type": "code",
   "execution_count": 142,
   "metadata": {
    "collapsed": true
   },
   "outputs": [],
   "source": [
    "augmented_test = preprocess(test_df)"
   ]
  },
  {
   "cell_type": "code",
   "execution_count": 143,
   "metadata": {},
   "outputs": [
    {
     "data": {
      "text/plain": [
       "8392"
      ]
     },
     "execution_count": 143,
     "metadata": {},
     "output_type": "execute_result"
    }
   ],
   "source": [
    "len(augmented_test)"
   ]
  },
  {
   "cell_type": "code",
   "execution_count": 144,
   "metadata": {
    "collapsed": true
   },
   "outputs": [],
   "source": [
    "augmented_test = tokenizer.texts_to_sequences(augmented_test)"
   ]
  },
  {
   "cell_type": "code",
   "execution_count": 145,
   "metadata": {
    "collapsed": true
   },
   "outputs": [],
   "source": [
    "augmented_test = pad_sequences(sequences=augmented_test, maxlen=maxlen)"
   ]
  },
  {
   "cell_type": "code",
   "execution_count": 146,
   "metadata": {},
   "outputs": [
    {
     "name": "stdout",
     "output_type": "stream",
     "text": [
      "6816/8392 [=======================>......] - ETA: 0s"
     ]
    }
   ],
   "source": [
    "y = model.predict_proba(augmented_test)"
   ]
  },
  {
   "cell_type": "code",
   "execution_count": 147,
   "metadata": {},
   "outputs": [
    {
     "data": {
      "text/plain": [
       "(8392, 3)"
      ]
     },
     "execution_count": 147,
     "metadata": {},
     "output_type": "execute_result"
    }
   ],
   "source": [
    "y.shape"
   ]
  },
  {
   "cell_type": "code",
   "execution_count": 148,
   "metadata": {},
   "outputs": [
    {
     "data": {
      "text/plain": [
       "array([[ 0.02601475,  0.005     ,  0.97124994],\n",
       "       [ 0.995     ,  0.005     ,  0.005     ],\n",
       "       [ 0.005     ,  0.995     ,  0.005     ],\n",
       "       ..., \n",
       "       [ 0.84793144,  0.07023995,  0.08182856],\n",
       "       [ 0.17498884,  0.005     ,  0.82088482],\n",
       "       [ 0.07569077,  0.92429769,  0.005     ]], dtype=float32)"
      ]
     },
     "execution_count": 148,
     "metadata": {},
     "output_type": "execute_result"
    }
   ],
   "source": [
    "np.clip(a=y, a_min=0.005, a_max=0.995)"
   ]
  },
  {
   "cell_type": "code",
   "execution_count": 149,
   "metadata": {
    "collapsed": true
   },
   "outputs": [],
   "source": [
    "result_df = pd.read_csv('sample_submission.csv')"
   ]
  },
  {
   "cell_type": "code",
   "execution_count": 150,
   "metadata": {
    "collapsed": true
   },
   "outputs": [],
   "source": [
    "def write_subm_file(clip_value = 0):\n",
    "    id_df = pd.DataFrame(result_df['id'])\n",
    "    probs_df = pd.DataFrame(np.clip(a = y, a_min = clip_value, a_max = 1 - clip_value))\n",
    "    subm_df = pd.concat([id_df, probs_df], axis = 1)\n",
    "    header = sorted(labels_index.keys())\n",
    "    header.insert(0,'id')\n",
    "    subm_df.columns = header\n",
    "    subm_df.to_csv('submission_' + str(clip_value) + '.csv', sep=',', index = False, float_format = '%.17f')"
   ]
  },
  {
   "cell_type": "code",
   "execution_count": 151,
   "metadata": {
    "collapsed": true
   },
   "outputs": [],
   "source": [
    "write_subm_file()"
   ]
  },
  {
   "cell_type": "code",
   "execution_count": 155,
   "metadata": {
    "collapsed": true
   },
   "outputs": [],
   "source": [
    "write_subm_file(0.0001)"
   ]
  },
  {
   "cell_type": "code",
   "execution_count": 154,
   "metadata": {
    "collapsed": true
   },
   "outputs": [],
   "source": [
    "write_subm_file(0.001)"
   ]
  }
 ],
 "metadata": {
  "kernelspec": {
   "display_name": "Python 2",
   "language": "python",
   "name": "python2"
  },
  "language_info": {
   "codemirror_mode": {
    "name": "ipython",
    "version": 2
   },
   "file_extension": ".py",
   "mimetype": "text/x-python",
   "name": "python",
   "nbconvert_exporter": "python",
   "pygments_lexer": "ipython2",
   "version": "2.7.13"
  }
 },
 "nbformat": 4,
 "nbformat_minor": 2
}
