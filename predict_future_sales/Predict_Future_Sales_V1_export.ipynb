{
 "cells": [
  {
   "cell_type": "markdown",
   "metadata": {},
   "source": [
    "# <center> Predict future sales - 1C company </center>\n",
    "### [1. Basic inspection of data](#1)\n",
    "### [2. EDA + raw data feat. eng.](#2)\n",
    "### [3. Mean encoding of categorical data](#3)\n",
    "### [4. Lags on aggregated data](#4)\n",
    "### [5. XGB + LGB benchmarks](#5)"
   ]
  },
  {
   "cell_type": "code",
   "execution_count": 1,
   "metadata": {},
   "outputs": [],
   "source": [
    "import os\n",
    "import pickle\n",
    "import time\n",
    "import gc\n",
    "\n",
    "import numpy as np\n",
    "import pandas as pd\n",
    "from pandas.plotting import scatter_matrix\n",
    "import matplotlib.pyplot as plt\n",
    "from pylab import rcParams\n",
    "%matplotlib inline \n",
    "import seaborn as sns\n",
    "sns.set()\n",
    "\n",
    "from itertools import product\n",
    "from tqdm import tqdm_notebook\n",
    "\n",
    "from sklearn import ensemble\n",
    "from sklearn.metrics import mean_squared_error\n",
    "from sklearn.model_selection import KFold, train_test_split, ShuffleSplit\n",
    "\n",
    "from xgboost import XGBRegressor\n",
    "from xgboost import plot_importance\n",
    "\n",
    "import lightgbm as lgb\n",
    "from lightgbm import LGBMRegressor\n",
    "\n",
    "# Credit : https://www.kaggle.com/anqitu/feature-engineer-and-model-ensemble-top-10\n",
    "def downcast_dtypes(df):\n",
    "    float_cols = [c for c in df if df[c].dtype == \"float64\"]\n",
    "    int_cols = [c for c in df if df[c].dtype in [\"int64\", \"int32\"]]\n",
    "    df[float_cols] = df[float_cols].astype(np.float32)\n",
    "    df[int_cols] = df[int_cols].astype(np.int16)\n",
    "    return df"
   ]
  },
  {
   "cell_type": "code",
   "execution_count": 2,
   "metadata": {},
   "outputs": [],
   "source": [
    "DATA_FOLDER = './readonly/final_project_data/'\n",
    "\n",
    "transactions    = pd.read_csv(os.path.join(DATA_FOLDER, 'sales_train.csv.gz'))\n",
    "items           = pd.read_csv(os.path.join(DATA_FOLDER, 'items.csv'))\n",
    "item_categories = pd.read_csv(os.path.join(DATA_FOLDER, 'item_categories.csv'))\n",
    "shops           = pd.read_csv(os.path.join(DATA_FOLDER, 'shops.csv'))\n",
    "\n",
    "test           = pd.read_csv(os.path.join(DATA_FOLDER, 'test.csv'))\n",
    "sample_submission = pd.read_csv(os.path.join(DATA_FOLDER, 'sample_submission.csv'))"
   ]
  },
  {
   "cell_type": "markdown",
   "metadata": {},
   "source": [
    "# 1. Datasets<a id='1'></a>"
   ]
  },
  {
   "cell_type": "code",
   "execution_count": 3,
   "metadata": {},
   "outputs": [],
   "source": [
    "# drop duplicates\n",
    "transactions.drop_duplicates(inplace=True)\n",
    "item_categories.drop_duplicates(inplace=True)\n",
    "items.drop_duplicates(inplace=True)\n",
    "shops.drop_duplicates(inplace=True)\n",
    "test.drop_duplicates(inplace=True)\n",
    "\n",
    "# drop outlier with highest price\n",
    "transactions = transactions.loc[transactions.item_price != 307980]\n",
    "\n",
    "# switch price and count for outlier item with huge count\n",
    "transactions.at[2909818, 'item_cnt_day'] = 1\n",
    "transactions.at[2909818, 'item_price'] = 2169.0\n",
    "\n",
    "test['date_block_num'] = pd.Series([34 for _ in range(len(test))])\n",
    "\n",
    "# items in test set not in training set\n",
    "items_not_in_train = list(set(test['item_id']) - (set(transactions['item_id'])))"
   ]
  },
  {
   "cell_type": "markdown",
   "metadata": {},
   "source": [
    "# 2. Monthly aggregated data<a id='2'></a>\n",
    "[2.1 total sales for ea. shop__](#21)[2.2. Total sales for ea. item, shop-wide__](#22) [2.3. monthly sales per category__](#23) [2.4. Prices__](#24)\n"
   ]
  },
  {
   "cell_type": "code",
   "execution_count": 4,
   "metadata": {},
   "outputs": [
    {
     "data": {
      "application/vnd.jupyter.widget-view+json": {
       "model_id": "60d2adb2bc824417bb5f3ab2b22a067f",
       "version_major": 2,
       "version_minor": 0
      },
      "text/plain": [
       "HBox(children=(IntProgress(value=0, max=34), HTML(value='')))"
      ]
     },
     "metadata": {},
     "output_type": "display_data"
    },
    {
     "name": "stdout",
     "output_type": "stream",
     "text": [
      "\n"
     ]
    }
   ],
   "source": [
    "# extend transactions dataset with all existing (date_block_num, shop_id, item_id) triples\n",
    "transactions_extended = pd.DataFrame()\n",
    "for date_block_num in tqdm_notebook(range(transactions['date_block_num'].nunique())):\n",
    "    transactions_extended = transactions_extended.append(pd.DataFrame((\\\n",
    "    list(product([date_block_num], transactions.loc[transactions['date_block_num'] == date_block_num]['shop_id'].unique(),\\\n",
    "                 transactions.loc[transactions['date_block_num'] == date_block_num]['item_id'].unique())))), \\\n",
    "                                                        ignore_index=True)\n",
    "\n",
    "transactions_extended.columns = ['date_block_num', 'shop_id', 'item_id']\n",
    "\n",
    "# monthly aggregation\n",
    "transactions_monthly = transactions.groupby(['date_block_num', 'shop_id', 'item_id'], as_index = False) \\\n",
    "    .agg({'item_cnt_day' : 'sum'}).rename(columns={'item_cnt_day': 'item_cnt_month'})\n",
    "                                                                # as_index=False to flatten multi-indices\n",
    "\n",
    "transactions_monthly = pd.merge(transactions_extended, transactions_monthly, on = transactions_extended.columns.tolist(), \\\n",
    "                                how='left').fillna(0)\n",
    "\n",
    "# align columns of transactions_monthly and test\n",
    "transactions_monthly['ID'] = -1\n",
    "transactions_monthly = transactions_monthly[['ID','shop_id', 'item_id', 'date_block_num', 'item_cnt_month']]\n",
    "test['item_cnt_month'] = 0\n",
    "\n",
    "# concat transactions_monthly and test\n",
    "all_data = pd.concat([transactions_monthly, test]).sort_values(by='date_block_num')\n",
    "\n",
    "# add date info\n",
    "all_data['month'] = all_data.date_block_num % 12 \n",
    "days = pd.Series([31,28,31,30,31,30,31,31,30,31,30,31])\n",
    "all_data['month_num_days'] = all_data.month.map(days)\n",
    "all_data['year'] = all_data.date_block_num.apply(lambda x: 2013 if (0 <= x <= 11) else 2014 if (12 <= x <= 23) else 2015)\n",
    "\n",
    "# clip item_cnt_month\n",
    "all_data.item_cnt_month = all_data.item_cnt_month.clip(0, 20)\n",
    "\n",
    "# downcast except column 'ID'\n",
    "all_data = pd.concat([all_data['ID'].astype(np.int32), downcast_dtypes(all_data.drop(columns='ID'))], axis=1)"
   ]
  },
  {
   "cell_type": "markdown",
   "metadata": {},
   "source": [
    "## 2.1. total sales for ea. shop <a id='21'></a> \n",
    "[Shop sales history__](#220)\n",
    "[Closed shops__](#221)\n",
    "[shop duration__](#222)\n",
    "[add categories](#223)"
   ]
  },
  {
   "cell_type": "code",
   "execution_count": 5,
   "metadata": {},
   "outputs": [],
   "source": [
    "gb = all_data.groupby(['date_block_num', 'shop_id'], as_index = False).agg({'item_cnt_month':'sum'})\\\n",
    "            .rename(columns={'item_cnt_month':'item_cnt_month_shop'})\n",
    "\n",
    "all_data = pd.merge(all_data, gb, on=['date_block_num', 'shop_id'], how='left')"
   ]
  },
  {
   "cell_type": "markdown",
   "metadata": {},
   "source": [
    "#### Duplicate shops names : merge into one shop and transfer all items from duplicate shop to real one"
   ]
  },
  {
   "cell_type": "code",
   "execution_count": 6,
   "metadata": {},
   "outputs": [
    {
     "name": "stdout",
     "output_type": "stream",
     "text": [
      "!Якутск Орджоникидзе, 56 фран Якутск Орджоникидзе, 56\n",
      "!Якутск ТЦ \"Центральный\" фран Якутск ТЦ \"Центральный\"\n",
      "Жуковский ул. Чкалова 39м? Жуковский ул. Чкалова 39м²\n"
     ]
    }
   ],
   "source": [
    "print(shops.shop_name[0], shops.shop_name[57])\n",
    "print(shops.shop_name[1], shops.shop_name[58])\n",
    "print(shops.shop_name[10], shops.shop_name[11])"
   ]
  },
  {
   "cell_type": "code",
   "execution_count": 7,
   "metadata": {},
   "outputs": [],
   "source": [
    "#rename shop 0 shop 57\n",
    "df_shop0 = all_data.loc[all_data.shop_id == 0].assign(shop_id=57)\n",
    "# concat dataframes from former shop 0 and shop 57\n",
    "df_shop57 = pd.concat([df_shop0, all_data.loc[all_data.shop_id == 57]])\n",
    "\n",
    "all_data = all_data[all_data.shop_id != 0]# remove rows w/ shop_id = 0\n",
    "all_data = all_data[all_data.shop_id != 57]# remove rows w/ shop_id = 57\n",
    "all_data = pd.concat([all_data, df_shop57]).sort_values(by='date_block_num') # merge back into df\n",
    "\n",
    "#rename shop 1 shop 58\n",
    "df_shop1 = all_data.loc[all_data.shop_id == 1].assign(shop_id=58)\n",
    "# concat dataframes from former shop 1 and shop 58\n",
    "df_shop58 = pd.concat([df_shop1, all_data.loc[all_data.shop_id == 58]])\n",
    "\n",
    "all_data = all_data[all_data.shop_id != 1]# remove rows w/ shop_id = 1\n",
    "all_data = all_data[all_data.shop_id != 58]# remove rows w/ shop_id = 58\n",
    "all_data = pd.concat([all_data, df_shop58]).sort_values(by='date_block_num') # merge back into df\n",
    "\n",
    "#rename shop 11 shop 10\n",
    "df_shop11 = all_data.loc[all_data.shop_id == 11].assign(shop_id=10)\n",
    "# concat dataframes from former shop 11 and shop 10\n",
    "df_shop10 = pd.concat([df_shop11, all_data.loc[all_data.shop_id == 10]])\n",
    "\n",
    "all_data = all_data[all_data.shop_id != 11]# remove rows w/ shop_id = 11\n",
    "all_data = all_data[all_data.shop_id != 10]# remove rows w/ shop_id = 10\n",
    "all_data = pd.concat([all_data, df_shop10]).sort_values(by='date_block_num') # merge back into df"
   ]
  },
  {
   "cell_type": "markdown",
   "metadata": {},
   "source": [
    "#### Shop sales history<a id='220'></a>"
   ]
  },
  {
   "cell_type": "code",
   "execution_count": 8,
   "metadata": {},
   "outputs": [],
   "source": [
    "# sales volume history for ea. shop\n",
    "shop_cnt_per_dbn = pd.pivot_table(all_data, values='item_cnt_month_shop', columns=['date_block_num'],\\\n",
    "                                      index=['shop_id'], aggfunc=np.sum).fillna(0).reset_index()\\\n",
    "                                        .rename_axis(None, axis= 1)\n",
    "shop_cnt_per_dbn.set_index('shop_id', inplace=True)"
   ]
  },
  {
   "cell_type": "markdown",
   "metadata": {},
   "source": [
    "#### Closed shops<a id='221'></a>"
   ]
  },
  {
   "cell_type": "markdown",
   "metadata": {},
   "source": [
    "shops not selling any items in the last n months"
   ]
  },
  {
   "cell_type": "code",
   "execution_count": 9,
   "metadata": {},
   "outputs": [
    {
     "name": "stdout",
     "output_type": "stream",
     "text": [
      "shops_closed in the last  3  months :  [8, 13, 17, 23, 27, 29, 30, 32, 33, 40, 43, 54]\n",
      "shops_closed in test set : set()\n"
     ]
    }
   ],
   "source": [
    "n = 3\n",
    "\n",
    "shops_closed = shop_cnt_per_dbn.loc[shop_cnt_per_dbn.iloc[:, 33-n+1:].sum(axis=1) == 0].index.tolist()\n",
    "print('shops_closed in the last ', n , ' months : ', shops_closed)\n",
    "print('shops_closed in test set :', set(shops_closed) & (set(test.shop_id.unique())))\n",
    "\n",
    "#all_data['shop_isclosed'] = all_data.shop_id.apply(lambda x: 1 if x in shops_closed else 0)"
   ]
  },
  {
   "cell_type": "markdown",
   "metadata": {},
   "source": [
    "#### shop duration<a id='222' ></a>"
   ]
  },
  {
   "cell_type": "code",
   "execution_count": 10,
   "metadata": {},
   "outputs": [
    {
     "data": {
      "application/vnd.jupyter.widget-view+json": {
       "model_id": "c4f9d93300c94c85857854009752b432",
       "version_major": 2,
       "version_minor": 0
      },
      "text/plain": [
       "HBox(children=(IntProgress(value=0, max=57), HTML(value='')))"
      ]
     },
     "metadata": {},
     "output_type": "display_data"
    },
    {
     "name": "stdout",
     "output_type": "stream",
     "text": [
      "\n"
     ]
    }
   ],
   "source": [
    "shop_opening_dbn = []\n",
    "shop_last_dbn = []\n",
    "for shop_id in tqdm_notebook(shop_cnt_per_dbn.index):\n",
    "    shop_history = shop_cnt_per_dbn.loc[[shop_id],:].transpose()[shop_id].tolist()\n",
    "    #index of first non zero value or 0 if nothing yielded by generator\n",
    "    shop_opening_dbn.append(next((i for i, x in enumerate(shop_history) if x), 0))\n",
    "    #index of last non-zero value or last index if nothing yielded by generator\n",
    "    shop_last_dbn.append(len(shop_history) - next((i for i, x in enumerate(shop_history[::-1]) if x), 1) - 1)\n",
    "    # https://stackoverflow.com/questions/19502378/python-find-first-instance-of-non-zero-number-in-list"
   ]
  },
  {
   "cell_type": "code",
   "execution_count": 11,
   "metadata": {},
   "outputs": [],
   "source": [
    "shop_dates = pd.DataFrame({'shop_id':shop_cnt_per_dbn.index, 'shop_opening_dbn' : shop_opening_dbn, \\\n",
    "                                    'shop_last_dbn' : shop_last_dbn})\n",
    "shop_dates['shop_duration'] = shop_dates.shop_last_dbn - shop_opening_dbn + 1\n",
    "all_data = pd.merge(all_data, shop_dates, on='shop_id', how='left')"
   ]
  },
  {
   "cell_type": "markdown",
   "metadata": {},
   "source": [
    "#### Add categories<a id='223' ></a>"
   ]
  },
  {
   "cell_type": "code",
   "execution_count": 12,
   "metadata": {},
   "outputs": [],
   "source": [
    "shops['shop_city'] = shops.shop_name.str.split(' ').apply(lambda x:x[0])\n",
    "shops['shop_city_label'] = pd.factorize(shops.shop_city)[0]\n",
    "\n",
    "shops['shop_type'] = shops.shop_name.apply(lambda x: 'МТРЦ' if 'МТРЦ' in x[1] else 'ТРЦ' if 'ТРЦ' in x else \\\n",
    "                                              'ТРК' if 'ТРК' in x else 'ТЦ' if 'ТЦ' in x else 'ТК' if 'ТК' in x \\\n",
    "                                              else 'other')\n",
    "shops['shop_type_label'] = pd.factorize(shops.shop_type)[0]\n",
    "\n",
    "all_data = pd.merge(all_data, shops[['shop_id', 'shop_city_label', 'shop_type_label']], \\\n",
    "                                on='shop_id', how='left')"
   ]
  },
  {
   "cell_type": "markdown",
   "metadata": {},
   "source": [
    "Frequency encodings"
   ]
  },
  {
   "cell_type": "code",
   "execution_count": 13,
   "metadata": {},
   "outputs": [],
   "source": [
    "freq_mapping = all_data.groupby('shop_city_label').size()/len(all_data) \n",
    "all_data['shop_city_label_freq'] = all_data.shop_city_label.map(freq_mapping)\n",
    "\n",
    "freq_mapping = all_data.groupby('shop_type_label').size()/len(all_data) \n",
    "all_data['shop_type_label_freq'] = all_data.shop_type_label.map(freq_mapping)\n"
   ]
  },
  {
   "cell_type": "markdown",
   "metadata": {},
   "source": [
    "## 2.2. Total sales for ea. item, shop-wide <a id='22'></a>\n",
    "[Items that were never sold__](#211)\n",
    "[Outdated items__](#212')\n",
    "[item release date_block_num and  last sale date_block_num, shop-wide__](#213)\n",
    "[item release date_block_num and last sale date_block_num, for every shop__](#214)\n",
    "[Add item_id feature interactions__](#215)\n",
    "[items categories and meta-categories](#218)"
   ]
  },
  {
   "cell_type": "code",
   "execution_count": 14,
   "metadata": {
    "scrolled": true
   },
   "outputs": [],
   "source": [
    "gb = all_data.groupby(['item_id','date_block_num'], as_index = False).agg({'item_cnt_month':'sum'})\\\n",
    "                .rename(columns={'item_cnt_month' : 'item_cnt_month_item'})\n",
    "\n",
    "all_data = pd.merge(all_data, gb, on=['item_id','date_block_num'], how='left')"
   ]
  },
  {
   "cell_type": "markdown",
   "metadata": {},
   "source": [
    "#### Total sales history"
   ]
  },
  {
   "cell_type": "code",
   "execution_count": 15,
   "metadata": {},
   "outputs": [],
   "source": [
    "# pivot table only for training set since some items from test set are not seen in training set\n",
    "item_cnt_per_dbn = pd.pivot_table(all_data.loc[all_data.date_block_num < 34], values='item_cnt_month_item', columns=['date_block_num'],\\\n",
    "                                      index=['item_id']).fillna(0).reset_index().rename_axis(None, axis= 1)\n",
    "item_cnt_per_dbn.set_index('item_id', inplace=True)"
   ]
  },
  {
   "cell_type": "code",
   "execution_count": 16,
   "metadata": {},
   "outputs": [],
   "source": [
    "#items w/ zero sales\n",
    "item_zero_sales = item_cnt_per_dbn.sum(axis=1).loc[item_cnt_per_dbn.sum(axis=1) == 0].index.tolist()\n",
    "# = [4591, 7547, 11871, 13474, 18062]\n",
    "\n",
    "assert set(item_zero_sales) & set( all_data.loc[all_data.date_block_num == 34].item_id.unique() ) == set()\n",
    "assert all_data.loc[all_data.item_id.isin(item_zero_sales)].item_cnt_month.sum() == 0\n",
    "\n",
    "#remove item w/ zero sales\n",
    "all_data = all_data.loc[~all_data.item_id.isin(item_zero_sales)]\n",
    "item_cnt_per_dbn = item_cnt_per_dbn.loc[~item_cnt_per_dbn.index.isin(item_zero_sales)]"
   ]
  },
  {
   "cell_type": "code",
   "execution_count": 17,
   "metadata": {},
   "outputs": [],
   "source": [
    "# items w/ no sales for the last n months\n",
    "n = 6\n",
    "items_no_recent_sales = item_cnt_per_dbn[item_cnt_per_dbn.iloc[:, 33 - n+1:].sum(axis=1) == 0].index.tolist()"
   ]
  },
  {
   "cell_type": "code",
   "execution_count": 18,
   "metadata": {},
   "outputs": [
    {
     "data": {
      "text/plain": [
       "12891"
      ]
     },
     "execution_count": 18,
     "metadata": {},
     "output_type": "execute_result"
    }
   ],
   "source": [
    "len(items_no_recent_sales)"
   ]
  },
  {
   "cell_type": "code",
   "execution_count": 19,
   "metadata": {},
   "outputs": [
    {
     "data": {
      "text/plain": [
       "186"
      ]
     },
     "execution_count": 19,
     "metadata": {},
     "output_type": "execute_result"
    }
   ],
   "source": [
    "# 186 items w/ no recent sales are in test set\n",
    "len(set(items_no_recent_sales)&set(all_data.loc[all_data.date_block_num==34].item_id.unique()))"
   ]
  },
  {
   "cell_type": "markdown",
   "metadata": {},
   "source": [
    "#### item release date and  last sale date, shop-wide<a id='213' ></a>"
   ]
  },
  {
   "cell_type": "code",
   "execution_count": 20,
   "metadata": {},
   "outputs": [
    {
     "data": {
      "application/vnd.jupyter.widget-view+json": {
       "model_id": "089dcff1a61b4581a2b657dfe12c3019",
       "version_major": 2,
       "version_minor": 0
      },
      "text/plain": [
       "HBox(children=(IntProgress(value=0, max=21801), HTML(value='')))"
      ]
     },
     "metadata": {},
     "output_type": "display_data"
    },
    {
     "name": "stdout",
     "output_type": "stream",
     "text": [
      "\n"
     ]
    }
   ],
   "source": [
    "release_dbn = []\n",
    "last_sale_dbn = []\n",
    "for item_id in tqdm_notebook(item_cnt_per_dbn.index):\n",
    "    item_sale_history = item_cnt_per_dbn.loc[[item_id],:].transpose()[item_id].tolist()\n",
    "    #index of first non zero value or 0 if nothing yielded by generator\n",
    "    release_dbn.append(next((i for i, x in enumerate(item_sale_history) if x), 0))\n",
    "    #index of last non-zero value or last index if nothing yielded by generator\n",
    "    last_sale_dbn.append(len(item_sale_history) - next((i for i, x in enumerate(item_sale_history[::-1]) if x), 1) - 1)\n",
    "    # https://stackoverflow.com/questions/19502378/python-find-first-instance-of-non-zero-number-in-list"
   ]
  },
  {
   "cell_type": "code",
   "execution_count": 21,
   "metadata": {
    "scrolled": true
   },
   "outputs": [],
   "source": [
    "item_dates_shopwide = pd.DataFrame({'item_id':item_cnt_per_dbn.index, 'item_release_dbn' : release_dbn, \\\n",
    "                                    'item_last_sale_dbn' : last_sale_dbn})\n",
    "\n",
    "all_data = pd.merge(all_data, item_dates_shopwide, on='item_id', how='left')"
   ]
  },
  {
   "cell_type": "markdown",
   "metadata": {},
   "source": [
    "#### item release date and last sale date, for every shop<a id='214' ></a>"
   ]
  },
  {
   "cell_type": "code",
   "execution_count": 22,
   "metadata": {},
   "outputs": [],
   "source": [
    "item_cnt_per_dbn_per_shop = pd.pivot_table(all_data, values='item_cnt_month', columns=['date_block_num'],\\\n",
    "                                      index=['item_id', 'shop_id'], aggfunc=np.sum).fillna(0).reset_index().rename_axis(None, axis= 1)\n",
    "\n",
    "item_cnt_per_dbn_per_shop_nonzero = item_cnt_per_dbn_per_shop.loc[item_cnt_per_dbn_per_shop.iloc[:,2:].sum(axis=1) != 0]\\\n",
    "        .reset_index(drop=True)"
   ]
  },
  {
   "cell_type": "raw",
   "metadata": {},
   "source": [
    "release_dbn_per_shop = []\n",
    "last_sale_dbn_per_shop = []\n",
    "\n",
    "for idx in tqdm_notebook(item_cnt_per_dbn_per_shop_nonzero.index):\n",
    "    item_sale_history = item_cnt_per_dbn_per_shop_nonzero.iloc[[idx],2:].transpose()[idx].tolist()\n",
    "    #index of first non zero value or 0 if nothing yielded by generator\n",
    "    release_dbn_per_shop.append(next((i for i, x in enumerate(item_sale_history) if x), 0))\n",
    "    #index of last non-zero value or last index if nothing yielded by generator\n",
    "    # https://stackoverflow.com/questions/19502378/python-find-first-instance-of-non-zero-number-in-list\n",
    "    last_sale_dbn_per_shop.append(len(item_sale_history) - next((i for i, x in enumerate(item_sale_history[::-1]) if x), 1) - 1)"
   ]
  },
  {
   "cell_type": "raw",
   "metadata": {},
   "source": [
    "with open('release_dbn_per_shop.pkl', 'wb') as f:\n",
    "    pickle.dump(release_dbn_per_shop, f, pickle.HIGHEST_PROTOCOL)\n",
    "with open('last_sale_dbn_per_shop.pkl', 'wb') as f:\n",
    "    pickle.dump(last_sale_dbn_per_shop, f, pickle.HIGHEST_PROTOCOL)"
   ]
  },
  {
   "cell_type": "code",
   "execution_count": 23,
   "metadata": {},
   "outputs": [],
   "source": [
    "release_dbn_per_shop = []\n",
    "last_sale_dbn_per_shop = []\n",
    "\n",
    "with open('release_dbn_per_shop.pkl', 'rb') as f:\n",
    "    release_dbn_per_shop = pickle.load(f)\n",
    "with open('last_sale_dbn_per_shop.pkl', 'rb') as f:\n",
    "    last_sale_dbn_per_shop = pickle.load(f)"
   ]
  },
  {
   "cell_type": "code",
   "execution_count": 24,
   "metadata": {
    "scrolled": true
   },
   "outputs": [],
   "source": [
    "item_dates_shop_level = pd.DataFrame({'item_id':item_cnt_per_dbn_per_shop_nonzero.iloc[:,0],\\\n",
    "              'shop_id':item_cnt_per_dbn_per_shop_nonzero.iloc[:,1],\\\n",
    "              'item_release_dbn_shop' : release_dbn_per_shop,\\\n",
    "              'item_last_sale_dbn_shop' : last_sale_dbn_per_shop})\n",
    "\n",
    "all_data = pd.merge(all_data, item_dates_shop_level, on=['item_id','shop_id'], how='left')\\\n",
    "                        .fillna(0)"
   ]
  },
  {
   "cell_type": "markdown",
   "metadata": {},
   "source": [
    "#### Add item_id feature interactions<a id='215' ></a>"
   ]
  },
  {
   "cell_type": "code",
   "execution_count": 25,
   "metadata": {},
   "outputs": [],
   "source": [
    "# duration of item on the market and in the shop\n",
    "all_data['item_market_duration'] = all_data.item_last_sale_dbn \\\n",
    "                                                - all_data.item_release_dbn + 1\n",
    "all_data['item_shop_duration'] = all_data.item_last_sale_dbn_shop \\\n",
    "                                                - all_data.item_release_dbn_shop + 1\n",
    "# item release and last sale date shift between shop and market\n",
    "all_data['item_release_market_shift'] = all_data.item_release_dbn_shop\\\n",
    "                                                - all_data.item_release_dbn\n",
    "all_data['item_last_sale_market_shift'] = all_data.item_last_sale_dbn_shop\\\n",
    "                                                - all_data.item_last_sale_dbn"
   ]
  },
  {
   "cell_type": "markdown",
   "metadata": {},
   "source": [
    "## 2.3. Total sales for ea. category, shop-wide <a id='23'></a>"
   ]
  },
  {
   "cell_type": "code",
   "execution_count": 26,
   "metadata": {
    "scrolled": true
   },
   "outputs": [],
   "source": [
    "items = items.merge(item_categories, on='item_category_id')\n",
    "\n",
    "all_data = pd.merge(all_data, items[['item_id','item_category_id']], on='item_id', how='left')"
   ]
  },
  {
   "cell_type": "code",
   "execution_count": 27,
   "metadata": {
    "scrolled": true
   },
   "outputs": [],
   "source": [
    "gb = all_data.groupby(['date_block_num', 'item_category_id'], as_index = False).agg({'item_cnt_month':'sum'})\\\n",
    "                .rename(columns={'item_cnt_month' : 'item_cnt_month_cat'})\n",
    "\n",
    "all_data = pd.merge(all_data, gb, on=['date_block_num', 'item_category_id'], how='left')"
   ]
  },
  {
   "cell_type": "markdown",
   "metadata": {},
   "source": [
    "#### Category total sales history"
   ]
  },
  {
   "cell_type": "code",
   "execution_count": 28,
   "metadata": {},
   "outputs": [],
   "source": [
    "cat_cnt_per_dbn = pd.pivot_table(all_data, values='item_cnt_month_cat', columns=['date_block_num'],\\\n",
    "                                      index=['item_category_id'], aggfunc = np.sum).fillna(0).reset_index()\\\n",
    "                .rename_axis(None, axis= 1)#.loc[40,:].plot()\n",
    "# default agg_func = np.mean\n",
    "# item_id becomes the index => easier for selecting data\n",
    "cat_cnt_per_dbn.set_index('item_category_id', inplace=True)"
   ]
  },
  {
   "cell_type": "markdown",
   "metadata": {},
   "source": [
    "#### Categories that were never sold"
   ]
  },
  {
   "cell_type": "code",
   "execution_count": 29,
   "metadata": {},
   "outputs": [
    {
     "data": {
      "text/plain": [
       "[]"
      ]
     },
     "execution_count": 29,
     "metadata": {},
     "output_type": "execute_result"
    }
   ],
   "source": [
    "cat_zero_sales = cat_cnt_per_dbn.sum(axis=1).loc[cat_cnt_per_dbn.sum(axis=1) == 0].index.tolist()\n",
    "#print('cat_zero_sales in test set : ', cat_zero_sales in all_data.loc[all_data.date_block_num > 33].item_category_id.tolist())\n",
    "cat_zero_sales"
   ]
  },
  {
   "cell_type": "markdown",
   "metadata": {},
   "source": [
    "#### items categories and meta-categories <a id='218'></a>"
   ]
  },
  {
   "cell_type": "code",
   "execution_count": 30,
   "metadata": {},
   "outputs": [],
   "source": [
    "# = ([Кино , DVD]).str.split('-').apply(lambda x: x[0]) = 'Кино'\n",
    "items['item_general_category'] = items.item_category_name.str.split('-').apply(lambda x: x[0]) \n",
    "items['item_general_category_label'] = pd.factorize(items.item_general_category)[0]\n",
    "\n",
    "# = ([Кино , DVD]).str.split('-').apply(lambda x:x[1] if len(x)>1 else x[0]) = 'DVD' if subcat exists, else 'Кино'\n",
    "items['item_sub_category'] = items.item_category_name.str.split('-').apply(lambda x:x[1] if len(x)>1 else x[0])\n",
    "items['item_sub_category_label'] = pd.factorize(items.item_sub_category)[0]\n",
    "\n",
    "\n",
    "# merge categories label and sub-category labels with all_data\n",
    "all_data = pd.merge(all_data, items[['item_id', 'item_general_category_label', \\\n",
    "                                                             'item_sub_category_label']], on = 'item_id', how = 'left')"
   ]
  },
  {
   "cell_type": "code",
   "execution_count": 31,
   "metadata": {},
   "outputs": [],
   "source": [
    "# *** Frequency encodings ***\n",
    "\n",
    "# number of records in ea. item_category_id / (number of records)\n",
    "freq_mapping = all_data.loc[all_data.date_block_num<33].groupby('item_category_id').size()/len(all_data.loc[all_data.date_block_num<33]) \n",
    "# maps ea. item_category_id to its frequency **in training set** in train and test dataframes\n",
    "all_data['item_category_id_freq'] = all_data.item_category_id.map(freq_mapping)\n",
    "\n",
    "freq_mapping = all_data.groupby('item_general_category_label').size()/len(all_data) \n",
    "all_data['item_general_category_label_freq'] = all_data.item_general_category_label.map(freq_mapping)\n",
    "\n",
    "freq_mapping = all_data.groupby('item_sub_category_label').size()/len(all_data) \n",
    "all_data['item_sub_category_label_freq'] = all_data.item_sub_category_label.map(freq_mapping)"
   ]
  },
  {
   "cell_type": "markdown",
   "metadata": {},
   "source": [
    "## 2.4. Monthly mean and max price <a id='24'></a> "
   ]
  },
  {
   "cell_type": "raw",
   "metadata": {},
   "source": [
    "Calculated from transactions dataframe"
   ]
  },
  {
   "cell_type": "code",
   "execution_count": 32,
   "metadata": {},
   "outputs": [],
   "source": [
    "gb = transactions.groupby(by=['date_block_num', 'item_id'], as_index=False).agg({'item_price':['mean', 'max']})\\\n",
    "#.rename(columns={'mean':'target_price_mean', 'max':'target_price_max'}).columns\n",
    "gb.columns = [val[0] if val[-1]=='' else '_'.join(val) for val in gb.columns.values] # deal w/ multiindex\n",
    "\n",
    "all_data = pd.merge(all_data, gb, on=['date_block_num', 'item_id'], how='left')"
   ]
  },
  {
   "cell_type": "code",
   "execution_count": 34,
   "metadata": {},
   "outputs": [
    {
     "data": {
      "text/html": [
       "<div>\n",
       "<style scoped>\n",
       "    .dataframe tbody tr th:only-of-type {\n",
       "        vertical-align: middle;\n",
       "    }\n",
       "\n",
       "    .dataframe tbody tr th {\n",
       "        vertical-align: top;\n",
       "    }\n",
       "\n",
       "    .dataframe thead tr th {\n",
       "        text-align: left;\n",
       "    }\n",
       "</style>\n",
       "<table border=\"1\" class=\"dataframe\">\n",
       "  <thead>\n",
       "    <tr>\n",
       "      <th></th>\n",
       "      <th>date_block_num</th>\n",
       "      <th>item_id</th>\n",
       "      <th colspan=\"2\" halign=\"left\">item_price</th>\n",
       "    </tr>\n",
       "    <tr>\n",
       "      <th></th>\n",
       "      <th></th>\n",
       "      <th></th>\n",
       "      <th>mean</th>\n",
       "      <th>max</th>\n",
       "    </tr>\n",
       "  </thead>\n",
       "  <tbody>\n",
       "    <tr>\n",
       "      <th>0</th>\n",
       "      <td>0</td>\n",
       "      <td>19</td>\n",
       "      <td>28.000000</td>\n",
       "      <td>28.0</td>\n",
       "    </tr>\n",
       "    <tr>\n",
       "      <th>1</th>\n",
       "      <td>0</td>\n",
       "      <td>27</td>\n",
       "      <td>2325.000000</td>\n",
       "      <td>2499.0</td>\n",
       "    </tr>\n",
       "    <tr>\n",
       "      <th>2</th>\n",
       "      <td>0</td>\n",
       "      <td>28</td>\n",
       "      <td>549.000000</td>\n",
       "      <td>549.0</td>\n",
       "    </tr>\n",
       "    <tr>\n",
       "      <th>3</th>\n",
       "      <td>0</td>\n",
       "      <td>29</td>\n",
       "      <td>2397.500000</td>\n",
       "      <td>2499.0</td>\n",
       "    </tr>\n",
       "    <tr>\n",
       "      <th>4</th>\n",
       "      <td>0</td>\n",
       "      <td>32</td>\n",
       "      <td>338.110349</td>\n",
       "      <td>349.0</td>\n",
       "    </tr>\n",
       "  </tbody>\n",
       "</table>\n",
       "</div>"
      ],
      "text/plain": [
       "  date_block_num item_id   item_price        \n",
       "                                 mean     max\n",
       "0              0      19    28.000000    28.0\n",
       "1              0      27  2325.000000  2499.0\n",
       "2              0      28   549.000000   549.0\n",
       "3              0      29  2397.500000  2499.0\n",
       "4              0      32   338.110349   349.0"
      ]
     },
     "execution_count": 34,
     "metadata": {},
     "output_type": "execute_result"
    }
   ],
   "source": [
    "transactions.groupby(by=['date_block_num', 'item_id'], as_index=False).agg({'item_price':['mean', 'max']}).head()"
   ]
  },
  {
   "cell_type": "code",
   "execution_count": 41,
   "metadata": {},
   "outputs": [],
   "source": [
    "gb = transactions.groupby(by=['date_block_num', 'item_id', 'shop_id'], as_index=False)\\\n",
    "        .agg({'item_price':['mean', 'max']})\\\n",
    "        .rename(columns={'mean':'shop_mean', 'max':'shop_max'})\n",
    "gb.columns = [val[0] if val[-1]=='' else '_'.join(val) for val in gb.columns.values] # deal w/ multiindex\n",
    "\n",
    "all_data = pd.merge(all_data, gb, on=['date_block_num', 'item_id', 'shop_id'], how='left')"
   ]
  },
  {
   "cell_type": "code",
   "execution_count": 44,
   "metadata": {},
   "outputs": [
    {
     "data": {
      "text/plain": [
       "149"
      ]
     },
     "execution_count": 44,
     "metadata": {},
     "output_type": "execute_result"
    }
   ],
   "source": [
    "gc.collect()"
   ]
  },
  {
   "cell_type": "code",
   "execution_count": 45,
   "metadata": {},
   "outputs": [],
   "source": [
    "all_data = pd.concat([all_data['ID'].astype(np.int32), downcast_dtypes(all_data.drop(columns='ID'))], axis=1)"
   ]
  },
  {
   "cell_type": "raw",
   "metadata": {},
   "source": [
    "with open('all_data2.pkl', 'wb') as f:\n",
    "    # Pickle the 'data' dictionary using the highest protocol available.\n",
    "    pickle.dump(all_data, f, pickle.HIGHEST_PROTOCOL)"
   ]
  },
  {
   "cell_type": "code",
   "execution_count": 2,
   "metadata": {},
   "outputs": [],
   "source": [
    "with open('all_data2.pkl', 'rb') as f:\n",
    "    # The protocol version used is detected automatically, so we do not have to specify it.\n",
    "    all_data = pickle.load(f)"
   ]
  },
  {
   "cell_type": "code",
   "execution_count": null,
   "metadata": {},
   "outputs": [],
   "source": []
  },
  {
   "cell_type": "markdown",
   "metadata": {},
   "source": [
    "# 3. Mean encodings of categorical data<a id='3'></a>"
   ]
  },
  {
   "cell_type": "code",
   "execution_count": 3,
   "metadata": {},
   "outputs": [],
   "source": [
    "categorical_features = [['shop_id'], ['item_id'], ['shop_id', 'item_id'],  ['shop_city_label'],\n",
    "       ['shop_type_label'], ['item_category_id'], ['shop_id', 'item_category_id'], ['item_general_category_label'], \n",
    "                        ['shop_id', 'item_general_category_label'],\n",
    "       ['item_sub_category_label'], ['shop_id', 'item_sub_category_label']\n",
    "                       ]"
   ]
  },
  {
   "cell_type": "code",
   "execution_count": 4,
   "metadata": {},
   "outputs": [
    {
     "name": "stdout",
     "output_type": "stream",
     "text": [
      "mean encoding :  shop_id_mean_enc\n"
     ]
    },
    {
     "data": {
      "application/vnd.jupyter.widget-view+json": {
       "model_id": "9145cd3f1586484c941f079f850db845",
       "version_major": 2,
       "version_minor": 0
      },
      "text/plain": [
       "HBox(children=(IntProgress(value=0, max=35), HTML(value='')))"
      ]
     },
     "metadata": {},
     "output_type": "display_data"
    },
    {
     "name": "stdout",
     "output_type": "stream",
     "text": [
      "\n",
      "mean encoding :  item_id_mean_enc\n"
     ]
    },
    {
     "data": {
      "application/vnd.jupyter.widget-view+json": {
       "model_id": "4be5e8176b2146e08d356aefa5d17aca",
       "version_major": 2,
       "version_minor": 0
      },
      "text/plain": [
       "HBox(children=(IntProgress(value=0, max=35), HTML(value='')))"
      ]
     },
     "metadata": {},
     "output_type": "display_data"
    },
    {
     "name": "stdout",
     "output_type": "stream",
     "text": [
      "\n",
      "mean encoding :  shop_id_item_id_mean_enc\n"
     ]
    },
    {
     "data": {
      "application/vnd.jupyter.widget-view+json": {
       "model_id": "7e1d4ee2d0b8470c85ecdf2e12876160",
       "version_major": 2,
       "version_minor": 0
      },
      "text/plain": [
       "HBox(children=(IntProgress(value=0, max=35), HTML(value='')))"
      ]
     },
     "metadata": {},
     "output_type": "display_data"
    },
    {
     "name": "stdout",
     "output_type": "stream",
     "text": [
      "\n",
      "mean encoding :  shop_city_label_mean_enc\n"
     ]
    },
    {
     "data": {
      "application/vnd.jupyter.widget-view+json": {
       "model_id": "650d48f616e242ca917608bbf5ff2d7c",
       "version_major": 2,
       "version_minor": 0
      },
      "text/plain": [
       "HBox(children=(IntProgress(value=0, max=35), HTML(value='')))"
      ]
     },
     "metadata": {},
     "output_type": "display_data"
    },
    {
     "name": "stdout",
     "output_type": "stream",
     "text": [
      "\n",
      "mean encoding :  shop_type_label_mean_enc\n"
     ]
    },
    {
     "data": {
      "application/vnd.jupyter.widget-view+json": {
       "model_id": "ee3616cd89bc4db89cfad3f5cc44cd4a",
       "version_major": 2,
       "version_minor": 0
      },
      "text/plain": [
       "HBox(children=(IntProgress(value=0, max=35), HTML(value='')))"
      ]
     },
     "metadata": {},
     "output_type": "display_data"
    },
    {
     "name": "stdout",
     "output_type": "stream",
     "text": [
      "\n",
      "mean encoding :  item_category_id_mean_enc\n"
     ]
    },
    {
     "data": {
      "application/vnd.jupyter.widget-view+json": {
       "model_id": "3c56483253e04e9cbd62c4fcbcbc97b5",
       "version_major": 2,
       "version_minor": 0
      },
      "text/plain": [
       "HBox(children=(IntProgress(value=0, max=35), HTML(value='')))"
      ]
     },
     "metadata": {},
     "output_type": "display_data"
    },
    {
     "name": "stdout",
     "output_type": "stream",
     "text": [
      "\n",
      "mean encoding :  shop_id_item_category_id_mean_enc\n"
     ]
    },
    {
     "data": {
      "application/vnd.jupyter.widget-view+json": {
       "model_id": "da267fd52b54432a97cbc43c1cf26cbe",
       "version_major": 2,
       "version_minor": 0
      },
      "text/plain": [
       "HBox(children=(IntProgress(value=0, max=35), HTML(value='')))"
      ]
     },
     "metadata": {},
     "output_type": "display_data"
    },
    {
     "name": "stdout",
     "output_type": "stream",
     "text": [
      "\n",
      "mean encoding :  item_general_category_label_mean_enc\n"
     ]
    },
    {
     "data": {
      "application/vnd.jupyter.widget-view+json": {
       "model_id": "77faa2fa8a824f029b48149e92df500c",
       "version_major": 2,
       "version_minor": 0
      },
      "text/plain": [
       "HBox(children=(IntProgress(value=0, max=35), HTML(value='')))"
      ]
     },
     "metadata": {},
     "output_type": "display_data"
    },
    {
     "name": "stdout",
     "output_type": "stream",
     "text": [
      "\n",
      "mean encoding :  shop_id_item_general_category_label_mean_enc\n"
     ]
    },
    {
     "data": {
      "application/vnd.jupyter.widget-view+json": {
       "model_id": "ecda8028b69b47fbb53f543a2c6dcd3e",
       "version_major": 2,
       "version_minor": 0
      },
      "text/plain": [
       "HBox(children=(IntProgress(value=0, max=35), HTML(value='')))"
      ]
     },
     "metadata": {},
     "output_type": "display_data"
    },
    {
     "name": "stdout",
     "output_type": "stream",
     "text": [
      "\n",
      "mean encoding :  item_sub_category_label_mean_enc\n"
     ]
    },
    {
     "data": {
      "application/vnd.jupyter.widget-view+json": {
       "model_id": "335f8bedd96c4fc28869eeddceb45060",
       "version_major": 2,
       "version_minor": 0
      },
      "text/plain": [
       "HBox(children=(IntProgress(value=0, max=35), HTML(value='')))"
      ]
     },
     "metadata": {},
     "output_type": "display_data"
    },
    {
     "name": "stdout",
     "output_type": "stream",
     "text": [
      "\n",
      "mean encoding :  shop_id_item_sub_category_label_mean_enc\n"
     ]
    },
    {
     "data": {
      "application/vnd.jupyter.widget-view+json": {
       "model_id": "f35dc8988df44a4ab100af4aa1ab9c55",
       "version_major": 2,
       "version_minor": 0
      },
      "text/plain": [
       "HBox(children=(IntProgress(value=0, max=35), HTML(value='')))"
      ]
     },
     "metadata": {},
     "output_type": "display_data"
    },
    {
     "name": "stdout",
     "output_type": "stream",
     "text": [
      "\n"
     ]
    }
   ],
   "source": [
    "for categ in categorical_features:\n",
    "    mean_enc_col = categ.copy()\n",
    "    mean_enc_col.append('mean_enc')\n",
    "    mean_enc_col = '_'.join(mean_enc_col)\n",
    "\n",
    "    print('mean encoding : ', mean_enc_col)\n",
    "    all_data[mean_enc_col] = np.nan\n",
    "     \n",
    "    for dbn in tqdm_notebook(all_data.date_block_num.unique()):\n",
    "        \n",
    "        # encoding for categ calculated on previous periods\n",
    "        gb = all_data.loc[all_data.date_block_num < dbn].groupby(categ).agg({'item_cnt_month':'mean'}).reset_index()\n",
    "        # map encoding in current time period, update index to current time period\n",
    "        mean_enc = pd.merge(all_data.loc[all_data.date_block_num == dbn][categ], gb, on=categ, how='left')\\\n",
    "                                    [['item_cnt_month']].set_index(all_data.loc[all_data.date_block_num == dbn].index)\n",
    "        all_data.loc[all_data.date_block_num == dbn, mean_enc_col] = mean_enc.item_cnt_month"
   ]
  },
  {
   "cell_type": "code",
   "execution_count": 5,
   "metadata": {},
   "outputs": [],
   "source": [
    "all_data = pd.concat([all_data['ID'].astype(np.int32), downcast_dtypes(all_data.drop(columns='ID'))], axis=1)"
   ]
  },
  {
   "cell_type": "raw",
   "metadata": {},
   "source": [
    "with open('all_data3.pkl', 'wb') as f:\n",
    "    # Pickle the 'data' dictionary using the highest protocol available.\n",
    "    pickle.dump(all_data, f, pickle.HIGHEST_PROTOCOL)"
   ]
  },
  {
   "cell_type": "code",
   "execution_count": 3,
   "metadata": {},
   "outputs": [],
   "source": [
    "with open('all_data3.pkl', 'rb') as f:\n",
    "    # The protocol version used is detected automatically, so we do not have to specify it.\n",
    "    all_data = pickle.load(f)"
   ]
  },
  {
   "cell_type": "markdown",
   "metadata": {},
   "source": [
    "# 4. Lags on aggregated data<a id='4'></a>"
   ]
  },
  {
   "cell_type": "code",
   "execution_count": 4,
   "metadata": {},
   "outputs": [
    {
     "data": {
      "text/plain": [
       "11"
      ]
     },
     "execution_count": 4,
     "metadata": {},
     "output_type": "execute_result"
    }
   ],
   "source": [
    "aggregated_data = ['item_cnt_month', 'item_cnt_month_shop','item_cnt_month_item','item_cnt_month_cat',\\\n",
    "                   'item_price_mean', 'item_price_max', 'item_price_shop_mean', 'item_price_shop_max']\n",
    "groupby_columns = ['date_block_num', 'item_id', 'shop_id']\n",
    "\n",
    "lags = [1, 2, 3, 6, 12]\n",
    "\n",
    "gc.collect()"
   ]
  },
  {
   "cell_type": "code",
   "execution_count": 5,
   "metadata": {},
   "outputs": [
    {
     "data": {
      "application/vnd.jupyter.widget-view+json": {
       "model_id": "a3f1d1fa71cc44e5a0ee53387ba542a1",
       "version_major": 2,
       "version_minor": 0
      },
      "text/plain": [
       "HBox(children=(IntProgress(value=0, max=5), HTML(value='')))"
      ]
     },
     "metadata": {},
     "output_type": "display_data"
    },
    {
     "name": "stdout",
     "output_type": "stream",
     "text": [
      "\n"
     ]
    }
   ],
   "source": [
    "for lag in tqdm_notebook(lags):\n",
    "    shifted_df = all_data[groupby_columns + aggregated_data].copy()\n",
    "\n",
    "    shifted_df.date_block_num += lag\n",
    "\n",
    "    # rename lagged columns\n",
    "    rename_rule = lambda x: x+'_lag_'+str(lag) if x in aggregated_data else x\n",
    "    shifted_df = shifted_df.rename(columns=rename_rule)\n",
    "\n",
    "    all_data = pd.merge(all_data, shifted_df, on=groupby_columns, how='left').fillna(0)\n",
    "    all_data = pd.concat([all_data['ID'].astype(np.int32), downcast_dtypes(all_data.drop(columns='ID'))], axis=1)\n",
    "    del shifted_df\n",
    "    gc.collect()"
   ]
  },
  {
   "cell_type": "markdown",
   "metadata": {},
   "source": [
    "remove first 12 months"
   ]
  },
  {
   "cell_type": "code",
   "execution_count": 6,
   "metadata": {},
   "outputs": [],
   "source": [
    "all_data = all_data[all_data.date_block_num > 11]"
   ]
  },
  {
   "cell_type": "code",
   "execution_count": 7,
   "metadata": {},
   "outputs": [],
   "source": [
    "all_data = pd.concat([all_data['ID'].astype(np.int32), downcast_dtypes(all_data.drop(columns='ID'))], axis=1)"
   ]
  },
  {
   "cell_type": "code",
   "execution_count": 8,
   "metadata": {},
   "outputs": [],
   "source": [
    "lagged_1 = [feature for feature in all_data.columns if 'lag_1' in feature][:-8]\n",
    "lagged_2 = [feature for feature in all_data.columns if 'lag_2' in feature]\n",
    "lagged_3 = [feature for feature in all_data.columns if 'lag_3' in feature]\n",
    "#lagged_6 = [feature for feature in all_data.columns if 'lag_6' in feature]\n",
    "#lagged_12 = [feature for feature in all_data.columns if 'lag_12' in feature]"
   ]
  },
  {
   "cell_type": "code",
   "execution_count": 9,
   "metadata": {},
   "outputs": [],
   "source": [
    "for lag in [lagged_2, lagged_3]:#, lagged_6, lagged_12] :\n",
    "    for feature in zip(lagged_1, lag):\n",
    "        #print(feature)\n",
    "#        if lag == lagged_12: \n",
    "#            trend_feat_name = feature[0][:-6] + '_trend_' + feature[0][-1:] +'_'+ feature[1][-2:]\n",
    "#            all_data[trend_feat_name] = ((all_data[feature[0]] - all_data[feature[1]])/(all_data[feature[1]] + 1e-6))\\\n",
    "#                                                    .clip(-1, 10000) # 1e-6 : deal w/ zero division\n",
    "#        else:\n",
    "            trend_feat_name = feature[0][:-6] + '_trend_' + feature[0][-1:] +'_'+ feature[1][-1:]\n",
    "            all_data[trend_feat_name] = (all_data[feature[0]] - all_data[feature[1]])\n"
   ]
  },
  {
   "cell_type": "markdown",
   "metadata": {},
   "source": [
    "### Search for interactions"
   ]
  },
  {
   "cell_type": "code",
   "execution_count": 49,
   "metadata": {},
   "outputs": [
    {
     "data": {
      "text/plain": [
       "array([[<matplotlib.axes._subplots.AxesSubplot object at 0x7fe0e4471710>,\n",
       "        <matplotlib.axes._subplots.AxesSubplot object at 0x7fe0e441c5f8>],\n",
       "       [<matplotlib.axes._subplots.AxesSubplot object at 0x7fe0e44490b8>,\n",
       "        <matplotlib.axes._subplots.AxesSubplot object at 0x7fe0e43edb38>]],\n",
       "      dtype=object)"
      ]
     },
     "execution_count": 49,
     "metadata": {},
     "output_type": "execute_result"
    },
    {
     "data": {
      "image/png": "[encoded data removed]",
      "text/plain": [
       "<Figure size 432x288 with 4 Axes>"
      ]
     },
     "metadata": {
      "needs_background": "light"
     },
     "output_type": "display_data"
    }
   ],
   "source": [
    "scatter_matrix(pd.DataFrame({'a':all_data['item_cnt_month_cat_lag_1'] +  all_data['item_cnt_month_cat_lag_2'],\n",
    "             'b':all_data['item_cnt_month_cat_lag_3'] +  all_data['item_cnt_month_cat_lag_6']}).sample(20000))"
   ]
  },
  {
   "cell_type": "code",
   "execution_count": 11,
   "metadata": {},
   "outputs": [],
   "source": [
    "#all_data['item_cnt_month_trend_1_2'] = all_data['item_cnt_month_lag_1'] - all_data['item_cnt_month_lag_2']\n",
    "all_data['item_cnt_month_predict_1_2'] = all_data['item_cnt_month_lag_1']*2 - all_data['item_cnt_month_lag_2']\n",
    "all_data['item_cnt_month_shop_predict_1_2'] = all_data['item_cnt_month_shop_lag_1']*2 - all_data['item_cnt_month_shop_lag_2']\n",
    "all_data['item_cnt_month_cat_predict_1_2'] = all_data['item_cnt_month_cat_lag_1']*2 - all_data['item_cnt_month_cat_lag_2']\n",
    "\n",
    "all_data['item_cnt_month_trend_3_6'] = all_data['item_cnt_month_lag_1'] + all_data['item_cnt_month_lag_2'] - all_data['item_cnt_month_lag_3'] - all_data['item_cnt_month_lag_6']\n",
    "all_data['item_cnt_month_predict_3_6'] = (all_data['item_cnt_month_lag_1'] + all_data['item_cnt_month_lag_2'])*2 - all_data['item_cnt_month_lag_3'] - all_data['item_cnt_month_lag_6']\n",
    "all_data['item_cnt_month_shop_trend_3_6'] = all_data['item_cnt_month_shop_lag_1'] + all_data['item_cnt_month_shop_lag_2'] - all_data['item_cnt_month_shop_lag_3'] - all_data['item_cnt_month_shop_lag_6']\n",
    "all_data['item_cnt_month_shop_predict_3_6'] = (all_data['item_cnt_month_shop_lag_1'] + all_data['item_cnt_month_shop_lag_2'])*2 - all_data['item_cnt_month_shop_lag_3'] - all_data['item_cnt_month_shop_lag_6']\n",
    "all_data['item_cnt_month_cat_trend_3_6'] = all_data['item_cnt_month_cat_lag_1'] + all_data['item_cnt_month_cat_lag_2'] - all_data['item_cnt_month_cat_lag_3'] - all_data['item_cnt_month_cat_lag_6']\n",
    "all_data['item_cnt_month_cat_predict_3_6'] = (all_data['item_cnt_month_cat_lag_1'] + all_data['item_cnt_month_cat_lag_2'])*2 - all_data['item_cnt_month_cat_lag_3'] - all_data['item_cnt_month_cat_lag_6']\n",
    "\n",
    "#all_data['item_cnt_month_item_trend_1_2'] = all_data['item_cnt_month_item_lag_1'] - all_data['item_cnt_month_item_lag_2']\n",
    "all_data['item_cnt_month_item_trend_3_6'] = all_data['item_cnt_month_item_lag_1'] + all_data['item_cnt_month_item_lag_2'] - all_data['item_cnt_month_item_lag_3'] - all_data['item_cnt_month_item_lag_6']\n",
    "#all_data['item_cnt_month_shop_trend_1_2'] = all_data['item_cnt_month_shop_lag_1'] - all_data['item_cnt_month_shop_lag_2']\n",
    "all_data['item_cnt_month_shop_trend_3_6'] = all_data['item_cnt_month_shop_lag_1'] + all_data['item_cnt_month_shop_lag_2'] - all_data['item_cnt_month_shop_lag_3'] - all_data['item_cnt_month_shop_lag_6']\n",
    "all_data['item_cnt_month_cat_trend_3_6'] = all_data['item_cnt_month_cat_lag_1'] + all_data['item_cnt_month_cat_lag_2'] - all_data['item_cnt_month_cat_lag_3'] - all_data['item_cnt_month_cat_lag_6']"
   ]
  },
  {
   "cell_type": "code",
   "execution_count": 12,
   "metadata": {},
   "outputs": [],
   "source": [
    "all_data = pd.concat([all_data['ID'].astype(np.int32), downcast_dtypes(all_data.drop(columns='ID'))], axis=1)"
   ]
  },
  {
   "cell_type": "raw",
   "metadata": {},
   "source": [
    "with open('all_data4.pkl', 'wb') as f:\n",
    "    # Pickle the 'data' dictionary using the highest protocol available.\n",
    "    pickle.dump(all_data, f, pickle.HIGHEST_PROTOCOL)"
   ]
  },
  {
   "cell_type": "markdown",
   "metadata": {},
   "source": [
    "# 5. Fit XGBoost<a id='5'></a>"
   ]
  },
  {
   "cell_type": "code",
   "execution_count": 2,
   "metadata": {},
   "outputs": [],
   "source": [
    "with open('all_data4.pkl', 'rb') as f:\n",
    "    # The protocol version used is detected automatically, so we do not have to specify it.\n",
    "    all_data = pickle.load(f)"
   ]
  },
  {
   "cell_type": "code",
   "execution_count": 34,
   "metadata": {},
   "outputs": [],
   "source": [
    "features = ['item_category_id', 'shop_city_label', 'date_block_num',\n",
    "            'item_id_mean_enc', 'item_id_max_enc',\n",
    "            'shop_id_mean_enc', 'shop_id_max_enc', \n",
    "            'shop_id_item_id_mean_enc', 'shop_id_item_id_max_enc',            \n",
    "            'shop_id_item_category_id_mean_enc', 'shop_id_item_category_id_max_enc' ,\n",
    "\n",
    "            'item_id', 'item_general_category_label', \n",
    "            'month', 'shop_id',\n",
    "            \n",
    "            'item_cnt_month_lag_1', 'item_cnt_month_lag_2', 'item_cnt_month_lag_3', 'item_cnt_month_lag_6',\n",
    "            'item_cnt_month_lag_12',\n",
    "            'item_cnt_month_predict_1_2', 'item_cnt_month_predict_3_6',\n",
    "            \n",
    "            'item_cnt_month_cat_lag_1','item_cnt_month_cat_lag_2',\n",
    "            'item_cnt_month_cat_lag_3', 'item_cnt_month_cat_lag_6', 'item_cnt_month_cat_lag_12', \n",
    "            \n",
    "            'item_cnt_month_item_lag_1', 'item_cnt_month_item_lag_2', 'item_cnt_month_item_lag_3', \n",
    "            'item_cnt_month_item_lag_6', 'item_cnt_month_item_lag_12',\n",
    "            'item_cnt_month_item_trend_1_2', 'item_cnt_month_item_trend_3_6', \n",
    "              \n",
    "            'item_price_mean_lag_1', 'item_price_max_lag_1', 'item_price_mean_lag_2', 'item_price_max_lag_2',\n",
    "            'item_price_mean_lag_3', 'item_price_max_lag_3', 'item_price_mean_lag_6', 'item_price_max_lag_6',\n",
    "            'item_price_mean_lag_12', 'item_price_max_lag_12' ,\n",
    "           \n",
    "            'item_cnt_month_shop_lag_1', 'item_cnt_month_shop_lag_2', 'item_cnt_month_shop_lag_3',\n",
    "            'item_cnt_month_shop_lag_6', 'item_cnt_month_shop_lag_12',\n",
    "            'item_cnt_month_shop_trend_1_2', 'item_cnt_month_shop_trend_3_6',\n",
    "            'item_cnt_month_trend_1_2', 'item_cnt_month_trend_3_6']"
   ]
  },
  {
   "cell_type": "code",
   "execution_count": 36,
   "metadata": {
    "code_folding": []
   },
   "outputs": [],
   "source": [
    "train_data = all_data[features + ['item_cnt_month']]\n",
    "\n",
    "X_train = train_data.loc[train_data.date_block_num <= 32]\n",
    "y_train = X_train['item_cnt_month']\n",
    "X_train = X_train.drop(columns=['item_cnt_month'])\n",
    "\n",
    "X_val = train_data.loc[train_data.date_block_num == 33]\n",
    "y_val = X_val['item_cnt_month']\n",
    "X_val = X_val.drop(columns=['item_cnt_month'])\n",
    "\n",
    "X_test = train_data.loc[train_data.date_block_num == 34]"
   ]
  },
  {
   "cell_type": "code",
   "execution_count": 37,
   "metadata": {},
   "outputs": [
    {
     "data": {
      "text/plain": [
       "3266"
      ]
     },
     "execution_count": 37,
     "metadata": {},
     "output_type": "execute_result"
    }
   ],
   "source": [
    "gc.collect()"
   ]
  },
  {
   "cell_type": "code",
   "execution_count": 6,
   "metadata": {},
   "outputs": [],
   "source": [
    "del all_data"
   ]
  },
  {
   "cell_type": "code",
   "execution_count": 38,
   "metadata": {},
   "outputs": [
    {
     "name": "stdout",
     "output_type": "stream",
     "text": [
      "[12:18:48] Tree method is selected to be 'hist', which uses a single updater grow_fast_histmaker.\n",
      "[0]\tvalidation_0-rmse:1.14715\tvalidation_1-rmse:1.1091\n",
      "Multiple eval metrics have been passed: 'validation_1-rmse' will be used for early stopping.\n",
      "\n",
      "Will train until validation_1-rmse hasn't improved in 5 rounds.\n",
      "[1]\tvalidation_0-rmse:1.09645\tvalidation_1-rmse:1.06778\n",
      "[2]\tvalidation_0-rmse:1.05663\tvalidation_1-rmse:1.0354\n",
      "[3]\tvalidation_0-rmse:1.01813\tvalidation_1-rmse:1.00331\n",
      "[4]\tvalidation_0-rmse:0.98499\tvalidation_1-rmse:0.97559\n",
      "[5]\tvalidation_0-rmse:0.958443\tvalidation_1-rmse:0.953339\n",
      "[6]\tvalidation_0-rmse:0.9352\tvalidation_1-rmse:0.934321\n",
      "[7]\tvalidation_0-rmse:0.913944\tvalidation_1-rmse:0.917471\n",
      "[8]\tvalidation_0-rmse:0.897074\tvalidation_1-rmse:0.907062\n",
      "[9]\tvalidation_0-rmse:0.881782\tvalidation_1-rmse:0.895003\n",
      "[10]\tvalidation_0-rmse:0.869188\tvalidation_1-rmse:0.883397\n",
      "[11]\tvalidation_0-rmse:0.858669\tvalidation_1-rmse:0.875254\n",
      "[12]\tvalidation_0-rmse:0.848437\tvalidation_1-rmse:0.868529\n",
      "[13]\tvalidation_0-rmse:0.840962\tvalidation_1-rmse:0.862752\n",
      "[14]\tvalidation_0-rmse:0.833364\tvalidation_1-rmse:0.856825\n",
      "[15]\tvalidation_0-rmse:0.827079\tvalidation_1-rmse:0.850722\n",
      "[16]\tvalidation_0-rmse:0.821412\tvalidation_1-rmse:0.846245\n",
      "[17]\tvalidation_0-rmse:0.81653\tvalidation_1-rmse:0.842319\n",
      "[18]\tvalidation_0-rmse:0.812454\tvalidation_1-rmse:0.838862\n",
      "[19]\tvalidation_0-rmse:0.808163\tvalidation_1-rmse:0.837125\n",
      "[20]\tvalidation_0-rmse:0.80475\tvalidation_1-rmse:0.834547\n",
      "[21]\tvalidation_0-rmse:0.801784\tvalidation_1-rmse:0.832557\n",
      "[22]\tvalidation_0-rmse:0.79904\tvalidation_1-rmse:0.830887\n",
      "[23]\tvalidation_0-rmse:0.796448\tvalidation_1-rmse:0.825504\n",
      "[24]\tvalidation_0-rmse:0.794027\tvalidation_1-rmse:0.81731\n",
      "[25]\tvalidation_0-rmse:0.791681\tvalidation_1-rmse:0.816799\n",
      "[26]\tvalidation_0-rmse:0.789681\tvalidation_1-rmse:0.814115\n",
      "[27]\tvalidation_0-rmse:0.787356\tvalidation_1-rmse:0.812928\n",
      "[28]\tvalidation_0-rmse:0.785708\tvalidation_1-rmse:0.812419\n",
      "[29]\tvalidation_0-rmse:0.783862\tvalidation_1-rmse:0.811348\n",
      "[30]\tvalidation_0-rmse:0.782361\tvalidation_1-rmse:0.810587\n",
      "[31]\tvalidation_0-rmse:0.781083\tvalidation_1-rmse:0.809552\n",
      "[32]\tvalidation_0-rmse:0.779974\tvalidation_1-rmse:0.807295\n",
      "[33]\tvalidation_0-rmse:0.778826\tvalidation_1-rmse:0.806615\n",
      "[34]\tvalidation_0-rmse:0.777544\tvalidation_1-rmse:0.805933\n",
      "[35]\tvalidation_0-rmse:0.776477\tvalidation_1-rmse:0.803781\n",
      "[36]\tvalidation_0-rmse:0.77536\tvalidation_1-rmse:0.803333\n",
      "[37]\tvalidation_0-rmse:0.774445\tvalidation_1-rmse:0.80299\n",
      "[38]\tvalidation_0-rmse:0.773662\tvalidation_1-rmse:0.803123\n",
      "[39]\tvalidation_0-rmse:0.772187\tvalidation_1-rmse:0.803592\n",
      "[40]\tvalidation_0-rmse:0.771249\tvalidation_1-rmse:0.80196\n",
      "[41]\tvalidation_0-rmse:0.770546\tvalidation_1-rmse:0.801662\n",
      "[42]\tvalidation_0-rmse:0.769302\tvalidation_1-rmse:0.801598\n",
      "[43]\tvalidation_0-rmse:0.768588\tvalidation_1-rmse:0.801728\n",
      "[44]\tvalidation_0-rmse:0.767326\tvalidation_1-rmse:0.801245\n",
      "[45]\tvalidation_0-rmse:0.7663\tvalidation_1-rmse:0.800775\n",
      "[46]\tvalidation_0-rmse:0.765878\tvalidation_1-rmse:0.800674\n",
      "[47]\tvalidation_0-rmse:0.764832\tvalidation_1-rmse:0.799069\n",
      "[48]\tvalidation_0-rmse:0.7641\tvalidation_1-rmse:0.799214\n",
      "[49]\tvalidation_0-rmse:0.763578\tvalidation_1-rmse:0.798928\n",
      "[50]\tvalidation_0-rmse:0.762631\tvalidation_1-rmse:0.798988\n",
      "[51]\tvalidation_0-rmse:0.762227\tvalidation_1-rmse:0.798878\n",
      "[52]\tvalidation_0-rmse:0.761776\tvalidation_1-rmse:0.798552\n",
      "[53]\tvalidation_0-rmse:0.761387\tvalidation_1-rmse:0.798335\n",
      "[54]\tvalidation_0-rmse:0.760566\tvalidation_1-rmse:0.797754\n",
      "[55]\tvalidation_0-rmse:0.760112\tvalidation_1-rmse:0.79761\n",
      "[56]\tvalidation_0-rmse:0.759511\tvalidation_1-rmse:0.797498\n",
      "[57]\tvalidation_0-rmse:0.759177\tvalidation_1-rmse:0.797267\n",
      "[58]\tvalidation_0-rmse:0.758623\tvalidation_1-rmse:0.796327\n",
      "[59]\tvalidation_0-rmse:0.757885\tvalidation_1-rmse:0.796332\n",
      "[60]\tvalidation_0-rmse:0.757478\tvalidation_1-rmse:0.796196\n",
      "[61]\tvalidation_0-rmse:0.756933\tvalidation_1-rmse:0.796022\n",
      "[62]\tvalidation_0-rmse:0.756346\tvalidation_1-rmse:0.79619\n",
      "[63]\tvalidation_0-rmse:0.755408\tvalidation_1-rmse:0.795933\n",
      "[64]\tvalidation_0-rmse:0.755079\tvalidation_1-rmse:0.795884\n",
      "[65]\tvalidation_0-rmse:0.754698\tvalidation_1-rmse:0.796115\n",
      "[66]\tvalidation_0-rmse:0.754485\tvalidation_1-rmse:0.795672\n",
      "[67]\tvalidation_0-rmse:0.754095\tvalidation_1-rmse:0.796076\n",
      "[68]\tvalidation_0-rmse:0.753406\tvalidation_1-rmse:0.795373\n",
      "[69]\tvalidation_0-rmse:0.752999\tvalidation_1-rmse:0.795433\n",
      "[70]\tvalidation_0-rmse:0.752703\tvalidation_1-rmse:0.795153\n",
      "[71]\tvalidation_0-rmse:0.751264\tvalidation_1-rmse:0.794797\n",
      "[72]\tvalidation_0-rmse:0.750941\tvalidation_1-rmse:0.794957\n",
      "[73]\tvalidation_0-rmse:0.75061\tvalidation_1-rmse:0.79502\n",
      "[74]\tvalidation_0-rmse:0.750062\tvalidation_1-rmse:0.794773\n",
      "[75]\tvalidation_0-rmse:0.749751\tvalidation_1-rmse:0.794667\n",
      "[76]\tvalidation_0-rmse:0.749017\tvalidation_1-rmse:0.794574\n",
      "[77]\tvalidation_0-rmse:0.748623\tvalidation_1-rmse:0.794557\n",
      "[78]\tvalidation_0-rmse:0.748231\tvalidation_1-rmse:0.794479\n",
      "[79]\tvalidation_0-rmse:0.747942\tvalidation_1-rmse:0.794544\n",
      "[80]\tvalidation_0-rmse:0.747553\tvalidation_1-rmse:0.794337\n",
      "[81]\tvalidation_0-rmse:0.746964\tvalidation_1-rmse:0.794339\n",
      "[82]\tvalidation_0-rmse:0.746744\tvalidation_1-rmse:0.79437\n",
      "[83]\tvalidation_0-rmse:0.746407\tvalidation_1-rmse:0.794586\n",
      "[84]\tvalidation_0-rmse:0.746111\tvalidation_1-rmse:0.794264\n",
      "[85]\tvalidation_0-rmse:0.745372\tvalidation_1-rmse:0.794066\n",
      "[86]\tvalidation_0-rmse:0.74482\tvalidation_1-rmse:0.793248\n",
      "[87]\tvalidation_0-rmse:0.744324\tvalidation_1-rmse:0.793114\n",
      "[88]\tvalidation_0-rmse:0.743921\tvalidation_1-rmse:0.793193\n",
      "[89]\tvalidation_0-rmse:0.743648\tvalidation_1-rmse:0.793111\n",
      "[90]\tvalidation_0-rmse:0.7431\tvalidation_1-rmse:0.793596\n",
      "[91]\tvalidation_0-rmse:0.742905\tvalidation_1-rmse:0.794333\n",
      "[92]\tvalidation_0-rmse:0.742487\tvalidation_1-rmse:0.79495\n",
      "[93]\tvalidation_0-rmse:0.742209\tvalidation_1-rmse:0.795143\n",
      "[94]\tvalidation_0-rmse:0.741457\tvalidation_1-rmse:0.795255\n",
      "Stopping. Best iteration:\n",
      "[89]\tvalidation_0-rmse:0.743648\tvalidation_1-rmse:0.793111\n",
      "\n"
     ]
    },
    {
     "data": {
      "text/plain": [
       "256.7015709877014"
      ]
     },
     "execution_count": 38,
     "metadata": {},
     "output_type": "execute_result"
    }
   ],
   "source": [
    "ts = time.time()\n",
    "\n",
    "xgb_model = XGBRegressor(\n",
    "    tree_method='hist',\n",
    "    max_depth=6, #8,\n",
    "    n_estimators=1000,\n",
    "    min_child_weight=100, #300, \n",
    "    colsample_bytree=0.8, \n",
    "    subsample=0.8, \n",
    "    eta=0.1, #0.3,    \n",
    "    seed=42)\n",
    "\n",
    "xgb_model.fit(\n",
    "    X_train, \n",
    "    y_train, \n",
    "    eval_metric=\"rmse\", \n",
    "    eval_set=[(X_train, y_train), (X_val, y_val)], \n",
    "    verbose=True, \n",
    "    early_stopping_rounds = 5) #10\n",
    "\n",
    "time.time() - ts #1.52 0.8"
   ]
  },
  {
   "cell_type": "code",
   "execution_count": 53,
   "metadata": {},
   "outputs": [
    {
     "data": {
      "text/plain": [
       "('item_cnt_month_item_lag_1', 30)"
      ]
     },
     "execution_count": 53,
     "metadata": {},
     "output_type": "execute_result"
    }
   ],
   "source": [
    "features[np.argmax(xgb_model.feature_importances_)], np.argmax(xgb_model.feature_importances_)"
   ]
  },
  {
   "cell_type": "code",
   "execution_count": 54,
   "metadata": {},
   "outputs": [],
   "source": [
    "val = []\n",
    "for idx, feat in enumerate(features):\n",
    "#    print(feat, xgb_model.feature_importances_[idx])\n",
    "    val.append(xgb_model.feature_importances_[idx])"
   ]
  },
  {
   "cell_type": "code",
   "execution_count": 55,
   "metadata": {
    "scrolled": false
   },
   "outputs": [
    {
     "name": "stdout",
     "output_type": "stream",
     "text": [
      "             0                                             1\n",
      "30   0.0578512                     item_cnt_month_item_lag_1\n",
      "3    0.0503931                                         month\n",
      "11   0.0411207                            item_shop_duration\n",
      "28   0.0399113                          item_cnt_month_lag_1\n",
      "9    0.0356783                       item_last_sale_dbn_shop\n",
      "19   0.0338641                      shop_id_item_id_mean_enc\n",
      "2    0.0302358                                date_block_num\n",
      "18   0.0284217                              item_id_mean_enc\n",
      "51   0.0272123                 item_cnt_month_item_trend_1_2\n",
      "23    0.024995             shop_id_item_category_id_mean_enc\n",
      "52    0.023584                  item_cnt_month_cat_trend_1_2\n",
      "24   0.0231808          item_general_category_label_mean_enc\n",
      "34   0.0225761                          item_cnt_month_lag_2\n",
      "56   0.0221729                 item_cnt_month_item_trend_1_3\n",
      "8    0.0205604                         item_release_dbn_shop\n",
      "1    0.0205604                                       item_id\n",
      "22   0.0197541                     item_category_id_mean_enc\n",
      "62   0.0195525                    item_cnt_month_predict_1_2\n",
      "27   0.0183431      shop_id_item_sub_category_label_mean_enc\n",
      "12   0.0167305                     item_release_market_shift\n",
      "64   0.0161258                 item_cnt_month_item_trend_3_6\n",
      "32   0.0159242                         item_price_mean_lag_1\n",
      "15   0.0159242                   item_general_category_label\n",
      "13   0.0157226                   item_last_sale_market_shift\n",
      "17   0.0153195                              shop_id_mean_enc\n",
      "14   0.0153195                              item_category_id\n",
      "53   0.0149163                     item_price_mean_trend_1_2\n",
      "25   0.0131022  shop_id_item_general_category_label_mean_enc\n",
      "10   0.0126991                          item_market_duration\n",
      "63   0.0118928                    item_cnt_month_predict_3_6\n",
      "..         ...                                           ...\n",
      "65   0.0102802                item_cnt_month_cat_predict_1_2\n",
      "16   0.0102802                       item_sub_category_label\n",
      "57   0.0100786                  item_cnt_month_cat_trend_1_3\n",
      "37   0.0094739                      item_cnt_month_cat_lag_2\n",
      "46   0.0094739                          item_cnt_month_lag_6\n",
      "36  0.00927232                     item_cnt_month_item_lag_2\n",
      "31  0.00927232                      item_cnt_month_cat_lag_1\n",
      "54  0.00866761                      item_price_max_trend_1_2\n",
      "59  0.00786132                      item_price_max_trend_1_3\n",
      "43  0.00765975                      item_cnt_month_cat_lag_3\n",
      "29  0.00765975                     item_cnt_month_shop_lag_1\n",
      "33   0.0072566                          item_price_max_lag_1\n",
      "42  0.00685346                     item_cnt_month_item_lag_3\n",
      "20  0.00665188                      shop_city_label_mean_enc\n",
      "67  0.00624874                item_cnt_month_cat_predict_3_6\n",
      "44  0.00564402                         item_price_mean_lag_3\n",
      "60  0.00564402                item_price_shop_mean_trend_1_3\n",
      "21  0.00564402                      shop_type_label_mean_enc\n",
      "0   0.00564402                                       shop_id\n",
      "5   0.00503931                              shop_opening_dbn\n",
      "38  0.00483773                         item_price_mean_lag_2\n",
      "35  0.00483773                     item_cnt_month_shop_lag_2\n",
      "39  0.00463616                          item_price_max_lag_2\n",
      "7   0.00403145                            item_last_sale_dbn\n",
      "61  0.00382987                 item_price_shop_max_trend_1_3\n",
      "49  0.00322516                         item_price_mean_lag_6\n",
      "47  0.00282201                     item_cnt_month_shop_lag_6\n",
      "41  0.00201572                     item_cnt_month_shop_lag_3\n",
      "45  0.00181415                          item_price_max_lag_3\n",
      "48  0.00161258                      item_cnt_month_cat_lag_6\n",
      "\n",
      "[68 rows x 2 columns]\n"
     ]
    }
   ],
   "source": [
    "print(pd.DataFrame([pd.Series(val), pd.Series(features)]).transpose().sort_values(by=0, ascending=False))"
   ]
  },
  {
   "cell_type": "code",
   "execution_count": 51,
   "metadata": {},
   "outputs": [
    {
     "data": {
      "text/plain": [
       "<matplotlib.axes._subplots.AxesSubplot at 0x7f4c69f98c50>"
      ]
     },
     "execution_count": 51,
     "metadata": {},
     "output_type": "execute_result"
    },
    {
     "data": {
      "image/png": "[encoded data removed]",
      "text/plain": [
       "<Figure size 360x1440 with 1 Axes>"
      ]
     },
     "metadata": {
      "needs_background": "light"
     },
     "output_type": "display_data"
    }
   ],
   "source": [
    "rcParams['figure.figsize'] = 5, 20\n",
    "plot_importance(xgb_model, max_num_features=len(features))"
   ]
  },
  {
   "cell_type": "code",
   "execution_count": 43,
   "metadata": {},
   "outputs": [],
   "source": [
    "X_test = X_test[features]\n",
    "X_test['item_cnt_month']  =  xgb_model.predict(X_test).clip(0, 20)"
   ]
  },
  {
   "cell_type": "code",
   "execution_count": 44,
   "metadata": {},
   "outputs": [
    {
     "data": {
      "text/plain": [
       "<matplotlib.axes._subplots.AxesSubplot at 0x7f4c68029b70>"
      ]
     },
     "execution_count": 44,
     "metadata": {},
     "output_type": "execute_result"
    },
    {
     "data": {
      "image/png": "[encoded data removed]",
      "text/plain": [
       "<Figure size 720x360 with 1 Axes>"
      ]
     },
     "metadata": {
      "needs_background": "light"
     },
     "output_type": "display_data"
    }
   ],
   "source": [
    "rcParams['figure.figsize'] = 10, 5\n",
    "\n",
    "X_test['item_cnt_month'].plot.hist(bins=50, xlim=[0, 20], logy = True)"
   ]
  },
  {
   "cell_type": "code",
   "execution_count": 45,
   "metadata": {
    "scrolled": true
   },
   "outputs": [],
   "source": [
    "subm = pd.concat([all_data.loc[all_data.date_block_num == 34]['ID'].astype(np.int32), X_test.item_cnt_month], axis=1).sort_values('ID').reset_index(drop=True)\n",
    "subm.to_csv('./submissions/subm_V167_xgb.csv', index=False)"
   ]
  }
 ],
 "metadata": {
  "hw_version": "1.0.0",
  "kernelspec": {
   "display_name": "Python 3",
   "language": "python",
   "name": "python3"
  },
  "language_info": {
   "codemirror_mode": {
    "name": "ipython",
    "version": 3
   },
   "file_extension": ".py",
   "mimetype": "text/x-python",
   "name": "python",
   "nbconvert_exporter": "python",
   "pygments_lexer": "ipython3",
   "version": "3.6.8"
  }
 },
 "nbformat": 4,
 "nbformat_minor": 2
}
